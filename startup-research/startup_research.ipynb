{
 "cells": [
  {
   "cell_type": "markdown",
   "metadata": {
    "id": "4mJbK1knrJgz"
   },
   "source": [
    "# Проект: Исследование стартапов\n",
    "\n",
    "Автор: Шагитова Камила\n",
    "\n",
    "Дата: 26.02.2025"
   ]
  },
  {
   "cell_type": "markdown",
   "metadata": {
    "id": "P6j0r3worJg0",
    "jp-MarkdownHeadingCollapsed": true
   },
   "source": [
    "## Введение"
   ]
  },
  {
   "cell_type": "markdown",
   "metadata": {
    "id": "8lQtbsIUyFG6"
   },
   "source": [
    "## Цель и задачи  \n",
    "\n",
    "**Цель:** Подготовить датасет для анализа инвестиционных решений и проверить его на полноту, согласованность и соответствие бизнес-логике. Дать ответы на ключевые вопросы заказчика, касающиеся предобработки данных, достоверности информации и значимости различных факторов для оценки перспективности стартапов.\n",
    "\n",
    "**Задачи:**\n",
    "1. Определить, по каким столбцам можно корректно объединять таблицы;\n",
    "2. Проверить, можно ли доверять информации о сотрудниках стартапов и их образованиии\n",
    "3. Разобраться, что означают сделки с ценой 0 или 1 доллар и насколько они репрезентативныа\n",
    "4. Рассчитатькая уена в зависимости от категории стартапов и количества раундов финансирования перед его покупк\n",
    "5. Рак рассчитать и отобразить численные показатели и динамику.\n",
    "\n",
    "\n",
    "## Данные\n",
    "\n",
    "Данные состоят из 7 датасетов:\n",
    "\n",
    "- `acquisition.csv` - содержит информацию о покупках одними компаниями других компаний;\n",
    "- `company_and_rounds.csv` - содержит информацию о компаниях и раундах финансирования;\n",
    "- `degrees.csv` - содержит информацию об образовании сотрудника;\n",
    "- `people.csv` - содержит информацию о сотрудниках;\n",
    "- `degrees.csv` - содержит информацию о типе образования сотрудника;\n",
    "  \n",
    "  Доп. таблицы:\n",
    "- `fund.csv` - содержит информацию о фондах;\n",
    "- `invesment.csv` - содержит информацию о раундах инвестирования.\n",
    "\n",
    "### Описание датасета `acquisition`\n",
    "- id — идентификатор покупки;\n",
    "- acquiring_company_id — идентификатор покупающей компании;\n",
    "- acquired_company_id — идентификатор покупаемой компании;\n",
    "- term_code — варианты расчета;\n",
    "- price_amount — сумма сделки;\n",
    "- acquired_at — дата сделки.\n",
    "\n",
    "### Описание датасета `company_and_rounds`\n",
    "- company ID — идентификатор компании;\n",
    "- name — название компании;\n",
    "- category code — категория области деятельности компании;\n",
    "- status — статус компании; \n",
    "- founded at — дата инвестирования;\n",
    "- closed at — дата закрытия компании;\n",
    "- domain — официальный сайт компании;\n",
    "- network username — ник компании в сети.\n",
    "- country code — код страны компании.\n",
    "- investment rounds — число инвестиционных раундов.\n",
    "- funding rounds — число раундов финансирования.\n",
    "- funding total — сумма финансирования.\n",
    "- milestones — вехи финансирования.\n",
    "- funding round id — идентификатор этапа финансирования.\n",
    "- company id — идентификатор компании.\n",
    "- funded at — дата финансирования.\n",
    "- funding round type — тип финансирования.\n",
    "- raised amount — сумма финансирования.\n",
    "- pre money valuation — предварительная денежная оценка.\n",
    "- participants — число участников.\n",
    "- is first round — является ли раунд первым.\n",
    "- is last round — является раунд последним.\n",
    "\n",
    "### Описание датасета `education`\n",
    "- id - идентификатор записи об образовании.\n",
    "- person_id — идентификатор работника.\n",
    "- instituition — название учебного заведения.\n",
    "- graduated_at — дата получения образования.\n",
    "\n",
    "### Описание датасета `people`\n",
    "- id — идентификатор сотрудника.\n",
    "- first_name — имя сотрудника.\n",
    "- last_name — фамилия сотрудника.\n",
    "- company_id — идентификатор компании.\n",
    "- network_username — ник в социальных сетях.\n",
    "\n",
    "### Описание датасета `degrees`\n",
    "- id — идентификатор записи.\n",
    "- object_id — идентификатор сотрудника.\n",
    "- degree_type — тип образования.\n",
    "- subject — специальность.\n",
    "\n",
    "### Дополнительные таблицы\n",
    "### Описание датасета `fund`\n",
    "- id — идентификатор фонда.\n",
    "- name — название фонда.\n",
    "- category_code — категория области деятельности компании.\n",
    "- founded_at — дата создания фонда.\n",
    "- domain — сайт фонда.\n",
    "- network_username — ник фонда в сети.\n",
    "- country_code — код страны фонда.\n",
    "- investment_rounds — число инвестиционных раундов.\n",
    "- invested_companies — число профинансированных компаний.\n",
    "- milestones — вехи финансирования.\n",
    "\n",
    "### Описание датасета `investment`\n",
    "- id — идентификатор этапа инвестирования.\n",
    "- funding_round_id — идентификатор раунда инвестирования.\n",
    "- company_id — индентификатор компании.\n",
    "- funding_round_type — тип финансирования.\n",
    "- fund_id — идентификатор фонда.\n",
    "\n",
    "## Структура проекта\n",
    "\n",
    "1. Загрузка данных и знакомство с ними.\n",
    "2. Предобработка данных.\n",
    "3. Исследовательский анализ данных.\n",
    "4. Итоговые выводы.\n",
    "\n",
    "---"
   ]
  },
  {
   "cell_type": "markdown",
   "metadata": {
    "id": "xqr6uttCrJg0"
   },
   "source": [
    "\n",
    "## Шаг 1. Знакомство с данными: загрузка и первичная предобработка\n",
    "\n",
    "Названия файлов:\n",
    "* acquisition.csv\n",
    "* company_and_rounds.csv\n",
    "* degrees.csv\n",
    "* education.csv\n",
    "* fund.csv\n",
    "* investment.csv\n",
    "* people.csv\n",
    "\n",
    "### 1.1. Вывод общей информации, исправление названия столбцов"
   ]
  },
  {
   "cell_type": "code",
   "execution_count": 117,
   "metadata": {
    "id": "4u9np9gSnyqT"
   },
   "outputs": [],
   "source": [
    "# Импортируем библиотеки\n",
    "import pandas as pd\n",
    "\n",
    "# Библиотеки для визуализации данных\n",
    "import matplotlib.pyplot as plt\n",
    "import seaborn as sns\n",
    "from matplotlib_venn import venn2, venn3"
   ]
  },
  {
   "cell_type": "code",
   "execution_count": 118,
   "metadata": {},
   "outputs": [],
   "source": [
    "# Форматируем вывод чисел типа float\n",
    "pd.set_option('display.float_format', '{:,.2f}'.format)"
   ]
  },
  {
   "cell_type": "code",
   "execution_count": 119,
   "metadata": {
    "id": "W_W4jRazrJg0"
   },
   "outputs": [],
   "source": [
    "# Выгружаем данные\n",
    "PATH = \"datasets/\"\n",
    "acquisition = pd.read_csv(PATH + 'acquisition.csv')\n",
    "company_and_rounds = pd.read_csv(PATH + 'company_and_rounds.csv')\n",
    "degrees = pd.read_csv(PATH + 'degrees.csv')\n",
    "education = pd.read_csv(PATH + 'education.csv')\n",
    "fund = pd.read_csv(PATH + 'fund.csv')\n",
    "investment = pd.read_csv(PATH + 'investment.csv')\n",
    "people = pd.read_csv(PATH + 'people.csv')"
   ]
  },
  {
   "cell_type": "code",
   "execution_count": 120,
   "metadata": {},
   "outputs": [
    {
     "data": {
      "text/html": [
       "<div>\n",
       "<style scoped>\n",
       "    .dataframe tbody tr th:only-of-type {\n",
       "        vertical-align: middle;\n",
       "    }\n",
       "\n",
       "    .dataframe tbody tr th {\n",
       "        vertical-align: top;\n",
       "    }\n",
       "\n",
       "    .dataframe thead th {\n",
       "        text-align: right;\n",
       "    }\n",
       "</style>\n",
       "<table border=\"1\" class=\"dataframe\">\n",
       "  <thead>\n",
       "    <tr style=\"text-align: right;\">\n",
       "      <th></th>\n",
       "      <th>id</th>\n",
       "      <th>acquiring_company_id</th>\n",
       "      <th>acquired_company_id</th>\n",
       "      <th>term_code</th>\n",
       "      <th>price_amount</th>\n",
       "      <th>acquired_at</th>\n",
       "    </tr>\n",
       "  </thead>\n",
       "  <tbody>\n",
       "    <tr>\n",
       "      <th>0</th>\n",
       "      <td>1</td>\n",
       "      <td>11</td>\n",
       "      <td>10</td>\n",
       "      <td>NaN</td>\n",
       "      <td>20000000</td>\n",
       "      <td>2007-05-30</td>\n",
       "    </tr>\n",
       "    <tr>\n",
       "      <th>1</th>\n",
       "      <td>7</td>\n",
       "      <td>59</td>\n",
       "      <td>72</td>\n",
       "      <td>cash</td>\n",
       "      <td>60000000</td>\n",
       "      <td>2007-07-01</td>\n",
       "    </tr>\n",
       "    <tr>\n",
       "      <th>2</th>\n",
       "      <td>8</td>\n",
       "      <td>24</td>\n",
       "      <td>132</td>\n",
       "      <td>cash</td>\n",
       "      <td>280000000</td>\n",
       "      <td>2007-05-01</td>\n",
       "    </tr>\n",
       "    <tr>\n",
       "      <th>3</th>\n",
       "      <td>9</td>\n",
       "      <td>59</td>\n",
       "      <td>155</td>\n",
       "      <td>cash</td>\n",
       "      <td>100000000</td>\n",
       "      <td>2007-06-01</td>\n",
       "    </tr>\n",
       "    <tr>\n",
       "      <th>4</th>\n",
       "      <td>10</td>\n",
       "      <td>212</td>\n",
       "      <td>215</td>\n",
       "      <td>cash</td>\n",
       "      <td>25000000</td>\n",
       "      <td>2007-07-01</td>\n",
       "    </tr>\n",
       "  </tbody>\n",
       "</table>\n",
       "</div>"
      ],
      "text/plain": [
       "   id  acquiring_company_id  acquired_company_id term_code  price_amount  \\\n",
       "0   1                    11                   10       NaN      20000000   \n",
       "1   7                    59                   72      cash      60000000   \n",
       "2   8                    24                  132      cash     280000000   \n",
       "3   9                    59                  155      cash     100000000   \n",
       "4  10                   212                  215      cash      25000000   \n",
       "\n",
       "  acquired_at  \n",
       "0  2007-05-30  \n",
       "1  2007-07-01  \n",
       "2  2007-05-01  \n",
       "3  2007-06-01  \n",
       "4  2007-07-01  "
      ]
     },
     "execution_count": 120,
     "metadata": {},
     "output_type": "execute_result"
    }
   ],
   "source": [
    "acquisition.head()"
   ]
  },
  {
   "cell_type": "code",
   "execution_count": 121,
   "metadata": {},
   "outputs": [
    {
     "name": "stdout",
     "output_type": "stream",
     "text": [
      "<class 'pandas.core.frame.DataFrame'>\n",
      "RangeIndex: 9407 entries, 0 to 9406\n",
      "Data columns (total 6 columns):\n",
      " #   Column                Non-Null Count  Dtype \n",
      "---  ------                --------------  ----- \n",
      " 0   id                    9407 non-null   int64 \n",
      " 1   acquiring_company_id  9407 non-null   int64 \n",
      " 2   acquired_company_id   9407 non-null   int64 \n",
      " 3   term_code             1831 non-null   object\n",
      " 4   price_amount          9407 non-null   int64 \n",
      " 5   acquired_at           9378 non-null   object\n",
      "dtypes: int64(4), object(2)\n",
      "memory usage: 441.1+ KB\n"
     ]
    }
   ],
   "source": [
    "# Выводим информацию о датафрейме\n",
    "acquisition.info()"
   ]
  },
  {
   "cell_type": "markdown",
   "metadata": {},
   "source": [
    "Датасет содержит 6 столбцов и 9407 строк, в которых содержится информация о покупках одними компаниями других компаний.\n",
    "\n",
    "* Тип данных столбца `acquired_at` следует привести к типу данных `datetime64`, так как столбец хранит информацию о дате сделки.\n",
    "* Есть пропуски в столбцах `term_code` и `acquired_at`"
   ]
  },
  {
   "cell_type": "code",
   "execution_count": 122,
   "metadata": {},
   "outputs": [
    {
     "data": {
      "text/html": [
       "<div>\n",
       "<style scoped>\n",
       "    .dataframe tbody tr th:only-of-type {\n",
       "        vertical-align: middle;\n",
       "    }\n",
       "\n",
       "    .dataframe tbody tr th {\n",
       "        vertical-align: top;\n",
       "    }\n",
       "\n",
       "    .dataframe thead th {\n",
       "        text-align: right;\n",
       "    }\n",
       "</style>\n",
       "<table border=\"1\" class=\"dataframe\">\n",
       "  <thead>\n",
       "    <tr style=\"text-align: right;\">\n",
       "      <th></th>\n",
       "      <th>company  ID</th>\n",
       "      <th>name</th>\n",
       "      <th>category  code</th>\n",
       "      <th>status</th>\n",
       "      <th>founded  at</th>\n",
       "      <th>closed  at</th>\n",
       "      <th>domain</th>\n",
       "      <th>network  username</th>\n",
       "      <th>country  code</th>\n",
       "      <th>investment  rounds</th>\n",
       "      <th>...</th>\n",
       "      <th>milestones</th>\n",
       "      <th>funding  round  id</th>\n",
       "      <th>company  id</th>\n",
       "      <th>funded  at</th>\n",
       "      <th>funding  round  type</th>\n",
       "      <th>raised  amount</th>\n",
       "      <th>pre  money  valuation</th>\n",
       "      <th>participants</th>\n",
       "      <th>is  first  round</th>\n",
       "      <th>is  last  round</th>\n",
       "    </tr>\n",
       "  </thead>\n",
       "  <tbody>\n",
       "    <tr>\n",
       "      <th>0</th>\n",
       "      <td>1.00</td>\n",
       "      <td>Wetpaint</td>\n",
       "      <td>web</td>\n",
       "      <td>operating</td>\n",
       "      <td>2005-10-17</td>\n",
       "      <td>NaN</td>\n",
       "      <td>wetpaint-inc.com</td>\n",
       "      <td>BachelrWetpaint</td>\n",
       "      <td>USA</td>\n",
       "      <td>0.00</td>\n",
       "      <td>...</td>\n",
       "      <td>5.00</td>\n",
       "      <td>888.00</td>\n",
       "      <td>1.00</td>\n",
       "      <td>2005-10-01</td>\n",
       "      <td>series-a</td>\n",
       "      <td>5,250,000.00</td>\n",
       "      <td>0.00</td>\n",
       "      <td>2.00</td>\n",
       "      <td>0.00</td>\n",
       "      <td>1.00</td>\n",
       "    </tr>\n",
       "    <tr>\n",
       "      <th>1</th>\n",
       "      <td>1.00</td>\n",
       "      <td>Wetpaint</td>\n",
       "      <td>web</td>\n",
       "      <td>operating</td>\n",
       "      <td>2005-10-17</td>\n",
       "      <td>NaN</td>\n",
       "      <td>wetpaint-inc.com</td>\n",
       "      <td>BachelrWetpaint</td>\n",
       "      <td>USA</td>\n",
       "      <td>0.00</td>\n",
       "      <td>...</td>\n",
       "      <td>5.00</td>\n",
       "      <td>889.00</td>\n",
       "      <td>1.00</td>\n",
       "      <td>2007-01-01</td>\n",
       "      <td>series-b</td>\n",
       "      <td>9,500,000.00</td>\n",
       "      <td>0.00</td>\n",
       "      <td>3.00</td>\n",
       "      <td>0.00</td>\n",
       "      <td>0.00</td>\n",
       "    </tr>\n",
       "    <tr>\n",
       "      <th>2</th>\n",
       "      <td>1.00</td>\n",
       "      <td>Wetpaint</td>\n",
       "      <td>web</td>\n",
       "      <td>operating</td>\n",
       "      <td>2005-10-17</td>\n",
       "      <td>NaN</td>\n",
       "      <td>wetpaint-inc.com</td>\n",
       "      <td>BachelrWetpaint</td>\n",
       "      <td>USA</td>\n",
       "      <td>0.00</td>\n",
       "      <td>...</td>\n",
       "      <td>5.00</td>\n",
       "      <td>2,312.00</td>\n",
       "      <td>1.00</td>\n",
       "      <td>2008-05-19</td>\n",
       "      <td>series-c+</td>\n",
       "      <td>25,000,000.00</td>\n",
       "      <td>0.00</td>\n",
       "      <td>4.00</td>\n",
       "      <td>1.00</td>\n",
       "      <td>0.00</td>\n",
       "    </tr>\n",
       "    <tr>\n",
       "      <th>3</th>\n",
       "      <td>10.00</td>\n",
       "      <td>Flektor</td>\n",
       "      <td>games_video</td>\n",
       "      <td>acquired</td>\n",
       "      <td>NaN</td>\n",
       "      <td>NaN</td>\n",
       "      <td>flektor.com</td>\n",
       "      <td>NaN</td>\n",
       "      <td>USA</td>\n",
       "      <td>0.00</td>\n",
       "      <td>...</td>\n",
       "      <td>0.00</td>\n",
       "      <td>NaN</td>\n",
       "      <td>NaN</td>\n",
       "      <td>NaN</td>\n",
       "      <td>NaN</td>\n",
       "      <td>NaN</td>\n",
       "      <td>NaN</td>\n",
       "      <td>NaN</td>\n",
       "      <td>NaN</td>\n",
       "      <td>NaN</td>\n",
       "    </tr>\n",
       "    <tr>\n",
       "      <th>4</th>\n",
       "      <td>100.00</td>\n",
       "      <td>There</td>\n",
       "      <td>games_video</td>\n",
       "      <td>acquired</td>\n",
       "      <td>NaN</td>\n",
       "      <td>NaN</td>\n",
       "      <td>there.com</td>\n",
       "      <td>NaN</td>\n",
       "      <td>USA</td>\n",
       "      <td>0.00</td>\n",
       "      <td>...</td>\n",
       "      <td>4.00</td>\n",
       "      <td>NaN</td>\n",
       "      <td>NaN</td>\n",
       "      <td>NaN</td>\n",
       "      <td>NaN</td>\n",
       "      <td>NaN</td>\n",
       "      <td>NaN</td>\n",
       "      <td>NaN</td>\n",
       "      <td>NaN</td>\n",
       "      <td>NaN</td>\n",
       "    </tr>\n",
       "  </tbody>\n",
       "</table>\n",
       "<p>5 rows × 22 columns</p>\n",
       "</div>"
      ],
      "text/plain": [
       "   company  ID      name category  code     status founded  at closed  at  \\\n",
       "0         1.00  Wetpaint            web  operating  2005-10-17        NaN   \n",
       "1         1.00  Wetpaint            web  operating  2005-10-17        NaN   \n",
       "2         1.00  Wetpaint            web  operating  2005-10-17        NaN   \n",
       "3        10.00   Flektor    games_video   acquired         NaN        NaN   \n",
       "4       100.00     There    games_video   acquired         NaN        NaN   \n",
       "\n",
       "             domain network  username country  code  investment  rounds  ...  \\\n",
       "0  wetpaint-inc.com   BachelrWetpaint           USA                0.00  ...   \n",
       "1  wetpaint-inc.com   BachelrWetpaint           USA                0.00  ...   \n",
       "2  wetpaint-inc.com   BachelrWetpaint           USA                0.00  ...   \n",
       "3       flektor.com               NaN           USA                0.00  ...   \n",
       "4         there.com               NaN           USA                0.00  ...   \n",
       "\n",
       "   milestones  funding  round  id  company  id  funded  at  \\\n",
       "0        5.00              888.00         1.00  2005-10-01   \n",
       "1        5.00              889.00         1.00  2007-01-01   \n",
       "2        5.00            2,312.00         1.00  2008-05-19   \n",
       "3        0.00                 NaN          NaN         NaN   \n",
       "4        4.00                 NaN          NaN         NaN   \n",
       "\n",
       "   funding  round  type raised  amount pre  money  valuation  participants  \\\n",
       "0              series-a   5,250,000.00                  0.00          2.00   \n",
       "1              series-b   9,500,000.00                  0.00          3.00   \n",
       "2             series-c+  25,000,000.00                  0.00          4.00   \n",
       "3                   NaN            NaN                   NaN           NaN   \n",
       "4                   NaN            NaN                   NaN           NaN   \n",
       "\n",
       "   is  first  round  is  last  round  \n",
       "0              0.00             1.00  \n",
       "1              0.00             0.00  \n",
       "2              1.00             0.00  \n",
       "3               NaN              NaN  \n",
       "4               NaN              NaN  \n",
       "\n",
       "[5 rows x 22 columns]"
      ]
     },
     "execution_count": 122,
     "metadata": {},
     "output_type": "execute_result"
    }
   ],
   "source": [
    "company_and_rounds.head()"
   ]
  },
  {
   "cell_type": "code",
   "execution_count": 123,
   "metadata": {},
   "outputs": [
    {
     "name": "stdout",
     "output_type": "stream",
     "text": [
      "<class 'pandas.core.frame.DataFrame'>\n",
      "RangeIndex: 217774 entries, 0 to 217773\n",
      "Data columns (total 22 columns):\n",
      " #   Column                 Non-Null Count   Dtype  \n",
      "---  ------                 --------------   -----  \n",
      " 0   company  ID            217472 non-null  float64\n",
      " 1   name                   217471 non-null  object \n",
      " 2   category  code         143886 non-null  object \n",
      " 3   status                 217472 non-null  object \n",
      " 4   founded  at            109956 non-null  object \n",
      " 5   closed  at             3449 non-null    object \n",
      " 6   domain                 147159 non-null  object \n",
      " 7   network  username      95534 non-null   object \n",
      " 8   country  code          108607 non-null  object \n",
      " 9   investment  rounds     217472 non-null  float64\n",
      " 10  funding  rounds        217472 non-null  float64\n",
      " 11  funding  total         217472 non-null  float64\n",
      " 12  milestones             217472 non-null  float64\n",
      " 13  funding  round  id     52928 non-null   float64\n",
      " 14  company  id            52928 non-null   float64\n",
      " 15  funded  at             52680 non-null   object \n",
      " 16  funding  round  type   52928 non-null   object \n",
      " 17  raised  amount         52928 non-null   float64\n",
      " 18  pre  money  valuation  52928 non-null   float64\n",
      " 19  participants           52928 non-null   float64\n",
      " 20  is  first  round       52928 non-null   float64\n",
      " 21  is  last  round        52928 non-null   float64\n",
      "dtypes: float64(12), object(10)\n",
      "memory usage: 36.6+ MB\n"
     ]
    }
   ],
   "source": [
    "# Выводим информацию о датафрейме\n",
    "company_and_rounds.info()"
   ]
  },
  {
   "cell_type": "markdown",
   "metadata": {},
   "source": [
    "Датасет содержит 22 столбца и 217774 строки, в которых содержится информация о компаниях и раундах финансирования:\n",
    "- Названия столбцов следует привести к стилю snake case;\n",
    "- Тип данных столбцов `founded_at`, `closed_at`, `funded_at` следует привести к типу данных `datetime64`, так как столбец хранит информацию о датах.\n",
    "- Также можно заметить, что во всех столбцах датасета присутствуют пропуски.\n",
    "  \n"
   ]
  },
  {
   "cell_type": "markdown",
   "metadata": {},
   "source": [
    "Можно заметить, что в датасете присутствуют два столбца с практически одинаковыми названиями `company  ID` и `company  id`. Проверим насколько они совпадают:"
   ]
  },
  {
   "cell_type": "code",
   "execution_count": 124,
   "metadata": {},
   "outputs": [
    {
     "data": {
      "image/png": "[encoded data removed]",
      "text/plain": [
       "<Figure size 640x480 with 1 Axes>"
      ]
     },
     "metadata": {},
     "output_type": "display_data"
    }
   ],
   "source": [
    "first_id = set(company_and_rounds['company  ID'].dropna().unique()) \n",
    "second_id = set(company_and_rounds['company  id'].dropna().unique())\n",
    "#Строим диаграмму Венна\n",
    "venn2([first_id, second_id], set_labels=('company  ID', 'company  id'))\n",
    "\n",
    "#Отображаем график\n",
    "plt.title(\"Пересечение значений столбцов company_ID и company_id\")\n",
    "plt.show()"
   ]
  },
  {
   "cell_type": "markdown",
   "metadata": {},
   "source": [
    "Два столбца частично пересекаются, но не являются полностью идентичными.\n",
    "\n",
    "* В столбце company ID (большой круг) содержится 164 846 уникальных значений, которые отсутствуют в company id.\n",
    "* В company id (маленький круг) есть 232 уникальных значения, которых нет в company ID.\n",
    "* Совпадают 31 707 значений, что указывает на частичное пересечение.\n",
    "\n",
    "Скорее всего столбец company id относится к раундам финансирования, проверим это при дальнейшем анализе."
   ]
  },
  {
   "cell_type": "code",
   "execution_count": 125,
   "metadata": {},
   "outputs": [
    {
     "data": {
      "text/plain": [
       "Index(['company_ID', 'name', 'category_code', 'status', 'founded_at',\n",
       "       'closed_at', 'domain', 'network_username', 'country_code',\n",
       "       'investment_rounds', 'funding_rounds', 'funding_total', 'milestones',\n",
       "       'funding_round_id', 'company_id', 'funded_at', 'funding_round_type',\n",
       "       'raised_amount', 'pre_money_valuation', 'participants',\n",
       "       'is_first_round', 'is_last_round'],\n",
       "      dtype='object')"
      ]
     },
     "execution_count": 125,
     "metadata": {},
     "output_type": "execute_result"
    }
   ],
   "source": [
    "# Приводим названия столбцов к стилю snake case\n",
    "company_and_rounds.columns = company_and_rounds.columns.str.replace('  ', '_')\n",
    "company_and_rounds.columns"
   ]
  },
  {
   "cell_type": "code",
   "execution_count": 126,
   "metadata": {},
   "outputs": [
    {
     "data": {
      "text/html": [
       "<div>\n",
       "<style scoped>\n",
       "    .dataframe tbody tr th:only-of-type {\n",
       "        vertical-align: middle;\n",
       "    }\n",
       "\n",
       "    .dataframe tbody tr th {\n",
       "        vertical-align: top;\n",
       "    }\n",
       "\n",
       "    .dataframe thead th {\n",
       "        text-align: right;\n",
       "    }\n",
       "</style>\n",
       "<table border=\"1\" class=\"dataframe\">\n",
       "  <thead>\n",
       "    <tr style=\"text-align: right;\">\n",
       "      <th></th>\n",
       "      <th>id</th>\n",
       "      <th>person_id</th>\n",
       "      <th>instituition</th>\n",
       "      <th>graduated_at</th>\n",
       "    </tr>\n",
       "  </thead>\n",
       "  <tbody>\n",
       "    <tr>\n",
       "      <th>0</th>\n",
       "      <td>1</td>\n",
       "      <td>6117</td>\n",
       "      <td>NaN</td>\n",
       "      <td>NaN</td>\n",
       "    </tr>\n",
       "    <tr>\n",
       "      <th>1</th>\n",
       "      <td>2</td>\n",
       "      <td>6136</td>\n",
       "      <td>Washington University, St. Louis</td>\n",
       "      <td>1990-01-01</td>\n",
       "    </tr>\n",
       "    <tr>\n",
       "      <th>2</th>\n",
       "      <td>3</td>\n",
       "      <td>6136</td>\n",
       "      <td>Boston University</td>\n",
       "      <td>1992-01-01</td>\n",
       "    </tr>\n",
       "    <tr>\n",
       "      <th>3</th>\n",
       "      <td>4</td>\n",
       "      <td>6005</td>\n",
       "      <td>University of Greenwich</td>\n",
       "      <td>2006-01-01</td>\n",
       "    </tr>\n",
       "    <tr>\n",
       "      <th>4</th>\n",
       "      <td>5</td>\n",
       "      <td>5832</td>\n",
       "      <td>Rice University</td>\n",
       "      <td>NaN</td>\n",
       "    </tr>\n",
       "  </tbody>\n",
       "</table>\n",
       "</div>"
      ],
      "text/plain": [
       "   id  person_id                      instituition graduated_at\n",
       "0   1       6117                               NaN          NaN\n",
       "1   2       6136  Washington University, St. Louis   1990-01-01\n",
       "2   3       6136                 Boston University   1992-01-01\n",
       "3   4       6005           University of Greenwich   2006-01-01\n",
       "4   5       5832                   Rice University          NaN"
      ]
     },
     "execution_count": 126,
     "metadata": {},
     "output_type": "execute_result"
    }
   ],
   "source": [
    "education.head()"
   ]
  },
  {
   "cell_type": "code",
   "execution_count": 127,
   "metadata": {},
   "outputs": [
    {
     "name": "stdout",
     "output_type": "stream",
     "text": [
      "<class 'pandas.core.frame.DataFrame'>\n",
      "RangeIndex: 109610 entries, 0 to 109609\n",
      "Data columns (total 4 columns):\n",
      " #   Column        Non-Null Count   Dtype \n",
      "---  ------        --------------   ----- \n",
      " 0   id            109610 non-null  int64 \n",
      " 1   person_id     109610 non-null  int64 \n",
      " 2   instituition  109555 non-null  object\n",
      " 3   graduated_at  58054 non-null   object\n",
      "dtypes: int64(2), object(2)\n",
      "memory usage: 3.3+ MB\n"
     ]
    }
   ],
   "source": [
    "# Выводим информацию о датафрейме\n",
    "education.info()"
   ]
  },
  {
   "cell_type": "markdown",
   "metadata": {},
   "source": [
    "Датасет содержит 4 столбца и 109610 строк, в которых содержится информация об образовании сотрудника.\n",
    "- Тип данных столбца `graduated_at` следует привести к типу данных `datetime64`, так как столбец хранит информацию о датах;\n",
    "- Также в этом столбце довольно большое кол-во пропусков."
   ]
  },
  {
   "cell_type": "code",
   "execution_count": 128,
   "metadata": {},
   "outputs": [
    {
     "data": {
      "text/html": [
       "<div>\n",
       "<style scoped>\n",
       "    .dataframe tbody tr th:only-of-type {\n",
       "        vertical-align: middle;\n",
       "    }\n",
       "\n",
       "    .dataframe tbody tr th {\n",
       "        vertical-align: top;\n",
       "    }\n",
       "\n",
       "    .dataframe thead th {\n",
       "        text-align: right;\n",
       "    }\n",
       "</style>\n",
       "<table border=\"1\" class=\"dataframe\">\n",
       "  <thead>\n",
       "    <tr style=\"text-align: right;\">\n",
       "      <th></th>\n",
       "      <th>id</th>\n",
       "      <th>first_name</th>\n",
       "      <th>last_name</th>\n",
       "      <th>company_id</th>\n",
       "      <th>network_username</th>\n",
       "    </tr>\n",
       "  </thead>\n",
       "  <tbody>\n",
       "    <tr>\n",
       "      <th>0</th>\n",
       "      <td>10</td>\n",
       "      <td>Mark</td>\n",
       "      <td>Zuckerberg</td>\n",
       "      <td>5.00</td>\n",
       "      <td>NaN</td>\n",
       "    </tr>\n",
       "    <tr>\n",
       "      <th>1</th>\n",
       "      <td>100</td>\n",
       "      <td>Peter</td>\n",
       "      <td>Lester</td>\n",
       "      <td>27.00</td>\n",
       "      <td>NaN</td>\n",
       "    </tr>\n",
       "    <tr>\n",
       "      <th>2</th>\n",
       "      <td>1000</td>\n",
       "      <td>Dr. Steven</td>\n",
       "      <td>E. Saunders</td>\n",
       "      <td>292.00</td>\n",
       "      <td>NaN</td>\n",
       "    </tr>\n",
       "    <tr>\n",
       "      <th>3</th>\n",
       "      <td>10000</td>\n",
       "      <td>Neil</td>\n",
       "      <td>Capel</td>\n",
       "      <td>2,526.00</td>\n",
       "      <td>NaN</td>\n",
       "    </tr>\n",
       "    <tr>\n",
       "      <th>4</th>\n",
       "      <td>100000</td>\n",
       "      <td>Sue</td>\n",
       "      <td>Pilsch</td>\n",
       "      <td>NaN</td>\n",
       "      <td>NaN</td>\n",
       "    </tr>\n",
       "  </tbody>\n",
       "</table>\n",
       "</div>"
      ],
      "text/plain": [
       "       id  first_name    last_name  company_id network_username\n",
       "0      10        Mark   Zuckerberg        5.00              NaN\n",
       "1     100       Peter       Lester       27.00              NaN\n",
       "2    1000  Dr. Steven  E. Saunders      292.00              NaN\n",
       "3   10000        Neil        Capel    2,526.00              NaN\n",
       "4  100000         Sue       Pilsch         NaN              NaN"
      ]
     },
     "execution_count": 128,
     "metadata": {},
     "output_type": "execute_result"
    }
   ],
   "source": [
    "people.head()"
   ]
  },
  {
   "cell_type": "code",
   "execution_count": 129,
   "metadata": {},
   "outputs": [
    {
     "name": "stdout",
     "output_type": "stream",
     "text": [
      "<class 'pandas.core.frame.DataFrame'>\n",
      "RangeIndex: 226709 entries, 0 to 226708\n",
      "Data columns (total 5 columns):\n",
      " #   Column            Non-Null Count   Dtype  \n",
      "---  ------            --------------   -----  \n",
      " 0   id                226709 non-null  int64  \n",
      " 1   first_name        226700 non-null  object \n",
      " 2   last_name         226705 non-null  object \n",
      " 3   company_id        34615 non-null   float64\n",
      " 4   network_username  38867 non-null   object \n",
      "dtypes: float64(1), int64(1), object(3)\n",
      "memory usage: 8.6+ MB\n"
     ]
    }
   ],
   "source": [
    "# Выводим информацию о датафрейме\n",
    "people.info()"
   ]
  },
  {
   "cell_type": "markdown",
   "metadata": {},
   "source": [
    "Датасет содержит 5 столбцов и 226709 строк, в которых содержится информация о сотрудниках.\n",
    "\n",
    "- Тип данных датафрейма представлены корректно.\n",
    "- Есть довольно большое кол-во пропусков в столбцах `company_id` и `network_username`"
   ]
  },
  {
   "cell_type": "code",
   "execution_count": 130,
   "metadata": {},
   "outputs": [
    {
     "data": {
      "text/html": [
       "<div>\n",
       "<style scoped>\n",
       "    .dataframe tbody tr th:only-of-type {\n",
       "        vertical-align: middle;\n",
       "    }\n",
       "\n",
       "    .dataframe tbody tr th {\n",
       "        vertical-align: top;\n",
       "    }\n",
       "\n",
       "    .dataframe thead th {\n",
       "        text-align: right;\n",
       "    }\n",
       "</style>\n",
       "<table border=\"1\" class=\"dataframe\">\n",
       "  <thead>\n",
       "    <tr style=\"text-align: right;\">\n",
       "      <th></th>\n",
       "      <th>id</th>\n",
       "      <th>object_id</th>\n",
       "      <th>degree_type</th>\n",
       "      <th>subject</th>\n",
       "    </tr>\n",
       "  </thead>\n",
       "  <tbody>\n",
       "    <tr>\n",
       "      <th>0</th>\n",
       "      <td>1</td>\n",
       "      <td>p:6117</td>\n",
       "      <td>MBA</td>\n",
       "      <td>NaN</td>\n",
       "    </tr>\n",
       "    <tr>\n",
       "      <th>1</th>\n",
       "      <td>2</td>\n",
       "      <td>p:6136</td>\n",
       "      <td>BA</td>\n",
       "      <td>English, French</td>\n",
       "    </tr>\n",
       "    <tr>\n",
       "      <th>2</th>\n",
       "      <td>3</td>\n",
       "      <td>p:6136</td>\n",
       "      <td>MS</td>\n",
       "      <td>Mass Communication</td>\n",
       "    </tr>\n",
       "    <tr>\n",
       "      <th>3</th>\n",
       "      <td>4</td>\n",
       "      <td>p:6005</td>\n",
       "      <td>MS</td>\n",
       "      <td>Internet Technology</td>\n",
       "    </tr>\n",
       "    <tr>\n",
       "      <th>4</th>\n",
       "      <td>5</td>\n",
       "      <td>p:5832</td>\n",
       "      <td>BCS</td>\n",
       "      <td>Computer Science, Psychology</td>\n",
       "    </tr>\n",
       "  </tbody>\n",
       "</table>\n",
       "</div>"
      ],
      "text/plain": [
       "   id object_id degree_type                       subject\n",
       "0   1    p:6117         MBA                           NaN\n",
       "1   2    p:6136          BA               English, French\n",
       "2   3    p:6136          MS            Mass Communication\n",
       "3   4    p:6005          MS           Internet Technology\n",
       "4   5    p:5832         BCS  Computer Science, Psychology"
      ]
     },
     "execution_count": 130,
     "metadata": {},
     "output_type": "execute_result"
    }
   ],
   "source": [
    "degrees.head()"
   ]
  },
  {
   "cell_type": "code",
   "execution_count": 131,
   "metadata": {},
   "outputs": [
    {
     "name": "stdout",
     "output_type": "stream",
     "text": [
      "<class 'pandas.core.frame.DataFrame'>\n",
      "RangeIndex: 109610 entries, 0 to 109609\n",
      "Data columns (total 4 columns):\n",
      " #   Column       Non-Null Count   Dtype \n",
      "---  ------       --------------   ----- \n",
      " 0   id           109610 non-null  int64 \n",
      " 1   object_id    109610 non-null  object\n",
      " 2   degree_type  98389 non-null   object\n",
      " 3   subject      81298 non-null   object\n",
      "dtypes: int64(1), object(3)\n",
      "memory usage: 3.3+ MB\n"
     ]
    }
   ],
   "source": [
    "# Выводим информацию о датафрейме\n",
    "degrees.info()"
   ]
  },
  {
   "cell_type": "markdown",
   "metadata": {},
   "source": [
    "Датасет содержит 4 столбца и 109609 строк, в которых содержится информация о типе образования сотрудника.\n",
    "\n",
    "- Типы данных датафрейма представлены корректно.\n",
    "- Есть пропуски в столбцах `degree_type` и `subject`"
   ]
  },
  {
   "cell_type": "code",
   "execution_count": 132,
   "metadata": {},
   "outputs": [
    {
     "data": {
      "text/html": [
       "<div>\n",
       "<style scoped>\n",
       "    .dataframe tbody tr th:only-of-type {\n",
       "        vertical-align: middle;\n",
       "    }\n",
       "\n",
       "    .dataframe tbody tr th {\n",
       "        vertical-align: top;\n",
       "    }\n",
       "\n",
       "    .dataframe thead th {\n",
       "        text-align: right;\n",
       "    }\n",
       "</style>\n",
       "<table border=\"1\" class=\"dataframe\">\n",
       "  <thead>\n",
       "    <tr style=\"text-align: right;\">\n",
       "      <th></th>\n",
       "      <th>id</th>\n",
       "      <th>name</th>\n",
       "      <th>founded_at</th>\n",
       "      <th>domain</th>\n",
       "      <th>network_username</th>\n",
       "      <th>country_code</th>\n",
       "      <th>investment_rounds</th>\n",
       "      <th>invested_companies</th>\n",
       "      <th>milestones</th>\n",
       "    </tr>\n",
       "  </thead>\n",
       "  <tbody>\n",
       "    <tr>\n",
       "      <th>0</th>\n",
       "      <td>13131</td>\n",
       "      <td>NaN</td>\n",
       "      <td>NaN</td>\n",
       "      <td>NaN</td>\n",
       "      <td>NaN</td>\n",
       "      <td>NaN</td>\n",
       "      <td>0</td>\n",
       "      <td>0</td>\n",
       "      <td>0</td>\n",
       "    </tr>\n",
       "    <tr>\n",
       "      <th>1</th>\n",
       "      <td>1</td>\n",
       "      <td>Greylock Partners</td>\n",
       "      <td>1965-01-01</td>\n",
       "      <td>greylock.com</td>\n",
       "      <td>greylockvc</td>\n",
       "      <td>USA</td>\n",
       "      <td>307</td>\n",
       "      <td>196</td>\n",
       "      <td>0</td>\n",
       "    </tr>\n",
       "    <tr>\n",
       "      <th>2</th>\n",
       "      <td>10</td>\n",
       "      <td>Mission Ventures</td>\n",
       "      <td>1996-01-01</td>\n",
       "      <td>missionventures.com</td>\n",
       "      <td>NaN</td>\n",
       "      <td>USA</td>\n",
       "      <td>58</td>\n",
       "      <td>33</td>\n",
       "      <td>0</td>\n",
       "    </tr>\n",
       "    <tr>\n",
       "      <th>3</th>\n",
       "      <td>100</td>\n",
       "      <td>Kapor Enterprises, Inc.</td>\n",
       "      <td>NaN</td>\n",
       "      <td>kei.com</td>\n",
       "      <td>NaN</td>\n",
       "      <td>USA</td>\n",
       "      <td>2</td>\n",
       "      <td>1</td>\n",
       "      <td>0</td>\n",
       "    </tr>\n",
       "    <tr>\n",
       "      <th>4</th>\n",
       "      <td>1000</td>\n",
       "      <td>Speed Ventures</td>\n",
       "      <td>NaN</td>\n",
       "      <td>NaN</td>\n",
       "      <td>NaN</td>\n",
       "      <td>NaN</td>\n",
       "      <td>0</td>\n",
       "      <td>0</td>\n",
       "      <td>1</td>\n",
       "    </tr>\n",
       "  </tbody>\n",
       "</table>\n",
       "</div>"
      ],
      "text/plain": [
       "      id                     name  founded_at               domain  \\\n",
       "0  13131                      NaN         NaN                  NaN   \n",
       "1      1        Greylock Partners  1965-01-01         greylock.com   \n",
       "2     10         Mission Ventures  1996-01-01  missionventures.com   \n",
       "3    100  Kapor Enterprises, Inc.         NaN              kei.com   \n",
       "4   1000           Speed Ventures         NaN                  NaN   \n",
       "\n",
       "  network_username country_code  investment_rounds  invested_companies  \\\n",
       "0              NaN          NaN                  0                   0   \n",
       "1       greylockvc          USA                307                 196   \n",
       "2              NaN          USA                 58                  33   \n",
       "3              NaN          USA                  2                   1   \n",
       "4              NaN          NaN                  0                   0   \n",
       "\n",
       "   milestones  \n",
       "0           0  \n",
       "1           0  \n",
       "2           0  \n",
       "3           0  \n",
       "4           1  "
      ]
     },
     "execution_count": 132,
     "metadata": {},
     "output_type": "execute_result"
    }
   ],
   "source": [
    "fund.head()"
   ]
  },
  {
   "cell_type": "code",
   "execution_count": 133,
   "metadata": {},
   "outputs": [
    {
     "name": "stdout",
     "output_type": "stream",
     "text": [
      "<class 'pandas.core.frame.DataFrame'>\n",
      "RangeIndex: 11652 entries, 0 to 11651\n",
      "Data columns (total 9 columns):\n",
      " #   Column              Non-Null Count  Dtype \n",
      "---  ------              --------------  ----- \n",
      " 0   id                  11652 non-null  int64 \n",
      " 1   name                11649 non-null  object\n",
      " 2   founded_at          4605 non-null   object\n",
      " 3   domain              7362 non-null   object\n",
      " 4   network_username    2149 non-null   object\n",
      " 5   country_code        7053 non-null   object\n",
      " 6   investment_rounds   11652 non-null  int64 \n",
      " 7   invested_companies  11652 non-null  int64 \n",
      " 8   milestones          11652 non-null  int64 \n",
      "dtypes: int64(4), object(5)\n",
      "memory usage: 819.4+ KB\n"
     ]
    }
   ],
   "source": [
    "# Выводим информацию о датафрейме\n",
    "fund.info()"
   ]
  },
  {
   "cell_type": "markdown",
   "metadata": {},
   "source": [
    "Датасет содержит 9 столбцов и 11652 строки, в которых содержится информация о фондах.\n",
    "\n",
    "- Тип данных столбца `founded_at` следует привести к типу данных `datetime64`, так как столбец хранит информацию о датах.\n",
    "- Также большую часть пропусков содержат столбцы `domain`, `network_username`, `country_code`"
   ]
  },
  {
   "cell_type": "code",
   "execution_count": 134,
   "metadata": {},
   "outputs": [
    {
     "data": {
      "text/html": [
       "<div>\n",
       "<style scoped>\n",
       "    .dataframe tbody tr th:only-of-type {\n",
       "        vertical-align: middle;\n",
       "    }\n",
       "\n",
       "    .dataframe tbody tr th {\n",
       "        vertical-align: top;\n",
       "    }\n",
       "\n",
       "    .dataframe thead th {\n",
       "        text-align: right;\n",
       "    }\n",
       "</style>\n",
       "<table border=\"1\" class=\"dataframe\">\n",
       "  <thead>\n",
       "    <tr style=\"text-align: right;\">\n",
       "      <th></th>\n",
       "      <th>id</th>\n",
       "      <th>funding_round_id</th>\n",
       "      <th>company_id</th>\n",
       "      <th>fund_id</th>\n",
       "    </tr>\n",
       "  </thead>\n",
       "  <tbody>\n",
       "    <tr>\n",
       "      <th>0</th>\n",
       "      <td>1</td>\n",
       "      <td>1</td>\n",
       "      <td>4</td>\n",
       "      <td>1</td>\n",
       "    </tr>\n",
       "    <tr>\n",
       "      <th>1</th>\n",
       "      <td>2</td>\n",
       "      <td>1</td>\n",
       "      <td>4</td>\n",
       "      <td>2</td>\n",
       "    </tr>\n",
       "    <tr>\n",
       "      <th>2</th>\n",
       "      <td>3</td>\n",
       "      <td>3</td>\n",
       "      <td>5</td>\n",
       "      <td>4</td>\n",
       "    </tr>\n",
       "    <tr>\n",
       "      <th>3</th>\n",
       "      <td>4</td>\n",
       "      <td>4</td>\n",
       "      <td>5</td>\n",
       "      <td>1</td>\n",
       "    </tr>\n",
       "    <tr>\n",
       "      <th>4</th>\n",
       "      <td>5</td>\n",
       "      <td>4</td>\n",
       "      <td>5</td>\n",
       "      <td>5</td>\n",
       "    </tr>\n",
       "  </tbody>\n",
       "</table>\n",
       "</div>"
      ],
      "text/plain": [
       "   id  funding_round_id  company_id  fund_id\n",
       "0   1                 1           4        1\n",
       "1   2                 1           4        2\n",
       "2   3                 3           5        4\n",
       "3   4                 4           5        1\n",
       "4   5                 4           5        5"
      ]
     },
     "execution_count": 134,
     "metadata": {},
     "output_type": "execute_result"
    }
   ],
   "source": [
    "investment.head()"
   ]
  },
  {
   "cell_type": "code",
   "execution_count": 135,
   "metadata": {},
   "outputs": [
    {
     "name": "stdout",
     "output_type": "stream",
     "text": [
      "<class 'pandas.core.frame.DataFrame'>\n",
      "RangeIndex: 61403 entries, 0 to 61402\n",
      "Data columns (total 4 columns):\n",
      " #   Column            Non-Null Count  Dtype\n",
      "---  ------            --------------  -----\n",
      " 0   id                61403 non-null  int64\n",
      " 1   funding_round_id  61403 non-null  int64\n",
      " 2   company_id        61403 non-null  int64\n",
      " 3   fund_id           61403 non-null  int64\n",
      "dtypes: int64(4)\n",
      "memory usage: 1.9 MB\n"
     ]
    }
   ],
   "source": [
    "# Выводим информацию о датафрейме\n",
    "investment.info()"
   ]
  },
  {
   "cell_type": "markdown",
   "metadata": {},
   "source": [
    "Датасет содержит 4 столбца и 61402 строки, в которых содержится информация о раундах инвестирования.\n",
    "\n",
    "- Тип данных датафрейма представлены корректно.\n",
    "- Пропусков нет"
   ]
  },
  {
   "cell_type": "markdown",
   "metadata": {
    "id": "mg2gEwh0rJg0"
   },
   "source": [
    "### 1.2. Смена типов и анализ пропусков\n"
   ]
  },
  {
   "cell_type": "code",
   "execution_count": 136,
   "metadata": {
    "id": "FsL0A8RBrJg1"
   },
   "outputs": [],
   "source": [
    "# Приведем столбцы с датами к типу данных datetime64\n",
    "acquisition['acquired_at'] = pd.to_datetime(acquisition['acquired_at'], errors = 'coerce')\n",
    "education['graduated_at'] = pd.to_datetime(education['graduated_at'], errors = 'coerce')\n",
    "fund['founded_at'] = pd.to_datetime(fund['founded_at'], errors = 'coerce')\n",
    "\n",
    "for column in ['founded_at', 'closed_at', 'funded_at']:\n",
    "    company_and_rounds[column] = pd.to_datetime(company_and_rounds[column], errors = 'coerce')"
   ]
  },
  {
   "cell_type": "markdown",
   "metadata": {},
   "source": [
    "Исходя из полученных результатов в шаге 1.1, можно сделать вывод, что в датасетах количество пропусков достаточно большое, чтобы их просто удалить. \n",
    "Так как замена пропусков может повлиять на дальнейший анализ, то пока оставим их как есть.\n"
   ]
  },
  {
   "cell_type": "markdown",
   "metadata": {
    "id": "u60cHsn6rJg1"
   },
   "source": [
    "## Шаг 2. Предобработка данных, предварительное исследование"
   ]
  },
  {
   "cell_type": "markdown",
   "metadata": {
    "id": "g2bHIIjcrJg1"
   },
   "source": [
    "\n",
    "### 2.1. Раунды финансирования по годам\n",
    "\n",
    "\n",
    "1. Составим сводную таблицу по годам, в которой на основании столбца `raised_amount` для каждого года указан:\n",
    "\n",
    "  * типичный размер средств, выделяемый в рамках одного раунда;\n",
    "  * общее количество раундов финансирования за этот год.\n",
    "\n",
    "2. Оставим в таблице информацию только для тех лет, для которых есть информация о более чем 50 раундах финансирования.\n",
    "\n",
    "3. На основе получившейся таблицы построим график, который будет отражать динамику типичного размера средств, которые стартапы получали в рамках одного раунда финансирования."
   ]
  },
  {
   "cell_type": "code",
   "execution_count": 137,
   "metadata": {
    "id": "ovyDibxNrJg1"
   },
   "outputs": [],
   "source": [
    "# Извлекаем год финансирования из столбца funded_at\n",
    "company_and_rounds['year'] = company_and_rounds['funded_at'].dt.year"
   ]
  },
  {
   "cell_type": "code",
   "execution_count": 138,
   "metadata": {
    "id": "HB81GTA9n04M"
   },
   "outputs": [
    {
     "data": {
      "text/html": [
       "<div>\n",
       "<style scoped>\n",
       "    .dataframe tbody tr th:only-of-type {\n",
       "        vertical-align: middle;\n",
       "    }\n",
       "\n",
       "    .dataframe tbody tr th {\n",
       "        vertical-align: top;\n",
       "    }\n",
       "\n",
       "    .dataframe thead th {\n",
       "        text-align: right;\n",
       "    }\n",
       "</style>\n",
       "<table border=\"1\" class=\"dataframe\">\n",
       "  <thead>\n",
       "    <tr style=\"text-align: right;\">\n",
       "      <th></th>\n",
       "      <th>year</th>\n",
       "      <th>count</th>\n",
       "      <th>median</th>\n",
       "    </tr>\n",
       "  </thead>\n",
       "  <tbody>\n",
       "    <tr>\n",
       "      <th>0</th>\n",
       "      <td>1,999.00</td>\n",
       "      <td>76</td>\n",
       "      <td>2,000,000.00</td>\n",
       "    </tr>\n",
       "    <tr>\n",
       "      <th>1</th>\n",
       "      <td>2,000.00</td>\n",
       "      <td>125</td>\n",
       "      <td>4,200,000.00</td>\n",
       "    </tr>\n",
       "    <tr>\n",
       "      <th>2</th>\n",
       "      <td>2,001.00</td>\n",
       "      <td>96</td>\n",
       "      <td>3,000,000.00</td>\n",
       "    </tr>\n",
       "    <tr>\n",
       "      <th>3</th>\n",
       "      <td>2,002.00</td>\n",
       "      <td>116</td>\n",
       "      <td>4,200,000.00</td>\n",
       "    </tr>\n",
       "    <tr>\n",
       "      <th>4</th>\n",
       "      <td>2,003.00</td>\n",
       "      <td>159</td>\n",
       "      <td>3,000,000.00</td>\n",
       "    </tr>\n",
       "    <tr>\n",
       "      <th>5</th>\n",
       "      <td>2,004.00</td>\n",
       "      <td>291</td>\n",
       "      <td>5,000,000.00</td>\n",
       "    </tr>\n",
       "    <tr>\n",
       "      <th>6</th>\n",
       "      <td>2,005.00</td>\n",
       "      <td>1633</td>\n",
       "      <td>5,500,000.00</td>\n",
       "    </tr>\n",
       "    <tr>\n",
       "      <th>7</th>\n",
       "      <td>2,006.00</td>\n",
       "      <td>2436</td>\n",
       "      <td>5,000,000.00</td>\n",
       "    </tr>\n",
       "    <tr>\n",
       "      <th>8</th>\n",
       "      <td>2,007.00</td>\n",
       "      <td>3279</td>\n",
       "      <td>3,973,320.00</td>\n",
       "    </tr>\n",
       "    <tr>\n",
       "      <th>9</th>\n",
       "      <td>2,008.00</td>\n",
       "      <td>3774</td>\n",
       "      <td>3,110,000.00</td>\n",
       "    </tr>\n",
       "    <tr>\n",
       "      <th>10</th>\n",
       "      <td>2,009.00</td>\n",
       "      <td>4151</td>\n",
       "      <td>2,000,000.00</td>\n",
       "    </tr>\n",
       "    <tr>\n",
       "      <th>11</th>\n",
       "      <td>2,010.00</td>\n",
       "      <td>6221</td>\n",
       "      <td>1,602,500.00</td>\n",
       "    </tr>\n",
       "    <tr>\n",
       "      <th>12</th>\n",
       "      <td>2,011.00</td>\n",
       "      <td>9204</td>\n",
       "      <td>1,200,000.00</td>\n",
       "    </tr>\n",
       "    <tr>\n",
       "      <th>13</th>\n",
       "      <td>2,012.00</td>\n",
       "      <td>9970</td>\n",
       "      <td>1,000,000.00</td>\n",
       "    </tr>\n",
       "    <tr>\n",
       "      <th>14</th>\n",
       "      <td>2,013.00</td>\n",
       "      <td>11072</td>\n",
       "      <td>1,200,000.00</td>\n",
       "    </tr>\n",
       "  </tbody>\n",
       "</table>\n",
       "</div>"
      ],
      "text/plain": [
       "       year  count       median\n",
       "0  1,999.00     76 2,000,000.00\n",
       "1  2,000.00    125 4,200,000.00\n",
       "2  2,001.00     96 3,000,000.00\n",
       "3  2,002.00    116 4,200,000.00\n",
       "4  2,003.00    159 3,000,000.00\n",
       "5  2,004.00    291 5,000,000.00\n",
       "6  2,005.00   1633 5,500,000.00\n",
       "7  2,006.00   2436 5,000,000.00\n",
       "8  2,007.00   3279 3,973,320.00\n",
       "9  2,008.00   3774 3,110,000.00\n",
       "10 2,009.00   4151 2,000,000.00\n",
       "11 2,010.00   6221 1,602,500.00\n",
       "12 2,011.00   9204 1,200,000.00\n",
       "13 2,012.00   9970 1,000,000.00\n",
       "14 2,013.00  11072 1,200,000.00"
      ]
     },
     "execution_count": 138,
     "metadata": {},
     "output_type": "execute_result"
    }
   ],
   "source": [
    "#Строим сводную таблицу\n",
    "pivot_table = pd.pivot_table(\n",
    "    company_and_rounds,\n",
    "    index = 'year',\n",
    "    values = 'raised_amount',\n",
    "    aggfunc = {'raised_amount': ['median', 'count']})\n",
    "#Фильтруем по кол-ву раундов финансирования\n",
    "pivot_table = pivot_table[pivot_table['count']>50].reset_index()\n",
    "pivot_table"
   ]
  },
  {
   "cell_type": "code",
   "execution_count": 270,
   "metadata": {},
   "outputs": [
    {
     "data": {
      "image/png": "[encoded data removed]",
      "text/plain": [
       "<Figure size 1000x500 with 1 Axes>"
      ]
     },
     "metadata": {},
     "output_type": "display_data"
    }
   ],
   "source": [
    "# Задаем размеры графика\n",
    "plt.figure(figsize = (10, 5))\n",
    "# Изменяем отображение оси Y\n",
    "plt.ticklabel_format(style='plain')\n",
    "# Строим линейный график\n",
    "plt.plot(pivot_table['year'],\n",
    "         pivot_table['median'],\n",
    "         marker = 'o', \n",
    "         color = 'b'\n",
    ")\n",
    "\n",
    "#Название и подписи осей \n",
    "plt.title('Динамика медианного размера финансирования по годам')\n",
    "plt.ylabel('Типичный размер финансирования (медиана) ($)')\n",
    "plt.xlabel('Год')\n",
    "\n",
    "# Сетка\n",
    "plt.grid(axis = 'y', linestyle = '--', alpha = 0.6)\n",
    "plt.show()"
   ]
  },
  {
   "cell_type": "markdown",
   "metadata": {},
   "source": [
    "В каком году типичный размер собранных в рамках одного раунда средств был максимален?\n",
    "\n",
    "- Типичный размер собранных в рамках одного раунда средств был максимален в 2005 году.\n",
    "\n",
    "Какая тенденция по количеству раундов и выделяемых в рамках каждого раунда средств наблюдалась в 2013 году?\n",
    "\n",
    "- В 2013 году было 11 072 раунда, что больше, чем в 2012 году (9 970) и 2011 году (9 204).\n",
    "Это указывает на увеличение количества стартапов или инвестиций в проекты.\n",
    "- Медианный размер финансирования немного вырос по сравнению с предыдущим:\n",
    "    * В 2012 году медианная сумма финансирования в раунде была 1 000 000 долларов.\n",
    "    * В 2013 году она увеличилась до 1 200 000 долларов."
   ]
  },
  {
   "cell_type": "markdown",
   "metadata": {
    "id": "45if1en1rJg2"
   },
   "source": [
    "\n",
    "### 2.2. Люди и их образование\n",
    "\n",
    "* Оценим, насколько информация об образовании сотрудников полна. Используя датасеты `people.csv` и `education.csv`, разделим все компании на несколько групп по количеству сотрудников и оценим среднюю долю сотрудников без информации об образовании в каждой из групп.\n"
   ]
  },
  {
   "cell_type": "code",
   "execution_count": 140,
   "metadata": {},
   "outputs": [
    {
     "data": {
      "text/html": [
       "<div>\n",
       "<style scoped>\n",
       "    .dataframe tbody tr th:only-of-type {\n",
       "        vertical-align: middle;\n",
       "    }\n",
       "\n",
       "    .dataframe tbody tr th {\n",
       "        vertical-align: top;\n",
       "    }\n",
       "\n",
       "    .dataframe thead th {\n",
       "        text-align: right;\n",
       "    }\n",
       "</style>\n",
       "<table border=\"1\" class=\"dataframe\">\n",
       "  <thead>\n",
       "    <tr style=\"text-align: right;\">\n",
       "      <th></th>\n",
       "      <th>company_id</th>\n",
       "      <th>cnt_people</th>\n",
       "    </tr>\n",
       "  </thead>\n",
       "  <tbody>\n",
       "    <tr>\n",
       "      <th>0</th>\n",
       "      <td>1.00</td>\n",
       "      <td>2</td>\n",
       "    </tr>\n",
       "    <tr>\n",
       "      <th>1</th>\n",
       "      <td>2.00</td>\n",
       "      <td>1</td>\n",
       "    </tr>\n",
       "    <tr>\n",
       "      <th>2</th>\n",
       "      <td>3.00</td>\n",
       "      <td>3</td>\n",
       "    </tr>\n",
       "    <tr>\n",
       "      <th>3</th>\n",
       "      <td>4.00</td>\n",
       "      <td>13</td>\n",
       "    </tr>\n",
       "    <tr>\n",
       "      <th>4</th>\n",
       "      <td>5.00</td>\n",
       "      <td>61</td>\n",
       "    </tr>\n",
       "  </tbody>\n",
       "</table>\n",
       "</div>"
      ],
      "text/plain": [
       "   company_id  cnt_people\n",
       "0        1.00           2\n",
       "1        2.00           1\n",
       "2        3.00           3\n",
       "3        4.00          13\n",
       "4        5.00          61"
      ]
     },
     "execution_count": 140,
     "metadata": {},
     "output_type": "execute_result"
    }
   ],
   "source": [
    "# Считаем колво сотрудников в каждой компании\n",
    "company_sizes = people.groupby('company_id')['id'].count().reset_index()\n",
    "company_sizes.columns = ['company_id', 'cnt_people']\n",
    "company_sizes.head()"
   ]
  },
  {
   "cell_type": "code",
   "execution_count": 141,
   "metadata": {
    "id": "psPO7C4MrJg2"
   },
   "outputs": [
    {
     "data": {
      "text/html": [
       "<div>\n",
       "<style scoped>\n",
       "    .dataframe tbody tr th:only-of-type {\n",
       "        vertical-align: middle;\n",
       "    }\n",
       "\n",
       "    .dataframe tbody tr th {\n",
       "        vertical-align: top;\n",
       "    }\n",
       "\n",
       "    .dataframe thead th {\n",
       "        text-align: right;\n",
       "    }\n",
       "</style>\n",
       "<table border=\"1\" class=\"dataframe\">\n",
       "  <thead>\n",
       "    <tr style=\"text-align: right;\">\n",
       "      <th></th>\n",
       "      <th>id_people</th>\n",
       "      <th>first_name</th>\n",
       "      <th>last_name</th>\n",
       "      <th>company_id</th>\n",
       "      <th>network_username</th>\n",
       "      <th>id_education</th>\n",
       "      <th>person_id</th>\n",
       "      <th>instituition</th>\n",
       "      <th>graduated_at</th>\n",
       "    </tr>\n",
       "  </thead>\n",
       "  <tbody>\n",
       "    <tr>\n",
       "      <th>0</th>\n",
       "      <td>10</td>\n",
       "      <td>Mark</td>\n",
       "      <td>Zuckerberg</td>\n",
       "      <td>5.00</td>\n",
       "      <td>NaN</td>\n",
       "      <td>2,415.00</td>\n",
       "      <td>10.00</td>\n",
       "      <td>Harvard University</td>\n",
       "      <td>NaT</td>\n",
       "    </tr>\n",
       "    <tr>\n",
       "      <th>1</th>\n",
       "      <td>100</td>\n",
       "      <td>Peter</td>\n",
       "      <td>Lester</td>\n",
       "      <td>27.00</td>\n",
       "      <td>NaN</td>\n",
       "      <td>NaN</td>\n",
       "      <td>NaN</td>\n",
       "      <td>NaN</td>\n",
       "      <td>NaT</td>\n",
       "    </tr>\n",
       "    <tr>\n",
       "      <th>2</th>\n",
       "      <td>1000</td>\n",
       "      <td>Dr. Steven</td>\n",
       "      <td>E. Saunders</td>\n",
       "      <td>292.00</td>\n",
       "      <td>NaN</td>\n",
       "      <td>NaN</td>\n",
       "      <td>NaN</td>\n",
       "      <td>NaN</td>\n",
       "      <td>NaT</td>\n",
       "    </tr>\n",
       "    <tr>\n",
       "      <th>3</th>\n",
       "      <td>10000</td>\n",
       "      <td>Neil</td>\n",
       "      <td>Capel</td>\n",
       "      <td>2,526.00</td>\n",
       "      <td>NaN</td>\n",
       "      <td>NaN</td>\n",
       "      <td>NaN</td>\n",
       "      <td>NaN</td>\n",
       "      <td>NaT</td>\n",
       "    </tr>\n",
       "    <tr>\n",
       "      <th>4</th>\n",
       "      <td>100000</td>\n",
       "      <td>Sue</td>\n",
       "      <td>Pilsch</td>\n",
       "      <td>NaN</td>\n",
       "      <td>NaN</td>\n",
       "      <td>NaN</td>\n",
       "      <td>NaN</td>\n",
       "      <td>NaN</td>\n",
       "      <td>NaT</td>\n",
       "    </tr>\n",
       "  </tbody>\n",
       "</table>\n",
       "</div>"
      ],
      "text/plain": [
       "   id_people  first_name    last_name  company_id network_username  \\\n",
       "0         10        Mark   Zuckerberg        5.00              NaN   \n",
       "1        100       Peter       Lester       27.00              NaN   \n",
       "2       1000  Dr. Steven  E. Saunders      292.00              NaN   \n",
       "3      10000        Neil        Capel    2,526.00              NaN   \n",
       "4     100000         Sue       Pilsch         NaN              NaN   \n",
       "\n",
       "   id_education  person_id        instituition graduated_at  \n",
       "0      2,415.00      10.00  Harvard University          NaT  \n",
       "1           NaN        NaN                 NaN          NaT  \n",
       "2           NaN        NaN                 NaN          NaT  \n",
       "3           NaN        NaN                 NaN          NaT  \n",
       "4           NaN        NaN                 NaN          NaT  "
      ]
     },
     "execution_count": 141,
     "metadata": {},
     "output_type": "execute_result"
    }
   ],
   "source": [
    "# Присоединяем people к education, чтобы определить, у кого есть образование\n",
    "df = people.merge(education, how = 'left', left_on = 'id', right_on = 'person_id', suffixes = ('_people','_education'))\n",
    "df.head()"
   ]
  },
  {
   "cell_type": "code",
   "execution_count": 142,
   "metadata": {},
   "outputs": [
    {
     "data": {
      "text/html": [
       "<div>\n",
       "<style scoped>\n",
       "    .dataframe tbody tr th:only-of-type {\n",
       "        vertical-align: middle;\n",
       "    }\n",
       "\n",
       "    .dataframe tbody tr th {\n",
       "        vertical-align: top;\n",
       "    }\n",
       "\n",
       "    .dataframe thead th {\n",
       "        text-align: right;\n",
       "    }\n",
       "</style>\n",
       "<table border=\"1\" class=\"dataframe\">\n",
       "  <thead>\n",
       "    <tr style=\"text-align: right;\">\n",
       "      <th></th>\n",
       "      <th>id_people</th>\n",
       "      <th>first_name</th>\n",
       "      <th>last_name</th>\n",
       "      <th>company_id</th>\n",
       "      <th>network_username</th>\n",
       "      <th>id_education</th>\n",
       "      <th>person_id</th>\n",
       "      <th>instituition</th>\n",
       "      <th>graduated_at</th>\n",
       "      <th>cnt_people</th>\n",
       "    </tr>\n",
       "  </thead>\n",
       "  <tbody>\n",
       "    <tr>\n",
       "      <th>0</th>\n",
       "      <td>10</td>\n",
       "      <td>Mark</td>\n",
       "      <td>Zuckerberg</td>\n",
       "      <td>5.00</td>\n",
       "      <td>NaN</td>\n",
       "      <td>2,415.00</td>\n",
       "      <td>10.00</td>\n",
       "      <td>Harvard University</td>\n",
       "      <td>NaT</td>\n",
       "      <td>61.00</td>\n",
       "    </tr>\n",
       "    <tr>\n",
       "      <th>1</th>\n",
       "      <td>100</td>\n",
       "      <td>Peter</td>\n",
       "      <td>Lester</td>\n",
       "      <td>27.00</td>\n",
       "      <td>NaN</td>\n",
       "      <td>NaN</td>\n",
       "      <td>NaN</td>\n",
       "      <td>NaN</td>\n",
       "      <td>NaT</td>\n",
       "      <td>10.00</td>\n",
       "    </tr>\n",
       "    <tr>\n",
       "      <th>2</th>\n",
       "      <td>1000</td>\n",
       "      <td>Dr. Steven</td>\n",
       "      <td>E. Saunders</td>\n",
       "      <td>292.00</td>\n",
       "      <td>NaN</td>\n",
       "      <td>NaN</td>\n",
       "      <td>NaN</td>\n",
       "      <td>NaN</td>\n",
       "      <td>NaT</td>\n",
       "      <td>3.00</td>\n",
       "    </tr>\n",
       "    <tr>\n",
       "      <th>3</th>\n",
       "      <td>10000</td>\n",
       "      <td>Neil</td>\n",
       "      <td>Capel</td>\n",
       "      <td>2,526.00</td>\n",
       "      <td>NaN</td>\n",
       "      <td>NaN</td>\n",
       "      <td>NaN</td>\n",
       "      <td>NaN</td>\n",
       "      <td>NaT</td>\n",
       "      <td>2.00</td>\n",
       "    </tr>\n",
       "    <tr>\n",
       "      <th>4</th>\n",
       "      <td>100000</td>\n",
       "      <td>Sue</td>\n",
       "      <td>Pilsch</td>\n",
       "      <td>NaN</td>\n",
       "      <td>NaN</td>\n",
       "      <td>NaN</td>\n",
       "      <td>NaN</td>\n",
       "      <td>NaN</td>\n",
       "      <td>NaT</td>\n",
       "      <td>NaN</td>\n",
       "    </tr>\n",
       "  </tbody>\n",
       "</table>\n",
       "</div>"
      ],
      "text/plain": [
       "   id_people  first_name    last_name  company_id network_username  \\\n",
       "0         10        Mark   Zuckerberg        5.00              NaN   \n",
       "1        100       Peter       Lester       27.00              NaN   \n",
       "2       1000  Dr. Steven  E. Saunders      292.00              NaN   \n",
       "3      10000        Neil        Capel    2,526.00              NaN   \n",
       "4     100000         Sue       Pilsch         NaN              NaN   \n",
       "\n",
       "   id_education  person_id        instituition graduated_at  cnt_people  \n",
       "0      2,415.00      10.00  Harvard University          NaT       61.00  \n",
       "1           NaN        NaN                 NaN          NaT       10.00  \n",
       "2           NaN        NaN                 NaN          NaT        3.00  \n",
       "3           NaN        NaN                 NaN          NaT        2.00  \n",
       "4           NaN        NaN                 NaN          NaT         NaN  "
      ]
     },
     "execution_count": 142,
     "metadata": {},
     "output_type": "execute_result"
    }
   ],
   "source": [
    "# Присоединяем к датафрейму таблицу с расчетом кол-ва сотрудников\n",
    "df = df.merge(company_sizes, on = 'company_id', how = 'left')\n",
    "df.head()"
   ]
  },
  {
   "cell_type": "code",
   "execution_count": 143,
   "metadata": {},
   "outputs": [
    {
     "data": {
      "text/plain": [
       "40985"
      ]
     },
     "execution_count": 143,
     "metadata": {},
     "output_type": "execute_result"
    }
   ],
   "source": [
    "# Ищем неявные дубликаты по столбцам содержащим инф-ю о сотрудниках\n",
    "df.duplicated(subset = ['id_people', 'first_name', 'last_name', 'company_id']).sum()"
   ]
  },
  {
   "cell_type": "code",
   "execution_count": 144,
   "metadata": {},
   "outputs": [],
   "source": [
    "# Удаляем дубликаты\n",
    "df = df.drop_duplicates(subset = ['id_people', 'first_name', 'last_name'])"
   ]
  },
  {
   "cell_type": "code",
   "execution_count": 145,
   "metadata": {},
   "outputs": [
    {
     "data": {
      "text/plain": [
       "cnt_people\n",
       "1      18117\n",
       "2       2709\n",
       "3        921\n",
       "4        450\n",
       "5        237\n",
       "6        138\n",
       "7        100\n",
       "8         59\n",
       "9         46\n",
       "11        30\n",
       "10        25\n",
       "13        17\n",
       "12        16\n",
       "14         8\n",
       "17         5\n",
       "16         4\n",
       "23         3\n",
       "19         3\n",
       "20         3\n",
       "18         3\n",
       "15         3\n",
       "29         2\n",
       "25         2\n",
       "56         2\n",
       "22         2\n",
       "21         2\n",
       "31         1\n",
       "138        1\n",
       "35         1\n",
       "47         1\n",
       "32         1\n",
       "39         1\n",
       "63         1\n",
       "36         1\n",
       "51         1\n",
       "48         1\n",
       "244        1\n",
       "61         1\n",
       "150        1\n",
       "26         1\n",
       "72         1\n",
       "Name: count, dtype: int64"
      ]
     },
     "execution_count": 145,
     "metadata": {},
     "output_type": "execute_result"
    }
   ],
   "source": [
    "# Для разбиения компании на группы, посчитаем кол-во компаний с разными кол-вами сотрудников\n",
    "company_sizes['cnt_people'].value_counts()"
   ]
  },
  {
   "cell_type": "markdown",
   "metadata": {},
   "source": [
    "- Видно, что подавляющее большинство компаний (18117) имеют 1 сотрудника, а затем резкое снижение количества для 2 (2709) и 3 (921).\n",
    "Это говорит о том, что многие компании, вероятно, представляют собой стартапы с одним основателем или небольшие команды на ранней стадии развития.\n",
    "Эти компании следует поместить в отдельные категории.\n",
    "- Чуть меньше компаний имеют 4-7 сотрудников. Объединим их в одну группу.\n",
    "- Компаний, имеющих 8-13 сотрудников - меньше ста в каждой. Поместим их в отдельную категорию.\n",
    "- Кол-во компаний с 14-25 сотрудниками достаточно близки (меньше 10 компаний в каждой). Выделим отдельную группу.\n",
    "- После 25 сотрудников компании становятся единичными случаями, и их проще объединить в одну группу."
   ]
  },
  {
   "cell_type": "code",
   "execution_count": 146,
   "metadata": {},
   "outputs": [
    {
     "data": {
      "text/html": [
       "<div>\n",
       "<style scoped>\n",
       "    .dataframe tbody tr th:only-of-type {\n",
       "        vertical-align: middle;\n",
       "    }\n",
       "\n",
       "    .dataframe tbody tr th {\n",
       "        vertical-align: top;\n",
       "    }\n",
       "\n",
       "    .dataframe thead th {\n",
       "        text-align: right;\n",
       "    }\n",
       "</style>\n",
       "<table border=\"1\" class=\"dataframe\">\n",
       "  <thead>\n",
       "    <tr style=\"text-align: right;\">\n",
       "      <th></th>\n",
       "      <th>id_people</th>\n",
       "      <th>first_name</th>\n",
       "      <th>last_name</th>\n",
       "      <th>company_id</th>\n",
       "      <th>network_username</th>\n",
       "      <th>id_education</th>\n",
       "      <th>person_id</th>\n",
       "      <th>instituition</th>\n",
       "      <th>graduated_at</th>\n",
       "      <th>cnt_people</th>\n",
       "      <th>company_size_group</th>\n",
       "    </tr>\n",
       "  </thead>\n",
       "  <tbody>\n",
       "    <tr>\n",
       "      <th>0</th>\n",
       "      <td>10</td>\n",
       "      <td>Mark</td>\n",
       "      <td>Zuckerberg</td>\n",
       "      <td>5.00</td>\n",
       "      <td>NaN</td>\n",
       "      <td>2,415.00</td>\n",
       "      <td>10.00</td>\n",
       "      <td>Harvard University</td>\n",
       "      <td>NaT</td>\n",
       "      <td>61.00</td>\n",
       "      <td>26+</td>\n",
       "    </tr>\n",
       "    <tr>\n",
       "      <th>1</th>\n",
       "      <td>100</td>\n",
       "      <td>Peter</td>\n",
       "      <td>Lester</td>\n",
       "      <td>27.00</td>\n",
       "      <td>NaN</td>\n",
       "      <td>NaN</td>\n",
       "      <td>NaN</td>\n",
       "      <td>NaN</td>\n",
       "      <td>NaT</td>\n",
       "      <td>10.00</td>\n",
       "      <td>8-13</td>\n",
       "    </tr>\n",
       "    <tr>\n",
       "      <th>2</th>\n",
       "      <td>1000</td>\n",
       "      <td>Dr. Steven</td>\n",
       "      <td>E. Saunders</td>\n",
       "      <td>292.00</td>\n",
       "      <td>NaN</td>\n",
       "      <td>NaN</td>\n",
       "      <td>NaN</td>\n",
       "      <td>NaN</td>\n",
       "      <td>NaT</td>\n",
       "      <td>3.00</td>\n",
       "      <td>3</td>\n",
       "    </tr>\n",
       "    <tr>\n",
       "      <th>3</th>\n",
       "      <td>10000</td>\n",
       "      <td>Neil</td>\n",
       "      <td>Capel</td>\n",
       "      <td>2,526.00</td>\n",
       "      <td>NaN</td>\n",
       "      <td>NaN</td>\n",
       "      <td>NaN</td>\n",
       "      <td>NaN</td>\n",
       "      <td>NaT</td>\n",
       "      <td>2.00</td>\n",
       "      <td>2</td>\n",
       "    </tr>\n",
       "    <tr>\n",
       "      <th>4</th>\n",
       "      <td>100000</td>\n",
       "      <td>Sue</td>\n",
       "      <td>Pilsch</td>\n",
       "      <td>NaN</td>\n",
       "      <td>NaN</td>\n",
       "      <td>NaN</td>\n",
       "      <td>NaN</td>\n",
       "      <td>NaN</td>\n",
       "      <td>NaT</td>\n",
       "      <td>NaN</td>\n",
       "      <td>NaN</td>\n",
       "    </tr>\n",
       "  </tbody>\n",
       "</table>\n",
       "</div>"
      ],
      "text/plain": [
       "   id_people  first_name    last_name  company_id network_username  \\\n",
       "0         10        Mark   Zuckerberg        5.00              NaN   \n",
       "1        100       Peter       Lester       27.00              NaN   \n",
       "2       1000  Dr. Steven  E. Saunders      292.00              NaN   \n",
       "3      10000        Neil        Capel    2,526.00              NaN   \n",
       "4     100000         Sue       Pilsch         NaN              NaN   \n",
       "\n",
       "   id_education  person_id        instituition graduated_at  cnt_people  \\\n",
       "0      2,415.00      10.00  Harvard University          NaT       61.00   \n",
       "1           NaN        NaN                 NaN          NaT       10.00   \n",
       "2           NaN        NaN                 NaN          NaT        3.00   \n",
       "3           NaN        NaN                 NaN          NaT        2.00   \n",
       "4           NaN        NaN                 NaN          NaT         NaN   \n",
       "\n",
       "  company_size_group  \n",
       "0                26+  \n",
       "1               8-13  \n",
       "2                  3  \n",
       "3                  2  \n",
       "4                NaN  "
      ]
     },
     "execution_count": 146,
     "metadata": {},
     "output_type": "execute_result"
    }
   ],
   "source": [
    "# Разделяем компании на группы по размеру:\n",
    "df['company_size_group'] = pd.cut(df['cnt_people'], bins = [0, 1, 2, 3, 7, 13, 25, float('inf')], \n",
    "                                  labels = ['1', '2', '3', '4-7', '8-13', '14-25', '26+']) # Категории\n",
    "df.head()"
   ]
  },
  {
   "cell_type": "code",
   "execution_count": 147,
   "metadata": {
    "id": "xdQ6H5ZSn1ZM"
   },
   "outputs": [
    {
     "data": {
      "text/html": [
       "<div>\n",
       "<style scoped>\n",
       "    .dataframe tbody tr th:only-of-type {\n",
       "        vertical-align: middle;\n",
       "    }\n",
       "\n",
       "    .dataframe tbody tr th {\n",
       "        vertical-align: top;\n",
       "    }\n",
       "\n",
       "    .dataframe thead th {\n",
       "        text-align: right;\n",
       "    }\n",
       "</style>\n",
       "<table border=\"1\" class=\"dataframe\">\n",
       "  <thead>\n",
       "    <tr style=\"text-align: right;\">\n",
       "      <th></th>\n",
       "      <th>company_size_group</th>\n",
       "      <th>no_educ</th>\n",
       "    </tr>\n",
       "  </thead>\n",
       "  <tbody>\n",
       "    <tr>\n",
       "      <th>0</th>\n",
       "      <td>1</td>\n",
       "      <td>0.46</td>\n",
       "    </tr>\n",
       "    <tr>\n",
       "      <th>1</th>\n",
       "      <td>2</td>\n",
       "      <td>0.47</td>\n",
       "    </tr>\n",
       "    <tr>\n",
       "      <th>2</th>\n",
       "      <td>3</td>\n",
       "      <td>0.49</td>\n",
       "    </tr>\n",
       "    <tr>\n",
       "      <th>3</th>\n",
       "      <td>4-7</td>\n",
       "      <td>0.51</td>\n",
       "    </tr>\n",
       "    <tr>\n",
       "      <th>4</th>\n",
       "      <td>8-13</td>\n",
       "      <td>0.51</td>\n",
       "    </tr>\n",
       "    <tr>\n",
       "      <th>5</th>\n",
       "      <td>14-25</td>\n",
       "      <td>0.46</td>\n",
       "    </tr>\n",
       "    <tr>\n",
       "      <th>6</th>\n",
       "      <td>26+</td>\n",
       "      <td>0.27</td>\n",
       "    </tr>\n",
       "  </tbody>\n",
       "</table>\n",
       "</div>"
      ],
      "text/plain": [
       "  company_size_group  no_educ\n",
       "0                  1     0.46\n",
       "1                  2     0.47\n",
       "2                  3     0.49\n",
       "3                4-7     0.51\n",
       "4               8-13     0.51\n",
       "5              14-25     0.46\n",
       "6                26+     0.27"
      ]
     },
     "execution_count": 147,
     "metadata": {},
     "output_type": "execute_result"
    }
   ],
   "source": [
    "# Добавляем столбец, который содержит данные, у кого есть данные об образовании\n",
    "df['has_educ'] = df['instituition'].notna()\n",
    "# Добавляем столбец, который содержит данные, у кого отсутствуют данные об образовании\n",
    "df['no_educ'] = 1 - df['has_educ']\n",
    "# Считаем долю сотрудников без данных об образовании в каждой группе\n",
    "df.groupby('company_size_group', observed=False)['no_educ'].mean().reset_index()"
   ]
  },
  {
   "cell_type": "markdown",
   "metadata": {},
   "source": [
    "- По получившимся данным, можно сделать вывод, что чем больше сотрудников в компании, тем меньше средняя доля сотрудников без информации об образовании. "
   ]
  },
  {
   "cell_type": "markdown",
   "metadata": {},
   "source": [
    "### 2.3. Объединять или не объединять — вот в чём вопрос\n",
    "\n",
    "Некоторые названия столбцов встречаются в датасетах чаще других. И, например, в результате предварительной проверки датасетов было выяснено, что столбец `company_id` подходит для объединения данных, так как большая часть значений встречается в разных датасетах не один, а несколько раз. Этот столбец может быть использован для объединения данных.\n",
    "\n",
    "* Установим, подходит ли для объединения данных столбец `network_username`, который встречается в нескольких датасетах. Нам необходимо понимать, дублируется ли для разных датасетов информация в столбцах с таким названием, и если да — то насколько часто.\n",
    "\n",
    "* Оценим, можно ли использовать столбцы с именем `network_username` для объединения данных."
   ]
  },
  {
   "cell_type": "code",
   "execution_count": 151,
   "metadata": {},
   "outputs": [
    {
     "name": "stdout",
     "output_type": "stream",
     "text": [
      "Датасет company_and_rounds:\n",
      " Кол-во пропусков в столбце network_username: 122240\n",
      " Доля строк с пропусками в столбце network_username: 0.5613158595608291\n"
     ]
    }
   ],
   "source": [
    "# Считаем пропуски в company_and_rounds\n",
    "print('Датасет company_and_rounds:')\n",
    "c_r_cnt_null = company_and_rounds['network_username'].isna().sum()\n",
    "print(f' Кол-во пропусков в столбце network_username: {c_r_cnt_null}')\n",
    "share_c_r_null = c_r_cnt_null / len(company_and_rounds)\n",
    "print(f' Доля строк с пропусками в столбце network_username: {share_c_r_null}')"
   ]
  },
  {
   "cell_type": "code",
   "execution_count": 152,
   "metadata": {},
   "outputs": [
    {
     "name": "stdout",
     "output_type": "stream",
     "text": [
      "Датасет people:\n",
      " Кол-во пропусков в столбце network_username: 187842\n",
      " Доля строк с пропусками в столбце network_username: 0.8285599601250943\n"
     ]
    }
   ],
   "source": [
    "# Считаем пропуски в столбце people\n",
    "print('Датасет people:')\n",
    "people_cnt_null = people['network_username'].isna().sum()\n",
    "print(f' Кол-во пропусков в столбце network_username: {people_cnt_null}')\n",
    "share_people_null = people_cnt_null / len(people)\n",
    "print(f' Доля строк с пропусками в столбце network_username: {share_people_null}')"
   ]
  },
  {
   "cell_type": "code",
   "execution_count": 153,
   "metadata": {},
   "outputs": [
    {
     "name": "stdout",
     "output_type": "stream",
     "text": [
      "Количество повторов в company_and_rounds: 8409\n",
      "Количество повторов в people: 425\n"
     ]
    }
   ],
   "source": [
    "# Проверим дублирование\n",
    "duplicates_comp = company_and_rounds[\"network_username\"].value_counts()\n",
    "duplicates_people = people[\"network_username\"].value_counts()\n",
    "\n",
    "# Посчитаем сколько значений встречаются несколько раз\n",
    "multi_comp = (duplicates_comp > 1).sum()\n",
    "multi_people = (duplicates_people > 1).sum()\n",
    "\n",
    "print(f\"Количество повторов в company_and_rounds: {multi_comp}\")\n",
    "print(f\"Количество повторов в people: {multi_people}\")"
   ]
  },
  {
   "cell_type": "code",
   "execution_count": 154,
   "metadata": {},
   "outputs": [
    {
     "name": "stdout",
     "output_type": "stream",
     "text": [
      "Уникальных network_username в people: 38421\n",
      "Уникальных network_username в company_and_rounds: 79571\n",
      "Общее количество пересечений: 2199\n",
      "Доля пересечений от общего кол-ва уникальных network_username в company_and_rounds: 0.027635696422063316\n"
     ]
    }
   ],
   "source": [
    "# Находим уникальные значения в каждом датасете\n",
    "unique_people = set(people[\"network_username\"].dropna().unique())\n",
    "unique_comp = set(company_and_rounds[\"network_username\"].dropna().unique())\n",
    "\n",
    "# Найдем пересечение\n",
    "common_usernames = unique_people.intersection(unique_comp)\n",
    "common_usernames_share = len(common_usernames) / len(unique_comp)\n",
    "\n",
    "# Вывод результатов\n",
    "print(f'Уникальных network_username в people: {len(unique_people)}')\n",
    "print(f'Уникальных network_username в company_and_rounds: {len(unique_comp)}')\n",
    "print(f'Общее количество пересечений: {len(common_usernames)}')\n",
    "print(f'Доля пересечений от общего кол-ва уникальных network_username в company_and_rounds: {common_usernames_share}')"
   ]
  },
  {
   "cell_type": "code",
   "execution_count": 155,
   "metadata": {},
   "outputs": [
    {
     "data": {
      "image/png": "[encoded data removed]",
      "text/plain": [
       "<Figure size 640x480 with 1 Axes>"
      ]
     },
     "metadata": {},
     "output_type": "display_data"
    }
   ],
   "source": [
    "# Строим диаграмму Венна\n",
    "venn2([unique_people, unique_comp], set_labels=('People Usernames', 'Company Usernames'))\n",
    "\n",
    "#Отображаем график\n",
    "plt.title(\"Пересечение People usernames и Company Usernames\")\n",
    "plt.show()"
   ]
  },
  {
   "cell_type": "markdown",
   "metadata": {},
   "source": [
    "Столбец `network_username` нельзя использовать для объединения, так как общее количество пересечений между столбцами довольно маленькое, что делает ключ бесполезным для объединения.\n",
    "\n",
    "Объединение таблиц по данному столбцу приведет к потере данных и возможным ошибкам."
   ]
  },
  {
   "cell_type": "markdown",
   "metadata": {
    "id": "EHcODomVrJg1"
   },
   "source": [
    "\n",
    "### 2.4. Проблемный датасет и причина возникновения пропусков\n",
    "\n",
    "Во время собственного анализа данных у заказчика больше всего вопросов возникло к датасету `company_and_rounds.csv`. В нём много пропусков как раз в информации о раундах, которая заказчику важна. Хотя информация об общем объёме финансирования по раундам присутствует в других датасетах, заказчик считает данные `company_and_rounds.csv` о размере средств наиболее верными.\n",
    "\n",
    "* Приведем данные в вид, который позволяет проводить анализ в разрезе отдельных компаний. \n",
    "\n",
    "* Максимальным образом сохраняя данные, сохранив их связность и исключив возможные возникающие при этом ошибки, подготовим данные так, чтобы удобно было отобрать компании по параметрам и рассчитать показатели из расчёта на одну компанию."
   ]
  },
  {
   "cell_type": "code",
   "execution_count": 156,
   "metadata": {
    "id": "SFfUmzron0Tc"
   },
   "outputs": [
    {
     "name": "stdout",
     "output_type": "stream",
     "text": [
      "<class 'pandas.core.frame.DataFrame'>\n",
      "RangeIndex: 217774 entries, 0 to 217773\n",
      "Data columns (total 23 columns):\n",
      " #   Column               Non-Null Count   Dtype         \n",
      "---  ------               --------------   -----         \n",
      " 0   company_ID           217472 non-null  float64       \n",
      " 1   name                 217471 non-null  object        \n",
      " 2   category_code        143886 non-null  object        \n",
      " 3   status               217472 non-null  object        \n",
      " 4   founded_at           109956 non-null  datetime64[ns]\n",
      " 5   closed_at            3449 non-null    datetime64[ns]\n",
      " 6   domain               147159 non-null  object        \n",
      " 7   network_username     95534 non-null   object        \n",
      " 8   country_code         108607 non-null  object        \n",
      " 9   investment_rounds    217472 non-null  float64       \n",
      " 10  funding_rounds       217472 non-null  float64       \n",
      " 11  funding_total        217472 non-null  float64       \n",
      " 12  milestones           217472 non-null  float64       \n",
      " 13  funding_round_id     52928 non-null   float64       \n",
      " 14  company_id           52928 non-null   float64       \n",
      " 15  funded_at            52680 non-null   datetime64[ns]\n",
      " 16  funding_round_type   52928 non-null   object        \n",
      " 17  raised_amount        52928 non-null   float64       \n",
      " 18  pre_money_valuation  52928 non-null   float64       \n",
      " 19  participants         52928 non-null   float64       \n",
      " 20  is_first_round       52928 non-null   float64       \n",
      " 21  is_last_round        52928 non-null   float64       \n",
      " 22  year                 52680 non-null   float64       \n",
      "dtypes: datetime64[ns](3), float64(13), object(7)\n",
      "memory usage: 38.2+ MB\n"
     ]
    }
   ],
   "source": [
    "company_and_rounds.info()"
   ]
  },
  {
   "cell_type": "code",
   "execution_count": 157,
   "metadata": {},
   "outputs": [
    {
     "data": {
      "text/plain": [
       "company_ID                302\n",
       "name                      303\n",
       "category_code           73888\n",
       "status                    302\n",
       "founded_at             107818\n",
       "closed_at              214325\n",
       "domain                  70615\n",
       "network_username       122240\n",
       "country_code           109167\n",
       "investment_rounds         302\n",
       "funding_rounds            302\n",
       "funding_total             302\n",
       "milestones                302\n",
       "funding_round_id       164846\n",
       "company_id             164846\n",
       "funded_at              165094\n",
       "funding_round_type     164846\n",
       "raised_amount          164846\n",
       "pre_money_valuation    164846\n",
       "participants           164846\n",
       "is_first_round         164846\n",
       "is_last_round          164846\n",
       "year                   165094\n",
       "dtype: int64"
      ]
     },
     "execution_count": 157,
     "metadata": {},
     "output_type": "execute_result"
    }
   ],
   "source": [
    "#Считаем кол-во пропусков в датасете\n",
    "company_and_rounds.isna().sum()"
   ]
  },
  {
   "cell_type": "code",
   "execution_count": 158,
   "metadata": {},
   "outputs": [
    {
     "data": {
      "text/plain": [
       "company_ID            0.00\n",
       "name                  0.00\n",
       "category_code         0.34\n",
       "status                0.00\n",
       "founded_at            0.50\n",
       "closed_at             0.98\n",
       "domain                0.32\n",
       "network_username      0.56\n",
       "country_code          0.50\n",
       "investment_rounds     0.00\n",
       "funding_rounds        0.00\n",
       "funding_total         0.00\n",
       "milestones            0.00\n",
       "funding_round_id      0.76\n",
       "company_id            0.76\n",
       "funded_at             0.76\n",
       "funding_round_type    0.76\n",
       "raised_amount         0.76\n",
       "pre_money_valuation   0.76\n",
       "participants          0.76\n",
       "is_first_round        0.76\n",
       "is_last_round         0.76\n",
       "year                  0.76\n",
       "dtype: float64"
      ]
     },
     "execution_count": 158,
     "metadata": {},
     "output_type": "execute_result"
    }
   ],
   "source": [
    "# Считаем долю строк с пропусками\n",
    "company_and_rounds.isna().sum() / len(company_and_rounds)"
   ]
  },
  {
   "cell_type": "markdown",
   "metadata": {},
   "source": [
    "Начиная со столбца `funding_round_id`, можно заметить, что доля пропусков массивна и практически идентична  — это намекает на то, что данные изначально логически делились на две части:\n",
    "- информация о компаниях\n",
    "- информация о раундах финансирования\n"
   ]
  },
  {
   "cell_type": "code",
   "execution_count": 159,
   "metadata": {},
   "outputs": [],
   "source": [
    "# Создаем списки столбцов для двух датасетов\n",
    "company_columns = ['company_ID', 'name', 'category_code', 'status', 'founded_at', 'closed_at', 'domain', 'network_username', \n",
    "                   'country_code', 'investment_rounds', 'funding_rounds', 'funding_total', 'milestones']\n",
    "rounds_columns = ['funding_round_id', 'company_id', 'funded_at', 'funding_round_type', 'raised_amount', 'pre_money_valuation', \n",
    "                  'participants', 'is_first_round', 'is_last_round']"
   ]
  },
  {
   "cell_type": "markdown",
   "metadata": {},
   "source": [
    "Начнем работу с датасета `company`:"
   ]
  },
  {
   "cell_type": "code",
   "execution_count": 160,
   "metadata": {},
   "outputs": [
    {
     "data": {
      "text/html": [
       "<div>\n",
       "<style scoped>\n",
       "    .dataframe tbody tr th:only-of-type {\n",
       "        vertical-align: middle;\n",
       "    }\n",
       "\n",
       "    .dataframe tbody tr th {\n",
       "        vertical-align: top;\n",
       "    }\n",
       "\n",
       "    .dataframe thead th {\n",
       "        text-align: right;\n",
       "    }\n",
       "</style>\n",
       "<table border=\"1\" class=\"dataframe\">\n",
       "  <thead>\n",
       "    <tr style=\"text-align: right;\">\n",
       "      <th></th>\n",
       "      <th>company_ID</th>\n",
       "      <th>name</th>\n",
       "      <th>category_code</th>\n",
       "      <th>status</th>\n",
       "      <th>founded_at</th>\n",
       "      <th>closed_at</th>\n",
       "      <th>domain</th>\n",
       "      <th>network_username</th>\n",
       "      <th>country_code</th>\n",
       "      <th>investment_rounds</th>\n",
       "      <th>funding_rounds</th>\n",
       "      <th>funding_total</th>\n",
       "      <th>milestones</th>\n",
       "    </tr>\n",
       "  </thead>\n",
       "  <tbody>\n",
       "    <tr>\n",
       "      <th>0</th>\n",
       "      <td>1.00</td>\n",
       "      <td>Wetpaint</td>\n",
       "      <td>web</td>\n",
       "      <td>operating</td>\n",
       "      <td>2005-10-17</td>\n",
       "      <td>NaT</td>\n",
       "      <td>wetpaint-inc.com</td>\n",
       "      <td>BachelrWetpaint</td>\n",
       "      <td>USA</td>\n",
       "      <td>0.00</td>\n",
       "      <td>3.00</td>\n",
       "      <td>39,750,000.00</td>\n",
       "      <td>5.00</td>\n",
       "    </tr>\n",
       "    <tr>\n",
       "      <th>1</th>\n",
       "      <td>1.00</td>\n",
       "      <td>Wetpaint</td>\n",
       "      <td>web</td>\n",
       "      <td>operating</td>\n",
       "      <td>2005-10-17</td>\n",
       "      <td>NaT</td>\n",
       "      <td>wetpaint-inc.com</td>\n",
       "      <td>BachelrWetpaint</td>\n",
       "      <td>USA</td>\n",
       "      <td>0.00</td>\n",
       "      <td>3.00</td>\n",
       "      <td>39,750,000.00</td>\n",
       "      <td>5.00</td>\n",
       "    </tr>\n",
       "    <tr>\n",
       "      <th>2</th>\n",
       "      <td>1.00</td>\n",
       "      <td>Wetpaint</td>\n",
       "      <td>web</td>\n",
       "      <td>operating</td>\n",
       "      <td>2005-10-17</td>\n",
       "      <td>NaT</td>\n",
       "      <td>wetpaint-inc.com</td>\n",
       "      <td>BachelrWetpaint</td>\n",
       "      <td>USA</td>\n",
       "      <td>0.00</td>\n",
       "      <td>3.00</td>\n",
       "      <td>39,750,000.00</td>\n",
       "      <td>5.00</td>\n",
       "    </tr>\n",
       "    <tr>\n",
       "      <th>3</th>\n",
       "      <td>10.00</td>\n",
       "      <td>Flektor</td>\n",
       "      <td>games_video</td>\n",
       "      <td>acquired</td>\n",
       "      <td>NaT</td>\n",
       "      <td>NaT</td>\n",
       "      <td>flektor.com</td>\n",
       "      <td>NaN</td>\n",
       "      <td>USA</td>\n",
       "      <td>0.00</td>\n",
       "      <td>0.00</td>\n",
       "      <td>0.00</td>\n",
       "      <td>0.00</td>\n",
       "    </tr>\n",
       "    <tr>\n",
       "      <th>4</th>\n",
       "      <td>100.00</td>\n",
       "      <td>There</td>\n",
       "      <td>games_video</td>\n",
       "      <td>acquired</td>\n",
       "      <td>NaT</td>\n",
       "      <td>NaT</td>\n",
       "      <td>there.com</td>\n",
       "      <td>NaN</td>\n",
       "      <td>USA</td>\n",
       "      <td>0.00</td>\n",
       "      <td>0.00</td>\n",
       "      <td>0.00</td>\n",
       "      <td>4.00</td>\n",
       "    </tr>\n",
       "  </tbody>\n",
       "</table>\n",
       "</div>"
      ],
      "text/plain": [
       "   company_ID      name category_code     status founded_at closed_at  \\\n",
       "0        1.00  Wetpaint           web  operating 2005-10-17       NaT   \n",
       "1        1.00  Wetpaint           web  operating 2005-10-17       NaT   \n",
       "2        1.00  Wetpaint           web  operating 2005-10-17       NaT   \n",
       "3       10.00   Flektor   games_video   acquired        NaT       NaT   \n",
       "4      100.00     There   games_video   acquired        NaT       NaT   \n",
       "\n",
       "             domain network_username country_code  investment_rounds  \\\n",
       "0  wetpaint-inc.com  BachelrWetpaint          USA               0.00   \n",
       "1  wetpaint-inc.com  BachelrWetpaint          USA               0.00   \n",
       "2  wetpaint-inc.com  BachelrWetpaint          USA               0.00   \n",
       "3       flektor.com              NaN          USA               0.00   \n",
       "4         there.com              NaN          USA               0.00   \n",
       "\n",
       "   funding_rounds  funding_total  milestones  \n",
       "0            3.00  39,750,000.00        5.00  \n",
       "1            3.00  39,750,000.00        5.00  \n",
       "2            3.00  39,750,000.00        5.00  \n",
       "3            0.00           0.00        0.00  \n",
       "4            0.00           0.00        4.00  "
      ]
     },
     "execution_count": 160,
     "metadata": {},
     "output_type": "execute_result"
    }
   ],
   "source": [
    "#Создаем новый датасет с компаниями\n",
    "company = company_and_rounds[company_columns]\n",
    "company.head()"
   ]
  },
  {
   "cell_type": "code",
   "execution_count": 161,
   "metadata": {},
   "outputs": [
    {
     "name": "stdout",
     "output_type": "stream",
     "text": [
      "<class 'pandas.core.frame.DataFrame'>\n",
      "RangeIndex: 217774 entries, 0 to 217773\n",
      "Data columns (total 13 columns):\n",
      " #   Column             Non-Null Count   Dtype         \n",
      "---  ------             --------------   -----         \n",
      " 0   company_ID         217472 non-null  float64       \n",
      " 1   name               217471 non-null  object        \n",
      " 2   category_code      143886 non-null  object        \n",
      " 3   status             217472 non-null  object        \n",
      " 4   founded_at         109956 non-null  datetime64[ns]\n",
      " 5   closed_at          3449 non-null    datetime64[ns]\n",
      " 6   domain             147159 non-null  object        \n",
      " 7   network_username   95534 non-null   object        \n",
      " 8   country_code       108607 non-null  object        \n",
      " 9   investment_rounds  217472 non-null  float64       \n",
      " 10  funding_rounds     217472 non-null  float64       \n",
      " 11  funding_total      217472 non-null  float64       \n",
      " 12  milestones         217472 non-null  float64       \n",
      "dtypes: datetime64[ns](2), float64(5), object(6)\n",
      "memory usage: 21.6+ MB\n"
     ]
    }
   ],
   "source": [
    "company.info()"
   ]
  },
  {
   "cell_type": "code",
   "execution_count": 162,
   "metadata": {},
   "outputs": [
    {
     "data": {
      "text/plain": [
       "217472"
      ]
     },
     "execution_count": 162,
     "metadata": {},
     "output_type": "execute_result"
    }
   ],
   "source": [
    "# Удаляем строки в которых все значения пропущены\n",
    "company = company.dropna(how = 'all')\n",
    "company.shape[0]"
   ]
  },
  {
   "cell_type": "code",
   "execution_count": 163,
   "metadata": {},
   "outputs": [
    {
     "data": {
      "text/plain": [
       "20919"
      ]
     },
     "execution_count": 163,
     "metadata": {},
     "output_type": "execute_result"
    }
   ],
   "source": [
    "# Проверяем наличие явных дубликатов\n",
    "company.duplicated().sum()"
   ]
  },
  {
   "cell_type": "code",
   "execution_count": 164,
   "metadata": {},
   "outputs": [
    {
     "data": {
      "text/plain": [
       "196553"
      ]
     },
     "execution_count": 164,
     "metadata": {},
     "output_type": "execute_result"
    }
   ],
   "source": [
    "# Удаляем дубликаты\n",
    "company = company.drop_duplicates()\n",
    "company.shape[0]"
   ]
  },
  {
   "cell_type": "markdown",
   "metadata": {},
   "source": [
    "Теперь датасет `rounds`:"
   ]
  },
  {
   "cell_type": "code",
   "execution_count": 165,
   "metadata": {},
   "outputs": [
    {
     "data": {
      "text/html": [
       "<div>\n",
       "<style scoped>\n",
       "    .dataframe tbody tr th:only-of-type {\n",
       "        vertical-align: middle;\n",
       "    }\n",
       "\n",
       "    .dataframe tbody tr th {\n",
       "        vertical-align: top;\n",
       "    }\n",
       "\n",
       "    .dataframe thead th {\n",
       "        text-align: right;\n",
       "    }\n",
       "</style>\n",
       "<table border=\"1\" class=\"dataframe\">\n",
       "  <thead>\n",
       "    <tr style=\"text-align: right;\">\n",
       "      <th></th>\n",
       "      <th>funding_round_id</th>\n",
       "      <th>company_id</th>\n",
       "      <th>funded_at</th>\n",
       "      <th>funding_round_type</th>\n",
       "      <th>raised_amount</th>\n",
       "      <th>pre_money_valuation</th>\n",
       "      <th>participants</th>\n",
       "      <th>is_first_round</th>\n",
       "      <th>is_last_round</th>\n",
       "    </tr>\n",
       "  </thead>\n",
       "  <tbody>\n",
       "    <tr>\n",
       "      <th>0</th>\n",
       "      <td>888.00</td>\n",
       "      <td>1.00</td>\n",
       "      <td>2005-10-01</td>\n",
       "      <td>series-a</td>\n",
       "      <td>5,250,000.00</td>\n",
       "      <td>0.00</td>\n",
       "      <td>2.00</td>\n",
       "      <td>0.00</td>\n",
       "      <td>1.00</td>\n",
       "    </tr>\n",
       "    <tr>\n",
       "      <th>1</th>\n",
       "      <td>889.00</td>\n",
       "      <td>1.00</td>\n",
       "      <td>2007-01-01</td>\n",
       "      <td>series-b</td>\n",
       "      <td>9,500,000.00</td>\n",
       "      <td>0.00</td>\n",
       "      <td>3.00</td>\n",
       "      <td>0.00</td>\n",
       "      <td>0.00</td>\n",
       "    </tr>\n",
       "    <tr>\n",
       "      <th>2</th>\n",
       "      <td>2,312.00</td>\n",
       "      <td>1.00</td>\n",
       "      <td>2008-05-19</td>\n",
       "      <td>series-c+</td>\n",
       "      <td>25,000,000.00</td>\n",
       "      <td>0.00</td>\n",
       "      <td>4.00</td>\n",
       "      <td>1.00</td>\n",
       "      <td>0.00</td>\n",
       "    </tr>\n",
       "    <tr>\n",
       "      <th>3</th>\n",
       "      <td>NaN</td>\n",
       "      <td>NaN</td>\n",
       "      <td>NaT</td>\n",
       "      <td>NaN</td>\n",
       "      <td>NaN</td>\n",
       "      <td>NaN</td>\n",
       "      <td>NaN</td>\n",
       "      <td>NaN</td>\n",
       "      <td>NaN</td>\n",
       "    </tr>\n",
       "    <tr>\n",
       "      <th>4</th>\n",
       "      <td>NaN</td>\n",
       "      <td>NaN</td>\n",
       "      <td>NaT</td>\n",
       "      <td>NaN</td>\n",
       "      <td>NaN</td>\n",
       "      <td>NaN</td>\n",
       "      <td>NaN</td>\n",
       "      <td>NaN</td>\n",
       "      <td>NaN</td>\n",
       "    </tr>\n",
       "  </tbody>\n",
       "</table>\n",
       "</div>"
      ],
      "text/plain": [
       "   funding_round_id  company_id  funded_at funding_round_type  raised_amount  \\\n",
       "0            888.00        1.00 2005-10-01           series-a   5,250,000.00   \n",
       "1            889.00        1.00 2007-01-01           series-b   9,500,000.00   \n",
       "2          2,312.00        1.00 2008-05-19          series-c+  25,000,000.00   \n",
       "3               NaN         NaN        NaT                NaN            NaN   \n",
       "4               NaN         NaN        NaT                NaN            NaN   \n",
       "\n",
       "   pre_money_valuation  participants  is_first_round  is_last_round  \n",
       "0                 0.00          2.00            0.00           1.00  \n",
       "1                 0.00          3.00            0.00           0.00  \n",
       "2                 0.00          4.00            1.00           0.00  \n",
       "3                  NaN           NaN             NaN            NaN  \n",
       "4                  NaN           NaN             NaN            NaN  "
      ]
     },
     "execution_count": 165,
     "metadata": {},
     "output_type": "execute_result"
    }
   ],
   "source": [
    "# Создаем новый датасет с раундами финансирования\n",
    "rounds = company_and_rounds[rounds_columns]\n",
    "rounds.head()"
   ]
  },
  {
   "cell_type": "code",
   "execution_count": 166,
   "metadata": {},
   "outputs": [
    {
     "name": "stdout",
     "output_type": "stream",
     "text": [
      "<class 'pandas.core.frame.DataFrame'>\n",
      "RangeIndex: 217774 entries, 0 to 217773\n",
      "Data columns (total 9 columns):\n",
      " #   Column               Non-Null Count  Dtype         \n",
      "---  ------               --------------  -----         \n",
      " 0   funding_round_id     52928 non-null  float64       \n",
      " 1   company_id           52928 non-null  float64       \n",
      " 2   funded_at            52680 non-null  datetime64[ns]\n",
      " 3   funding_round_type   52928 non-null  object        \n",
      " 4   raised_amount        52928 non-null  float64       \n",
      " 5   pre_money_valuation  52928 non-null  float64       \n",
      " 6   participants         52928 non-null  float64       \n",
      " 7   is_first_round       52928 non-null  float64       \n",
      " 8   is_last_round        52928 non-null  float64       \n",
      "dtypes: datetime64[ns](1), float64(7), object(1)\n",
      "memory usage: 15.0+ MB\n"
     ]
    }
   ],
   "source": [
    "rounds.info()"
   ]
  },
  {
   "cell_type": "code",
   "execution_count": 167,
   "metadata": {},
   "outputs": [
    {
     "data": {
      "text/plain": [
       "52928"
      ]
     },
     "execution_count": 167,
     "metadata": {},
     "output_type": "execute_result"
    }
   ],
   "source": [
    "#Удалим строки в которых все значения пропущены\n",
    "rounds = rounds.dropna(how = 'all')\n",
    "rounds.shape[0]"
   ]
  },
  {
   "cell_type": "code",
   "execution_count": 168,
   "metadata": {},
   "outputs": [
    {
     "data": {
      "text/plain": [
       "0"
      ]
     },
     "execution_count": 168,
     "metadata": {},
     "output_type": "execute_result"
    }
   ],
   "source": [
    "# Проверяем наличие явных дубликатов\n",
    "rounds.duplicated().sum()"
   ]
  },
  {
   "cell_type": "markdown",
   "metadata": {},
   "source": [
    "Явных дубликатов не обнаружено. Проверим неявные дубликаты"
   ]
  },
  {
   "cell_type": "code",
   "execution_count": 169,
   "metadata": {},
   "outputs": [
    {
     "data": {
      "text/plain": [
       "0"
      ]
     },
     "execution_count": 169,
     "metadata": {},
     "output_type": "execute_result"
    }
   ],
   "source": [
    "rounds.duplicated(subset = ['funding_round_id', 'company_id']).sum()"
   ]
  },
  {
   "cell_type": "markdown",
   "metadata": {},
   "source": [
    "### Промежуточный вывод\n",
    "**В ходе предварительного исследования:** \n",
    "\n",
    "1. Была создана сводная таблица и построен график, на основании которых была изучена динамика медианного размера финансирования по годам.\n",
    "2. Было выяснено, зависит ли полнота сведений о сотрудниках (например, об их образовании) от размера компаний.\n",
    "3. Установлено, что использовать столбцы с именем network_username для объединения данных не стоит.\n",
    "4. Датасет company_and_rounds был разделен на 2 части: в одном содержится информация о компаниях, в другом - о раундах финансирования. Также в каждом новом датасете были удалены строки с пропущенными значениями и дубликаты"
   ]
  },
  {
   "cell_type": "markdown",
   "metadata": {
    "id": "bmVYhphNrJg2"
   },
   "source": [
    "\n",
    "## Шаг 3. Исследовательский анализ объединённых таблиц\n"
   ]
  },
  {
   "cell_type": "markdown",
   "metadata": {
    "id": "3Di6tCT3rJg2"
   },
   "source": [
    "\n",
    "### 3.1. Объединение данных\n"
   ]
  },
  {
   "cell_type": "code",
   "execution_count": 170,
   "metadata": {
    "id": "vJZ4mO2Un1yt"
   },
   "outputs": [
    {
     "data": {
      "text/html": [
       "<div>\n",
       "<style scoped>\n",
       "    .dataframe tbody tr th:only-of-type {\n",
       "        vertical-align: middle;\n",
       "    }\n",
       "\n",
       "    .dataframe tbody tr th {\n",
       "        vertical-align: top;\n",
       "    }\n",
       "\n",
       "    .dataframe thead th {\n",
       "        text-align: right;\n",
       "    }\n",
       "</style>\n",
       "<table border=\"1\" class=\"dataframe\">\n",
       "  <thead>\n",
       "    <tr style=\"text-align: right;\">\n",
       "      <th></th>\n",
       "      <th>company_ID</th>\n",
       "      <th>name</th>\n",
       "      <th>category_code</th>\n",
       "      <th>status</th>\n",
       "      <th>founded_at</th>\n",
       "      <th>closed_at</th>\n",
       "      <th>domain</th>\n",
       "      <th>network_username</th>\n",
       "      <th>country_code</th>\n",
       "      <th>investment_rounds</th>\n",
       "      <th>funding_rounds</th>\n",
       "      <th>funding_total</th>\n",
       "      <th>milestones</th>\n",
       "    </tr>\n",
       "  </thead>\n",
       "  <tbody>\n",
       "    <tr>\n",
       "      <th>0</th>\n",
       "      <td>1.00</td>\n",
       "      <td>Wetpaint</td>\n",
       "      <td>web</td>\n",
       "      <td>operating</td>\n",
       "      <td>2005-10-17</td>\n",
       "      <td>NaT</td>\n",
       "      <td>wetpaint-inc.com</td>\n",
       "      <td>BachelrWetpaint</td>\n",
       "      <td>USA</td>\n",
       "      <td>0.00</td>\n",
       "      <td>3.00</td>\n",
       "      <td>39,750,000.00</td>\n",
       "      <td>5.00</td>\n",
       "    </tr>\n",
       "    <tr>\n",
       "      <th>3</th>\n",
       "      <td>10.00</td>\n",
       "      <td>Flektor</td>\n",
       "      <td>games_video</td>\n",
       "      <td>acquired</td>\n",
       "      <td>NaT</td>\n",
       "      <td>NaT</td>\n",
       "      <td>flektor.com</td>\n",
       "      <td>NaN</td>\n",
       "      <td>USA</td>\n",
       "      <td>0.00</td>\n",
       "      <td>0.00</td>\n",
       "      <td>0.00</td>\n",
       "      <td>0.00</td>\n",
       "    </tr>\n",
       "    <tr>\n",
       "      <th>4</th>\n",
       "      <td>100.00</td>\n",
       "      <td>There</td>\n",
       "      <td>games_video</td>\n",
       "      <td>acquired</td>\n",
       "      <td>NaT</td>\n",
       "      <td>NaT</td>\n",
       "      <td>there.com</td>\n",
       "      <td>NaN</td>\n",
       "      <td>USA</td>\n",
       "      <td>0.00</td>\n",
       "      <td>0.00</td>\n",
       "      <td>0.00</td>\n",
       "      <td>4.00</td>\n",
       "    </tr>\n",
       "    <tr>\n",
       "      <th>15</th>\n",
       "      <td>1,001.00</td>\n",
       "      <td>FriendFeed</td>\n",
       "      <td>web</td>\n",
       "      <td>acquired</td>\n",
       "      <td>2007-10-01</td>\n",
       "      <td>NaT</td>\n",
       "      <td>friendfeed.com</td>\n",
       "      <td>friendfeed</td>\n",
       "      <td>USA</td>\n",
       "      <td>0.00</td>\n",
       "      <td>1.00</td>\n",
       "      <td>5,000,000.00</td>\n",
       "      <td>3.00</td>\n",
       "    </tr>\n",
       "    <tr>\n",
       "      <th>20</th>\n",
       "      <td>10,014.00</td>\n",
       "      <td>Mobclix</td>\n",
       "      <td>mobile</td>\n",
       "      <td>acquired</td>\n",
       "      <td>2008-03-01</td>\n",
       "      <td>NaT</td>\n",
       "      <td>mobclix.com</td>\n",
       "      <td>mobclix</td>\n",
       "      <td>USA</td>\n",
       "      <td>0.00</td>\n",
       "      <td>1.00</td>\n",
       "      <td>0.00</td>\n",
       "      <td>4.00</td>\n",
       "    </tr>\n",
       "  </tbody>\n",
       "</table>\n",
       "</div>"
      ],
      "text/plain": [
       "    company_ID        name category_code     status founded_at closed_at  \\\n",
       "0         1.00    Wetpaint           web  operating 2005-10-17       NaT   \n",
       "3        10.00     Flektor   games_video   acquired        NaT       NaT   \n",
       "4       100.00       There   games_video   acquired        NaT       NaT   \n",
       "15    1,001.00  FriendFeed           web   acquired 2007-10-01       NaT   \n",
       "20   10,014.00     Mobclix        mobile   acquired 2008-03-01       NaT   \n",
       "\n",
       "              domain network_username country_code  investment_rounds  \\\n",
       "0   wetpaint-inc.com  BachelrWetpaint          USA               0.00   \n",
       "3        flektor.com              NaN          USA               0.00   \n",
       "4          there.com              NaN          USA               0.00   \n",
       "15    friendfeed.com       friendfeed          USA               0.00   \n",
       "20       mobclix.com          mobclix          USA               0.00   \n",
       "\n",
       "    funding_rounds  funding_total  milestones  \n",
       "0             3.00  39,750,000.00        5.00  \n",
       "3             0.00           0.00        0.00  \n",
       "4             0.00           0.00        4.00  \n",
       "15            1.00   5,000,000.00        3.00  \n",
       "20            1.00           0.00        4.00  "
      ]
     },
     "execution_count": 170,
     "metadata": {},
     "output_type": "execute_result"
    }
   ],
   "source": [
    "# Фильтруем датасет по условиям\n",
    "company_filtered = company[(company['funding_rounds']>0) | (company['investment_rounds']>0) | (company['status'] == 'acquired')]\n",
    "company_filtered.head()"
   ]
  },
  {
   "cell_type": "markdown",
   "metadata": {
    "id": "DFHINkV3rJg2"
   },
   "source": [
    "\n",
    "### 3.2. Анализ выбросов\n",
    "\n",
    "Заказчика интересует обычный для рассматриваемого периода размер средств, который предоставлялся компаниям.\n"
   ]
  },
  {
   "cell_type": "code",
   "execution_count": 171,
   "metadata": {
    "id": "8jm75fKXrJg2"
   },
   "outputs": [
    {
     "data": {
      "text/plain": [
       "count          40,747.00\n",
       "mean       10,135,609.64\n",
       "std        56,464,359.98\n",
       "min                 0.00\n",
       "25%                 0.00\n",
       "50%           600,000.00\n",
       "75%         5,650,650.00\n",
       "max     5,700,000,000.00\n",
       "Name: funding_total, dtype: float64"
      ]
     },
     "execution_count": 171,
     "metadata": {},
     "output_type": "execute_result"
    }
   ],
   "source": [
    "# Изучаем статистические показатели столбца funding_total\n",
    "company_filtered['funding_total'].describe()"
   ]
  },
  {
   "cell_type": "markdown",
   "metadata": {},
   "source": [
    "- средняя сумма финансирования составляет около 10.1 млн долларов и не отражает типичное финансирование из-за влияния крупных выбросов.\n",
    "- медианная сумма финансирования (600 тыс. долларов) намного меньше среднего значения. Это говорит о том, что распределение размера общего финансирования асимметрично, сильно скошенно вправо. \n",
    "- стандартное отклонение 56.4 млн, что говорит о высоком разбросе данных.\n",
    "- четверть компаний не получила никакого финансирования (0 долларов).\n",
    "- три четверти компаний получили финансирование менее 5.65 млн долларов.\n",
    "- максимальное финансирование 5.7 млрд долларов, что говорит о наличии сильных выбросов.\n",
    "\n",
    "Обычные способы  неприменимы к этим данным, потому что распределение суммы финансирования сильно асимметрично. \n",
    "\n",
    "Для визуализации распределения суммы финансирования построим диаграмму размаха."
   ]
  },
  {
   "cell_type": "code",
   "execution_count": 172,
   "metadata": {
    "id": "dIWqyEomn2MU"
   },
   "outputs": [
    {
     "data": {
      "image/png": "[encoded data removed]",
      "text/plain": [
       "<Figure size 1000x600 with 1 Axes>"
      ]
     },
     "metadata": {},
     "output_type": "display_data"
    }
   ],
   "source": [
    "plt.figure(figsize = (10,6))\n",
    "# Изменяем формат отображения меток осей\n",
    "plt.ticklabel_format(style='plain')\n",
    "# Строим боксплот\n",
    "plt.boxplot(company_filtered['funding_total'].dropna(),\n",
    "            vert = False)\n",
    "# Изменяем разворот меток на оси Х\n",
    "plt.xticks(rotation = 45, ha='right')\n",
    "# Сетка\n",
    "plt.grid(axis = 'x', linestyle = '--', alpha = 0.6)\n",
    "# Название осей и заголовок\n",
    "plt.xlabel('Сумма финансирования ($)')\n",
    "plt.title('Распределение общего финансирования компаний')\n",
    "plt.show()"
   ]
  },
  {
   "cell_type": "markdown",
   "metadata": {},
   "source": [
    "Ввиду огромного кол-ва выбросов визуализация получилась ненаглядной, построим диаграмму размаха без их учета."
   ]
  },
  {
   "cell_type": "code",
   "execution_count": 173,
   "metadata": {},
   "outputs": [
    {
     "data": {
      "image/png": "[encoded data removed]",
      "text/plain": [
       "<Figure size 1000x600 with 1 Axes>"
      ]
     },
     "metadata": {},
     "output_type": "display_data"
    }
   ],
   "source": [
    "plt.figure(figsize = (10,6))\n",
    "# Изменяем формат отображения осей\n",
    "plt.ticklabel_format(style='plain')\n",
    "# Строим боксплот\n",
    "plt.boxplot(company_filtered['funding_total'].dropna(),\n",
    "            vert = False,\n",
    "            showfliers=False)\n",
    "# Изменяем разворот меток на оси Х\n",
    "plt.xticks(rotation = 45, ha='right')\n",
    "# Сетка\n",
    "plt.grid(axis = 'x', linestyle = '--', alpha = 0.6)\n",
    "# Название осей и заголовок\n",
    "plt.xlabel('Сумма финансирования ($)')\n",
    "plt.title('Распределение общего финансирования компаний')\n",
    "plt.show()"
   ]
  },
  {
   "cell_type": "markdown",
   "metadata": {},
   "source": [
    "По получившимся графикам можно сделать следующие выводы:\n",
    "- Межквартильный размах составляет от 0 до 5.65 млн. долларов - эти значения можно считать типичными размерами финансирования. Распределение, как уже было подмечено, асимметрично скошенно вправо.\n",
    "- Медианное значение = 600 000 долларов - наиболее типичное финансирование для одной компании.\n",
    "- Максимальный размер финансирования составляет ~14 млн. долларов.\n",
    "- Экстремальные выбросы — финансирование выше 14 млн долларов и особенно до 5.7 млрд долларов — такое финансирование компаний явно нетипично."
   ]
  },
  {
   "cell_type": "markdown",
   "metadata": {
    "id": "JqkRAQrIrJg2"
   },
   "source": [
    "\n",
    "### 3.3. Куплены забесплатно?\n",
    "\n",
    "* Исследуем компании, которые были проданы за ноль или за один доллар, и при этом известно, что у них был ненулевой общий объём финансирования.\n",
    "\n",
    "* Рассчитаем аналитически верхнюю и нижнюю границу выбросов для столбца `funding_total`."
   ]
  },
  {
   "cell_type": "code",
   "execution_count": 174,
   "metadata": {
    "id": "wJHXCBwwrJg2"
   },
   "outputs": [
    {
     "data": {
      "text/html": [
       "<div>\n",
       "<style scoped>\n",
       "    .dataframe tbody tr th:only-of-type {\n",
       "        vertical-align: middle;\n",
       "    }\n",
       "\n",
       "    .dataframe tbody tr th {\n",
       "        vertical-align: top;\n",
       "    }\n",
       "\n",
       "    .dataframe thead th {\n",
       "        text-align: right;\n",
       "    }\n",
       "</style>\n",
       "<table border=\"1\" class=\"dataframe\">\n",
       "  <thead>\n",
       "    <tr style=\"text-align: right;\">\n",
       "      <th></th>\n",
       "      <th>company_ID</th>\n",
       "      <th>name</th>\n",
       "      <th>category_code</th>\n",
       "      <th>status</th>\n",
       "      <th>founded_at</th>\n",
       "      <th>closed_at</th>\n",
       "      <th>domain</th>\n",
       "      <th>network_username</th>\n",
       "      <th>country_code</th>\n",
       "      <th>investment_rounds</th>\n",
       "      <th>funding_rounds</th>\n",
       "      <th>funding_total</th>\n",
       "      <th>milestones</th>\n",
       "      <th>id</th>\n",
       "      <th>acquiring_company_id</th>\n",
       "      <th>acquired_company_id</th>\n",
       "      <th>term_code</th>\n",
       "      <th>price_amount</th>\n",
       "      <th>acquired_at</th>\n",
       "    </tr>\n",
       "  </thead>\n",
       "  <tbody>\n",
       "    <tr>\n",
       "      <th>7</th>\n",
       "      <td>10,054.00</td>\n",
       "      <td>Jumptap</td>\n",
       "      <td>mobile</td>\n",
       "      <td>acquired</td>\n",
       "      <td>2005-01-01</td>\n",
       "      <td>NaT</td>\n",
       "      <td>jumptap.com</td>\n",
       "      <td>jumptap</td>\n",
       "      <td>USA</td>\n",
       "      <td>0.00</td>\n",
       "      <td>7.00</td>\n",
       "      <td>121,500,000.00</td>\n",
       "      <td>3.00</td>\n",
       "      <td>9288</td>\n",
       "      <td>23283</td>\n",
       "      <td>10054</td>\n",
       "      <td>cash_and_stock</td>\n",
       "      <td>0</td>\n",
       "      <td>2013-08-13</td>\n",
       "    </tr>\n",
       "    <tr>\n",
       "      <th>17</th>\n",
       "      <td>101,312.00</td>\n",
       "      <td>SideTour</td>\n",
       "      <td>web</td>\n",
       "      <td>acquired</td>\n",
       "      <td>2011-06-01</td>\n",
       "      <td>NaT</td>\n",
       "      <td>sidetour.com</td>\n",
       "      <td>sidetour</td>\n",
       "      <td>USA</td>\n",
       "      <td>0.00</td>\n",
       "      <td>3.00</td>\n",
       "      <td>4,000,000.00</td>\n",
       "      <td>2.00</td>\n",
       "      <td>9653</td>\n",
       "      <td>11391</td>\n",
       "      <td>101312</td>\n",
       "      <td>NaN</td>\n",
       "      <td>0</td>\n",
       "      <td>2013-09-18</td>\n",
       "    </tr>\n",
       "    <tr>\n",
       "      <th>18</th>\n",
       "      <td>101,340.00</td>\n",
       "      <td>ChoicePass</td>\n",
       "      <td>enterprise</td>\n",
       "      <td>acquired</td>\n",
       "      <td>2011-07-01</td>\n",
       "      <td>NaT</td>\n",
       "      <td>choicepass.com</td>\n",
       "      <td>choicepass</td>\n",
       "      <td>USA</td>\n",
       "      <td>0.00</td>\n",
       "      <td>1.00</td>\n",
       "      <td>250,000.00</td>\n",
       "      <td>1.00</td>\n",
       "      <td>7272</td>\n",
       "      <td>1972</td>\n",
       "      <td>101340</td>\n",
       "      <td>NaN</td>\n",
       "      <td>0</td>\n",
       "      <td>2012-06-18</td>\n",
       "    </tr>\n",
       "    <tr>\n",
       "      <th>19</th>\n",
       "      <td>10,137.00</td>\n",
       "      <td>Producteev</td>\n",
       "      <td>software</td>\n",
       "      <td>acquired</td>\n",
       "      <td>2008-07-08</td>\n",
       "      <td>NaT</td>\n",
       "      <td>producteev.com</td>\n",
       "      <td>producteev</td>\n",
       "      <td>USA</td>\n",
       "      <td>0.00</td>\n",
       "      <td>3.00</td>\n",
       "      <td>1,310,000.00</td>\n",
       "      <td>2.00</td>\n",
       "      <td>8254</td>\n",
       "      <td>757</td>\n",
       "      <td>10137</td>\n",
       "      <td>cash_and_stock</td>\n",
       "      <td>0</td>\n",
       "      <td>2012-11-05</td>\n",
       "    </tr>\n",
       "    <tr>\n",
       "      <th>20</th>\n",
       "      <td>10,139.00</td>\n",
       "      <td>TradeCard</td>\n",
       "      <td>enterprise</td>\n",
       "      <td>acquired</td>\n",
       "      <td>1999-01-01</td>\n",
       "      <td>NaT</td>\n",
       "      <td>tradecard.com</td>\n",
       "      <td>TradeCard</td>\n",
       "      <td>USA</td>\n",
       "      <td>0.00</td>\n",
       "      <td>2.00</td>\n",
       "      <td>44,925,000.00</td>\n",
       "      <td>1.00</td>\n",
       "      <td>9326</td>\n",
       "      <td>44008</td>\n",
       "      <td>10139</td>\n",
       "      <td>NaN</td>\n",
       "      <td>0</td>\n",
       "      <td>2013-04-01</td>\n",
       "    </tr>\n",
       "  </tbody>\n",
       "</table>\n",
       "</div>"
      ],
      "text/plain": [
       "    company_ID        name category_code    status founded_at closed_at  \\\n",
       "7    10,054.00     Jumptap        mobile  acquired 2005-01-01       NaT   \n",
       "17  101,312.00    SideTour           web  acquired 2011-06-01       NaT   \n",
       "18  101,340.00  ChoicePass    enterprise  acquired 2011-07-01       NaT   \n",
       "19   10,137.00  Producteev      software  acquired 2008-07-08       NaT   \n",
       "20   10,139.00   TradeCard    enterprise  acquired 1999-01-01       NaT   \n",
       "\n",
       "            domain network_username country_code  investment_rounds  \\\n",
       "7      jumptap.com          jumptap          USA               0.00   \n",
       "17    sidetour.com         sidetour          USA               0.00   \n",
       "18  choicepass.com       choicepass          USA               0.00   \n",
       "19  producteev.com       producteev          USA               0.00   \n",
       "20   tradecard.com        TradeCard          USA               0.00   \n",
       "\n",
       "    funding_rounds  funding_total  milestones    id  acquiring_company_id  \\\n",
       "7             7.00 121,500,000.00        3.00  9288                 23283   \n",
       "17            3.00   4,000,000.00        2.00  9653                 11391   \n",
       "18            1.00     250,000.00        1.00  7272                  1972   \n",
       "19            3.00   1,310,000.00        2.00  8254                   757   \n",
       "20            2.00  44,925,000.00        1.00  9326                 44008   \n",
       "\n",
       "    acquired_company_id       term_code  price_amount acquired_at  \n",
       "7                 10054  cash_and_stock             0  2013-08-13  \n",
       "17               101312             NaN             0  2013-09-18  \n",
       "18               101340             NaN             0  2012-06-18  \n",
       "19                10137  cash_and_stock             0  2012-11-05  \n",
       "20                10139             NaN             0  2013-04-01  "
      ]
     },
     "execution_count": 174,
     "metadata": {},
     "output_type": "execute_result"
    }
   ],
   "source": [
    "# Присоединяем к таблице компаний таблицу с покупками \n",
    "sell_company = company_filtered.merge(acquisition, left_on = 'company_ID', right_on = 'acquired_company_id')\n",
    "# Фильтруем компании по условию\n",
    "sell_company = sell_company[((sell_company['price_amount'] == 0) | (sell_company['price_amount'] == 1)) & (sell_company['funding_total'] > 0)]\n",
    "sell_company.head()"
   ]
  },
  {
   "cell_type": "code",
   "execution_count": 175,
   "metadata": {},
   "outputs": [
    {
     "data": {
      "text/plain": [
       "count           1,618.00\n",
       "mean       18,152,961.94\n",
       "std       144,503,027.47\n",
       "min             3,750.00\n",
       "25%         2,000,000.00\n",
       "50%         6,000,000.00\n",
       "75%        15,500,000.00\n",
       "max     5,700,000,000.00\n",
       "Name: funding_total, dtype: float64"
      ]
     },
     "execution_count": 175,
     "metadata": {},
     "output_type": "execute_result"
    }
   ],
   "source": [
    "# Изучаем статистические показатели столбца funding_total\n",
    "sell_company['funding_total'].describe()"
   ]
  },
  {
   "cell_type": "markdown",
   "metadata": {},
   "source": [
    "Для расчёта границ выбросов для `funding_total` используем метод межквартильного размаха.\n",
    "Формула:\n",
    "* IQR=Q3−Q1\n",
    "* Нижняя граница=Q1−1.5×IQR\n",
    "* Верхняя граница=Q3+1.5×IQR"
   ]
  },
  {
   "cell_type": "code",
   "execution_count": 176,
   "metadata": {
    "id": "-kA4CO27n2ql"
   },
   "outputs": [
    {
     "name": "stdout",
     "output_type": "stream",
     "text": [
      "Нижняя граница выбросов: -18,250,000.00\n",
      "Верхняя граница выбросов: 35,750,000.00\n"
     ]
    }
   ],
   "source": [
    "# расчет квартилей\n",
    "Q1 = sell_company['funding_total'].quantile(0.25)  # 25-й процентиль\n",
    "Q3 = sell_company['funding_total'].quantile(0.75)  # 75-й процентиль\n",
    "# Межквартильный размах\n",
    "IQR = Q3 - Q1\n",
    "\n",
    "lower_bound = Q1 - 1.5 * IQR  # Нижняя граница\n",
    "upper_bound = Q3 + 1.5 * IQR  # Верхняя граница\n",
    "\n",
    "print(f\"Нижняя граница выбросов: {lower_bound:,.2f}\")\n",
    "print(f\"Верхняя граница выбросов: {upper_bound:,.2f}\")"
   ]
  },
  {
   "cell_type": "markdown",
   "metadata": {},
   "source": [
    "Выводы:\n",
    "- Отрицательное значение финансирования не имеет смысла, так как сумма финансирования не может быть меньше нуля, поэтому стоит заменить нижнюю границу на 0.\n",
    "- Установление верхней границы на уровне 35.75 млн. долларов означает, что все компании с финансированием выше этой суммы будут считаться выбросами. Так у нас довольно скошенное распределение вправо (а IQR отсекает слишком много, не учитывая ее), то логичнее поставить порог выше, чтобы не удалять крупные, но все еще реалистичные финансирования компаний.\n",
    "- Более корректным будет расчитать верхнюю границу выбросов с 99-й процентилем, т.к. 99-й процентиль естественно отражает верхнюю границу типичных значений."
   ]
  },
  {
   "cell_type": "code",
   "execution_count": 177,
   "metadata": {},
   "outputs": [
    {
     "name": "stdout",
     "output_type": "stream",
     "text": [
      "Нижняя граница выбросов: 0\n",
      "Верхняя граница выбросов: 375,882,325.00\n"
     ]
    }
   ],
   "source": [
    "# 99-й процентиль\n",
    "Q3 = sell_company['funding_total'].quantile(0.99)  \n",
    "# Межквартильный размах\n",
    "IQR = Q3 - Q1\n",
    "\n",
    "lower_bound = 0\n",
    "upper_bound = Q3 + 1.5 * IQR  \n",
    "\n",
    "print(f\"Нижняя граница выбросов: {lower_bound}\")\n",
    "print(f\"Верхняя граница выбросов: {upper_bound:,.2f}\")"
   ]
  },
  {
   "cell_type": "markdown",
   "metadata": {
    "id": "mEiWpROjrJg2"
   },
   "source": [
    "\n",
    "### 3.4. Цены стартапов по категориям\n",
    "\n",
    "Категории стартапов с наибольшими ценами и значительным разбросом цен могут быть наиболее привлекательными для крупных инвесторов, которые готовы к высоким рискам ради потенциально больших доходов. Среди категорий стартапов выделим категории стартапов, характеризующиеся:\n",
    "\n",
    "* наибольшими ценами;\n",
    "* и наибольшим разбросом цен за стартап."
   ]
  },
  {
   "cell_type": "code",
   "execution_count": 288,
   "metadata": {
    "id": "jQ09dYUWrJg2"
   },
   "outputs": [
    {
     "data": {
      "text/html": [
       "<div>\n",
       "<style scoped>\n",
       "    .dataframe tbody tr th:only-of-type {\n",
       "        vertical-align: middle;\n",
       "    }\n",
       "\n",
       "    .dataframe tbody tr th {\n",
       "        vertical-align: top;\n",
       "    }\n",
       "\n",
       "    .dataframe thead th {\n",
       "        text-align: right;\n",
       "    }\n",
       "</style>\n",
       "<table border=\"1\" class=\"dataframe\">\n",
       "  <thead>\n",
       "    <tr style=\"text-align: right;\">\n",
       "      <th></th>\n",
       "      <th>company_ID</th>\n",
       "      <th>name</th>\n",
       "      <th>category_code</th>\n",
       "      <th>status</th>\n",
       "      <th>founded_at</th>\n",
       "      <th>closed_at</th>\n",
       "      <th>domain</th>\n",
       "      <th>network_username</th>\n",
       "      <th>country_code</th>\n",
       "      <th>investment_rounds</th>\n",
       "      <th>funding_rounds</th>\n",
       "      <th>funding_total</th>\n",
       "      <th>milestones</th>\n",
       "      <th>id</th>\n",
       "      <th>acquiring_company_id</th>\n",
       "      <th>acquired_company_id</th>\n",
       "      <th>term_code</th>\n",
       "      <th>price_amount</th>\n",
       "      <th>acquired_at</th>\n",
       "    </tr>\n",
       "  </thead>\n",
       "  <tbody>\n",
       "    <tr>\n",
       "      <th>0</th>\n",
       "      <td>10.00</td>\n",
       "      <td>Flektor</td>\n",
       "      <td>games_video</td>\n",
       "      <td>acquired</td>\n",
       "      <td>NaT</td>\n",
       "      <td>NaT</td>\n",
       "      <td>flektor.com</td>\n",
       "      <td>NaN</td>\n",
       "      <td>USA</td>\n",
       "      <td>0.00</td>\n",
       "      <td>0.00</td>\n",
       "      <td>0.00</td>\n",
       "      <td>0.00</td>\n",
       "      <td>1</td>\n",
       "      <td>11</td>\n",
       "      <td>10</td>\n",
       "      <td>NaN</td>\n",
       "      <td>20000000</td>\n",
       "      <td>2007-05-30</td>\n",
       "    </tr>\n",
       "    <tr>\n",
       "      <th>2</th>\n",
       "      <td>1,001.00</td>\n",
       "      <td>FriendFeed</td>\n",
       "      <td>web</td>\n",
       "      <td>acquired</td>\n",
       "      <td>2007-10-01</td>\n",
       "      <td>NaT</td>\n",
       "      <td>friendfeed.com</td>\n",
       "      <td>friendfeed</td>\n",
       "      <td>USA</td>\n",
       "      <td>0.00</td>\n",
       "      <td>1.00</td>\n",
       "      <td>5,000,000.00</td>\n",
       "      <td>3.00</td>\n",
       "      <td>1901</td>\n",
       "      <td>5</td>\n",
       "      <td>1001</td>\n",
       "      <td>cash_and_stock</td>\n",
       "      <td>47500000</td>\n",
       "      <td>2009-08-10</td>\n",
       "    </tr>\n",
       "    <tr>\n",
       "      <th>9</th>\n",
       "      <td>1,007.00</td>\n",
       "      <td>Rupture</td>\n",
       "      <td>games_video</td>\n",
       "      <td>acquired</td>\n",
       "      <td>NaT</td>\n",
       "      <td>NaT</td>\n",
       "      <td>rupture.com</td>\n",
       "      <td>rupture</td>\n",
       "      <td>USA</td>\n",
       "      <td>0.00</td>\n",
       "      <td>1.00</td>\n",
       "      <td>3,000,000.00</td>\n",
       "      <td>2.00</td>\n",
       "      <td>2186</td>\n",
       "      <td>851</td>\n",
       "      <td>1007</td>\n",
       "      <td>cash</td>\n",
       "      <td>15000000</td>\n",
       "      <td>2008-05-08</td>\n",
       "    </tr>\n",
       "    <tr>\n",
       "      <th>23</th>\n",
       "      <td>101,519.00</td>\n",
       "      <td>Vidacare</td>\n",
       "      <td>hardware</td>\n",
       "      <td>acquired</td>\n",
       "      <td>NaT</td>\n",
       "      <td>NaT</td>\n",
       "      <td>vidacare.com</td>\n",
       "      <td>NaN</td>\n",
       "      <td>USA</td>\n",
       "      <td>0.00</td>\n",
       "      <td>1.00</td>\n",
       "      <td>274,999.00</td>\n",
       "      <td>0.00</td>\n",
       "      <td>10214</td>\n",
       "      <td>65984</td>\n",
       "      <td>101519</td>\n",
       "      <td>NaN</td>\n",
       "      <td>262500000</td>\n",
       "      <td>2013-10-29</td>\n",
       "    </tr>\n",
       "    <tr>\n",
       "      <th>24</th>\n",
       "      <td>10,158.00</td>\n",
       "      <td>StudioNow</td>\n",
       "      <td>photo_video</td>\n",
       "      <td>acquired</td>\n",
       "      <td>2007-01-01</td>\n",
       "      <td>NaT</td>\n",
       "      <td>studionow.com</td>\n",
       "      <td>NaN</td>\n",
       "      <td>USA</td>\n",
       "      <td>0.00</td>\n",
       "      <td>3.00</td>\n",
       "      <td>15,286,400.00</td>\n",
       "      <td>1.00</td>\n",
       "      <td>2923</td>\n",
       "      <td>351</td>\n",
       "      <td>10158</td>\n",
       "      <td>cash_and_stock</td>\n",
       "      <td>36500000</td>\n",
       "      <td>2010-01-25</td>\n",
       "    </tr>\n",
       "  </tbody>\n",
       "</table>\n",
       "</div>"
      ],
      "text/plain": [
       "    company_ID        name category_code    status founded_at closed_at  \\\n",
       "0        10.00     Flektor   games_video  acquired        NaT       NaT   \n",
       "2     1,001.00  FriendFeed           web  acquired 2007-10-01       NaT   \n",
       "9     1,007.00     Rupture   games_video  acquired        NaT       NaT   \n",
       "23  101,519.00    Vidacare      hardware  acquired        NaT       NaT   \n",
       "24   10,158.00   StudioNow   photo_video  acquired 2007-01-01       NaT   \n",
       "\n",
       "            domain network_username country_code  investment_rounds  \\\n",
       "0      flektor.com              NaN          USA               0.00   \n",
       "2   friendfeed.com       friendfeed          USA               0.00   \n",
       "9      rupture.com          rupture          USA               0.00   \n",
       "23    vidacare.com              NaN          USA               0.00   \n",
       "24   studionow.com              NaN          USA               0.00   \n",
       "\n",
       "    funding_rounds  funding_total  milestones     id  acquiring_company_id  \\\n",
       "0             0.00           0.00        0.00      1                    11   \n",
       "2             1.00   5,000,000.00        3.00   1901                     5   \n",
       "9             1.00   3,000,000.00        2.00   2186                   851   \n",
       "23            1.00     274,999.00        0.00  10214                 65984   \n",
       "24            3.00  15,286,400.00        1.00   2923                   351   \n",
       "\n",
       "    acquired_company_id       term_code  price_amount acquired_at  \n",
       "0                    10             NaN      20000000  2007-05-30  \n",
       "2                  1001  cash_and_stock      47500000  2009-08-10  \n",
       "9                  1007            cash      15000000  2008-05-08  \n",
       "23               101519             NaN     262500000  2013-10-29  \n",
       "24                10158  cash_and_stock      36500000  2010-01-25  "
      ]
     },
     "execution_count": 288,
     "metadata": {},
     "output_type": "execute_result"
    }
   ],
   "source": [
    "# Присоединяем к таблице компаний таблицу с покупками \n",
    "df_startups = company_filtered.merge(acquisition, left_on = 'company_ID', right_on = 'acquired_company_id')\n",
    "# Оставляем компании которые продали за ненулевую стоимость \n",
    "df_startups = df_startups[(df_startups['price_amount']>0)]\n",
    "df_startups.head()"
   ]
  },
  {
   "cell_type": "markdown",
   "metadata": {},
   "source": [
    "Для группировки используем медиану, так как она более устойчива к выбросам, чем среднее. Для выявления категорий с наибольшим разбросом цен рассчитаем стандартное отклонение, так как оно помогает выявить категории с большим разбросом цен."
   ]
  },
  {
   "cell_type": "code",
   "execution_count": 289,
   "metadata": {
    "id": "MFONscXPn29F"
   },
   "outputs": [
    {
     "data": {
      "text/html": [
       "<div>\n",
       "<style scoped>\n",
       "    .dataframe tbody tr th:only-of-type {\n",
       "        vertical-align: middle;\n",
       "    }\n",
       "\n",
       "    .dataframe tbody tr th {\n",
       "        vertical-align: top;\n",
       "    }\n",
       "\n",
       "    .dataframe thead th {\n",
       "        text-align: right;\n",
       "    }\n",
       "</style>\n",
       "<table border=\"1\" class=\"dataframe\">\n",
       "  <thead>\n",
       "    <tr style=\"text-align: right;\">\n",
       "      <th></th>\n",
       "      <th>category_code</th>\n",
       "      <th>median_price</th>\n",
       "      <th>std_price</th>\n",
       "      <th>count</th>\n",
       "    </tr>\n",
       "  </thead>\n",
       "  <tbody>\n",
       "    <tr>\n",
       "      <th>0</th>\n",
       "      <td>advertising</td>\n",
       "      <td>60,000,000.00</td>\n",
       "      <td>495,483,858.21</td>\n",
       "      <td>84</td>\n",
       "    </tr>\n",
       "    <tr>\n",
       "      <th>1</th>\n",
       "      <td>analytics</td>\n",
       "      <td>200,000,000.00</td>\n",
       "      <td>92,967,736.34</td>\n",
       "      <td>3</td>\n",
       "    </tr>\n",
       "    <tr>\n",
       "      <th>2</th>\n",
       "      <td>automotive</td>\n",
       "      <td>2,400,000,000.00</td>\n",
       "      <td>2,581,669,292.02</td>\n",
       "      <td>3</td>\n",
       "    </tr>\n",
       "    <tr>\n",
       "      <th>3</th>\n",
       "      <td>biotech</td>\n",
       "      <td>200,000,000.00</td>\n",
       "      <td>1,968,195,263.66</td>\n",
       "      <td>263</td>\n",
       "    </tr>\n",
       "    <tr>\n",
       "      <th>4</th>\n",
       "      <td>cleantech</td>\n",
       "      <td>185,000,000.00</td>\n",
       "      <td>874,419,628.26</td>\n",
       "      <td>39</td>\n",
       "    </tr>\n",
       "  </tbody>\n",
       "</table>\n",
       "</div>"
      ],
      "text/plain": [
       "  category_code     median_price        std_price  count\n",
       "0   advertising    60,000,000.00   495,483,858.21     84\n",
       "1     analytics   200,000,000.00    92,967,736.34      3\n",
       "2    automotive 2,400,000,000.00 2,581,669,292.02      3\n",
       "3       biotech   200,000,000.00 1,968,195,263.66    263\n",
       "4     cleantech   185,000,000.00   874,419,628.26     39"
      ]
     },
     "execution_count": 289,
     "metadata": {},
     "output_type": "execute_result"
    }
   ],
   "source": [
    "# Группируем по категориям стартапов и вычисляем медиану, стандартное отклонение цены сделки, и кол-во стартапов\n",
    "category_stats = df_startups.groupby('category_code')['price_amount'].agg(['median', 'std', 'count']).reset_index()\n",
    "category_stats.columns = ['category_code', 'median_price', 'std_price', 'count']\n",
    "category_stats.head()"
   ]
  },
  {
   "cell_type": "code",
   "execution_count": 290,
   "metadata": {},
   "outputs": [],
   "source": [
    "# Фильтруем категории, оставляя только те, в которых больше 5 стартапов \n",
    "category_stats = category_stats[category_stats['count'] > 5]"
   ]
  },
  {
   "cell_type": "markdown",
   "metadata": {},
   "source": [
    "В топе оставляем 5 категорий. Это оптимальное количество, чтобы:\n",
    "- Отразить основные тренды без перегрузки информацией.\n",
    "- Избежать включения малопредставленных категорий с недостаточными данными."
   ]
  },
  {
   "cell_type": "code",
   "execution_count": 291,
   "metadata": {},
   "outputs": [
    {
     "data": {
      "text/html": [
       "<div>\n",
       "<style scoped>\n",
       "    .dataframe tbody tr th:only-of-type {\n",
       "        vertical-align: middle;\n",
       "    }\n",
       "\n",
       "    .dataframe tbody tr th {\n",
       "        vertical-align: top;\n",
       "    }\n",
       "\n",
       "    .dataframe thead th {\n",
       "        text-align: right;\n",
       "    }\n",
       "</style>\n",
       "<table border=\"1\" class=\"dataframe\">\n",
       "  <thead>\n",
       "    <tr style=\"text-align: right;\">\n",
       "      <th></th>\n",
       "      <th>category_code</th>\n",
       "      <th>median_price</th>\n",
       "      <th>std_price</th>\n",
       "      <th>count</th>\n",
       "    </tr>\n",
       "  </thead>\n",
       "  <tbody>\n",
       "    <tr>\n",
       "      <th>27</th>\n",
       "      <td>real_estate</td>\n",
       "      <td>400,000,000.00</td>\n",
       "      <td>2,676,302,206.40</td>\n",
       "      <td>6</td>\n",
       "    </tr>\n",
       "    <tr>\n",
       "      <th>16</th>\n",
       "      <td>manufacturing</td>\n",
       "      <td>351,000,000.00</td>\n",
       "      <td>1,060,434,506.33</td>\n",
       "      <td>21</td>\n",
       "    </tr>\n",
       "    <tr>\n",
       "      <th>3</th>\n",
       "      <td>biotech</td>\n",
       "      <td>200,000,000.00</td>\n",
       "      <td>1,968,195,263.66</td>\n",
       "      <td>263</td>\n",
       "    </tr>\n",
       "    <tr>\n",
       "      <th>4</th>\n",
       "      <td>cleantech</td>\n",
       "      <td>185,000,000.00</td>\n",
       "      <td>874,419,628.26</td>\n",
       "      <td>39</td>\n",
       "    </tr>\n",
       "    <tr>\n",
       "      <th>10</th>\n",
       "      <td>finance</td>\n",
       "      <td>171,500,000.00</td>\n",
       "      <td>1,052,920,128.98</td>\n",
       "      <td>20</td>\n",
       "    </tr>\n",
       "  </tbody>\n",
       "</table>\n",
       "</div>"
      ],
      "text/plain": [
       "    category_code   median_price        std_price  count\n",
       "27    real_estate 400,000,000.00 2,676,302,206.40      6\n",
       "16  manufacturing 351,000,000.00 1,060,434,506.33     21\n",
       "3         biotech 200,000,000.00 1,968,195,263.66    263\n",
       "4       cleantech 185,000,000.00   874,419,628.26     39\n",
       "10        finance 171,500,000.00 1,052,920,128.98     20"
      ]
     },
     "execution_count": 291,
     "metadata": {},
     "output_type": "execute_result"
    }
   ],
   "source": [
    "# Считаем топ5 категорий по наибольшей цене\n",
    "top5_median_price = category_stats.sort_values(by = 'median_price', ascending = False).head()\n",
    "top5_median_price"
   ]
  },
  {
   "cell_type": "code",
   "execution_count": 284,
   "metadata": {},
   "outputs": [
    {
     "data": {
      "image/png": "[encoded data removed]",
      "text/plain": [
       "<Figure size 640x480 with 1 Axes>"
      ]
     },
     "metadata": {},
     "output_type": "display_data"
    }
   ],
   "source": [
    "# Строим линейчатый график\n",
    "sns.barplot(top5_median_price,\n",
    "            y = 'category_code',\n",
    "            x = 'median_price',\n",
    "            color = 'b')\n",
    "# Название осей и заголовок\n",
    "plt.title('Топ-5 категорий стартапов с наибольшими ценами')\n",
    "plt.ylabel('Категория')\n",
    "plt.xlabel('Медианная цена')\n",
    "# Сетка\n",
    "plt.grid(axis = 'x', linestyle = '--', alpha = 0.6)\n",
    "plt.show()"
   ]
  },
  {
   "cell_type": "markdown",
   "metadata": {},
   "source": [
    "- Лидером по медианной цене сделок является категория real_estate, за ней следуют manufacturing, biotech, cleantech и finance."
   ]
  },
  {
   "cell_type": "code",
   "execution_count": 292,
   "metadata": {},
   "outputs": [
    {
     "data": {
      "text/html": [
       "<div>\n",
       "<style scoped>\n",
       "    .dataframe tbody tr th:only-of-type {\n",
       "        vertical-align: middle;\n",
       "    }\n",
       "\n",
       "    .dataframe tbody tr th {\n",
       "        vertical-align: top;\n",
       "    }\n",
       "\n",
       "    .dataframe thead th {\n",
       "        text-align: right;\n",
       "    }\n",
       "</style>\n",
       "<table border=\"1\" class=\"dataframe\">\n",
       "  <thead>\n",
       "    <tr style=\"text-align: right;\">\n",
       "      <th></th>\n",
       "      <th>category_code</th>\n",
       "      <th>median_price</th>\n",
       "      <th>std_price</th>\n",
       "      <th>count</th>\n",
       "    </tr>\n",
       "  </thead>\n",
       "  <tbody>\n",
       "    <tr>\n",
       "      <th>24</th>\n",
       "      <td>other</td>\n",
       "      <td>71,550,000.00</td>\n",
       "      <td>2,060,860,617.08</td>\n",
       "      <td>84</td>\n",
       "    </tr>\n",
       "    <tr>\n",
       "      <th>3</th>\n",
       "      <td>biotech</td>\n",
       "      <td>200,000,000.00</td>\n",
       "      <td>1,968,195,263.66</td>\n",
       "      <td>263</td>\n",
       "    </tr>\n",
       "    <tr>\n",
       "      <th>13</th>\n",
       "      <td>health</td>\n",
       "      <td>140,000,000.00</td>\n",
       "      <td>1,927,099,525.34</td>\n",
       "      <td>10</td>\n",
       "    </tr>\n",
       "    <tr>\n",
       "      <th>11</th>\n",
       "      <td>games_video</td>\n",
       "      <td>58,250,000.00</td>\n",
       "      <td>1,463,477,654.30</td>\n",
       "      <td>88</td>\n",
       "    </tr>\n",
       "    <tr>\n",
       "      <th>29</th>\n",
       "      <td>security</td>\n",
       "      <td>164,500,000.00</td>\n",
       "      <td>1,378,442,023.15</td>\n",
       "      <td>36</td>\n",
       "    </tr>\n",
       "  </tbody>\n",
       "</table>\n",
       "</div>"
      ],
      "text/plain": [
       "   category_code   median_price        std_price  count\n",
       "24         other  71,550,000.00 2,060,860,617.08     84\n",
       "3        biotech 200,000,000.00 1,968,195,263.66    263\n",
       "13        health 140,000,000.00 1,927,099,525.34     10\n",
       "11   games_video  58,250,000.00 1,463,477,654.30     88\n",
       "29      security 164,500,000.00 1,378,442,023.15     36"
      ]
     },
     "execution_count": 292,
     "metadata": {},
     "output_type": "execute_result"
    }
   ],
   "source": [
    "# Отбрасываем значения больше 90-го квартиля\n",
    "top5_std_price = category_stats[category_stats['std_price'] <= category_stats['std_price'].quantile(0.90)]\n",
    "# Считаем топ5 категорий по наибольшему разбросу\n",
    "top5_std_price = top5_std_price.sort_values(by = 'std_price', ascending = False).head()\n",
    "top5_std_price"
   ]
  },
  {
   "cell_type": "code",
   "execution_count": 293,
   "metadata": {},
   "outputs": [
    {
     "data": {
      "image/png": "[encoded data removed]",
      "text/plain": [
       "<Figure size 640x480 with 1 Axes>"
      ]
     },
     "metadata": {},
     "output_type": "display_data"
    }
   ],
   "source": [
    "# Строим линейчатый график\n",
    "sns.barplot(top5_std_price,\n",
    "            y = 'category_code',\n",
    "            x = 'std_price',\n",
    "            color = 'b')\n",
    "# Название осей и заголовок\n",
    "plt.title('Топ-5 категорий стартапов с наибольшим разбросом цен')\n",
    "plt.ylabel('Категория')\n",
    "plt.xlabel('Разброс цен')\n",
    "# Сетка\n",
    "plt.grid(axis = 'x', linestyle = '--', alpha = 0.6)\n",
    "plt.show()"
   ]
  },
  {
   "cell_type": "markdown",
   "metadata": {},
   "source": [
    "- Категория other показывает самый значительный разброс цен, что может быть связано с включением разнообразных стартапов без четкой классификации.\n",
    "- Высокий разброс цен также наблюдается в категориях biotech, health, games_video и security."
   ]
  },
  {
   "cell_type": "markdown",
   "metadata": {
    "id": "ADOfyVY_rJg3"
   },
   "source": [
    "\n",
    "### 3.5. Сколько раундов продержится стартап перед покупкой\n",
    "\n",
    "* Построим график, который отображает, сколько в среднем раундов финансирования проходило для стартапов из каждой группы."
   ]
  },
  {
   "cell_type": "code",
   "execution_count": 188,
   "metadata": {
    "id": "hgXMPC4WrJg3"
   },
   "outputs": [
    {
     "data": {
      "text/plain": [
       "status\n",
       "ipo         1.93\n",
       "operating   1.52\n",
       "closed      1.38\n",
       "acquired    0.52\n",
       "Name: funding_rounds, dtype: float64"
      ]
     },
     "execution_count": 188,
     "metadata": {},
     "output_type": "execute_result"
    }
   ],
   "source": [
    "# Группируем данные по статусу стартапа и вычисляем среднее кол-во раундов\n",
    "mean_rounds = company_filtered.groupby('status')['funding_rounds'].mean()\n",
    "mean_rounds.sort_values(ascending = False)"
   ]
  },
  {
   "cell_type": "code",
   "execution_count": 189,
   "metadata": {},
   "outputs": [
    {
     "data": {
      "image/png": "[encoded data removed]",
      "text/plain": [
       "<Figure size 1000x600 with 1 Axes>"
      ]
     },
     "metadata": {},
     "output_type": "display_data"
    }
   ],
   "source": [
    "# Задаем размер графика\n",
    "plt.figure(figsize = (10,6))\n",
    "# Строим график\n",
    "mean_rounds.sort_values(ascending = False).plot(kind = 'bar',\n",
    "                                               color = 'b')\n",
    "# Название осей и заголовок\n",
    "plt.title('Среднее количество раундов для каждого статуса стартапа')\n",
    "plt.xlabel('Статус')\n",
    "plt.ylabel('Среднее кол-во раундов')\n",
    "plt.xticks(rotation = 0)\n",
    "# Сетка\n",
    "plt.grid(axis = 'y', linestyle = '--', alpha = 0.6)\n",
    "plt.show()"
   ]
  },
  {
   "cell_type": "markdown",
   "metadata": {},
   "source": [
    "\n",
    "- Наибольшее количество раундов проходили компании, вышедшие на IPO (1.93 раунда).\n",
    "Это логично, так как успешные стартапы чаще проходят через несколько этапов привлечения средств перед публичным размещением.\n",
    "- Операционные компании (operating) имеют 1.52 раунда в среднем. Это подтверждает, что действующие стартапы продолжают привлекать инвестиции, но не все доходят до IPO.\n",
    "- Закрывшиеся стартапы (closed) в среднем имели 1.38 раунда финансирования. Это может свидетельствовать о том, что они успели привлечь финансирование, но затем не смогли развиться или окупить вложенные средства.\n",
    "- Наименьшее среднее число раундов (0.52) у стартапов со статусом acquired (приобретенные). Это может означать, что такие компании продаются на ранних стадиях, часто без необходимости многократного привлечения инвестиций.\n",
    "\n",
    "Можно сделать вывод, что чем дольше стартап живет и развивается, тем больше раундов финансирования он проходит. IPO-компании чаще всего получают больше инвестиций, а стартапы, быстро поглощенные (acquired), наоборот, требуют меньше внешнего финансирования."
   ]
  },
  {
   "cell_type": "markdown",
   "metadata": {
    "id": "VAFEZ2HBrJg3"
   },
   "source": [
    "\n",
    "## Шаг 4. Итоговый вывод и рекомендации"
   ]
  },
  {
   "cell_type": "markdown",
   "metadata": {},
   "source": [
    "В рамках анализа были исследованы ключевые аспекты финансирования и жизненного цикла стартапов, а именно:\n",
    "\n",
    "1. Был проведен анализ распределения компаний по числу сотрудников, что позволило выделить логичные категории.\n",
    "Большая часть компаний представлена малыми командами (1-3 человека), после чего наблюдается постепенное снижение числа компаний с увеличением штата.\n",
    "2. Была проведена оценка типичного размера финансирования и выбросов. Анализ столбца funding_total показал значительное расхождение между медианным (600 тыс. долларов) и средним значением (10 млн долларов), что указывает на наличие выбросов.\n",
    "Графическое исследование подтвердило, что данные имеют длинный правый хвост — небольшая часть компаний привлекла очень крупные суммы финансирования.\n",
    "3. Определены верхняя и нижняя граница выбросов по финансированию и оценка корректности их замены.\n",
    "Верхняя граница выбросов составила 375 882 325 долларов, нижняя – 0.\n",
    "4. Определены категории стартапов с наибольшими и наиболее разбросанными ценами.\n",
    "Определены отрасли, где стартапы привлекают крупнейшие инвестиции и имеют значительные отклонения по стоимости.\n",
    "5. Была определена связь между статусом стартапа и количеством раундов финансирования. Стартапы, которые были поглощены, в среднем имели меньше раундов финансирования. Наибольшее количество раундов прошло у компаний, дошедших до IPO, что подтверждает необходимость последовательного привлечения средств для масштабирования. Закрывшиеся стартапы получили в среднем 1.38 раунда финансирования, что говорит о том, что даже наличие инвестиций не гарантирует успеха.\n",
    "   \n",
    "**Общий итог**:\n",
    "\n",
    "Исследование показало, что данные о финансировании и статусе стартапов соответствуют бизнес-логике: компании с долгосрочными целями (например, выходом на IPO) привлекают больше раундов инвестиций, в то время как успешные стартапы могут быть приобретены на ранних стадиях. Выявленные выбросы требуют осторожности при обработке, так как они могут отражать реальные рыночные ситуации, а не ошибки данных."
   ]
  },
  {
   "cell_type": "code",
   "execution_count": null,
   "metadata": {},
   "outputs": [],
   "source": []
  }
 ],
 "metadata": {
  "colab": {
   "provenance": []
  },
  "kernelspec": {
   "display_name": "Python 3 (ipykernel)",
   "language": "python",
   "name": "python3"
  },
  "language_info": {
   "codemirror_mode": {
    "name": "ipython",
    "version": 3
   },
   "file_extension": ".py",
   "mimetype": "text/x-python",
   "name": "python",
   "nbconvert_exporter": "python",
   "pygments_lexer": "ipython3",
   "version": "3.11.7"
  },
  "toc": {
   "base_numbering": 1,
   "nav_menu": {},
   "number_sections": true,
   "sideBar": true,
   "skip_h1_title": true,
   "title_cell": "Table of Contents",
   "title_sidebar": "Contents",
   "toc_cell": false,
   "toc_position": {},
   "toc_section_display": true,
   "toc_window_display": false
  }
 },
 "nbformat": 4,
 "nbformat_minor": 4
}
