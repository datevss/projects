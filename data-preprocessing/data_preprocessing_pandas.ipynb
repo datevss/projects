{
 "cells": [
  {
   "cell_type": "markdown",
   "id": "e06910dd",
   "metadata": {
    "id": "e06910dd"
   },
   "source": [
    "# Предобработка данных датасета `new_games.csv`\n",
    "\n",
    "- Автор: Шагитова Камила\n",
    "- Дата: 31.01.2025"
   ]
  },
  {
   "cell_type": "markdown",
   "id": "46a7865a-ad3a-44ee-bf4b-df043b8ec165",
   "metadata": {},
   "source": [
    "### Краткое описание проекта\n",
    "Проект посвящён изучению игровой индустрии с 2000 по 2013 год для подготовки аналитической статьи, которая поможет привлечь аудиторию к игре «Секреты Темнолесья». "
   ]
  },
  {
   "cell_type": "markdown",
   "id": "4149134c",
   "metadata": {
    "id": "4149134c"
   },
   "source": [
    "### Цели и задачи проекта\n",
    "В этом проекте используем датасет `new_games.csv`, который содержит информацию содержат информацию о продажах игр разных жанров и платформ, а также пользовательские и экспертные оценки игр.\n",
    "\n",
    "Цель проекта: провести предобработку данных о продажах видеоигр, пользовательских и экспертных оценках, а также жанрах и платформах для получения чистого и структурированного среза информации. \n",
    "\n",
    "Задачи проекта, которые предстоит решить - познакомиться с данными, проверить их корректность и провести предобработку, получив необходимый срез данных."
   ]
  },
  {
   "cell_type": "markdown",
   "id": "ad7d9002-4d42-4b13-988c-c596af30c023",
   "metadata": {},
   "source": [
    "### Описание данных\n",
    "Данные `/datasets/new_games.csv` содержат информацию о продажах игр разных жанров и платформ, а также пользовательские и экспертные оценки игр:\n",
    "- `Name` — название игры.\n",
    "- `Platform` — название платформы.\n",
    "- `Year of Release` — год выпуска игры.\n",
    "- `Genre` — жанр игры.\n",
    "- `NA sales` — продажи в Северной Америке (в миллионах проданных копий).\n",
    "- `EU sales` — продажи в Европе (в миллионах проданных копий).\n",
    "- `JP sales` — продажи в Японии (в миллионах проданных копий).\n",
    "- `Other sales` — продажи в других странах (в миллионах проданных копий).\n",
    "- `Critic Score` — оценка критиков (от 0 до 100).\n",
    "- `User Score` — оценка пользователей (от 0 до 10).\n",
    "- `Rating` — рейтинг организации ESRB (англ. Entertainment Software Rating Board). Эта ассоциация определяет рейтинг компьютерных игр и присваивает им подходящую возрастную категорию.\n"
   ]
  },
  {
   "cell_type": "markdown",
   "id": "4fecaf95",
   "metadata": {
    "id": "4fecaf95"
   },
   "source": [
    "### Содержимое проекта\n",
    "1. Загрузка и знакомство с данными\n",
    "2. Проверка ошибок в данных и их предобработка:\n",
    "   * Корректировка названий столбцов датафрейма\n",
    "   * Корректировка типа данных\n",
    "   * Поиск пропущенных значений\n",
    "   * Работа с дубликатами\n",
    "4. Фильтрация данных\n",
    "5. Категоризация данных\n",
    "6. Итоговый вывод\n",
    "---"
   ]
  },
  {
   "cell_type": "markdown",
   "id": "6f7d21d6",
   "metadata": {
    "id": "6f7d21d6"
   },
   "source": [
    "## 1. Загрузка данных и знакомство с ними\n"
   ]
  },
  {
   "cell_type": "code",
   "execution_count": 1,
   "id": "ebb66dc5",
   "metadata": {
    "id": "ebb66dc5"
   },
   "outputs": [],
   "source": [
    "# Импортируем библиотеку pandas\n",
    "import pandas as pd"
   ]
  },
  {
   "cell_type": "code",
   "execution_count": 2,
   "id": "ce87c1db",
   "metadata": {
    "id": "ce87c1db"
   },
   "outputs": [],
   "source": [
    "# Выгружаем данные из датасета new_games.csv в датафрейм df\n",
    "df = pd.read_csv('https://code.s3.yandex.net/datasets/new_games.csv')"
   ]
  },
  {
   "cell_type": "code",
   "execution_count": 3,
   "id": "90fee493",
   "metadata": {
    "id": "90fee493"
   },
   "outputs": [
    {
     "data": {
      "text/html": [
       "<div>\n",
       "<style scoped>\n",
       "    .dataframe tbody tr th:only-of-type {\n",
       "        vertical-align: middle;\n",
       "    }\n",
       "\n",
       "    .dataframe tbody tr th {\n",
       "        vertical-align: top;\n",
       "    }\n",
       "\n",
       "    .dataframe thead th {\n",
       "        text-align: right;\n",
       "    }\n",
       "</style>\n",
       "<table border=\"1\" class=\"dataframe\">\n",
       "  <thead>\n",
       "    <tr style=\"text-align: right;\">\n",
       "      <th></th>\n",
       "      <th>Name</th>\n",
       "      <th>Platform</th>\n",
       "      <th>Year of Release</th>\n",
       "      <th>Genre</th>\n",
       "      <th>NA sales</th>\n",
       "      <th>EU sales</th>\n",
       "      <th>JP sales</th>\n",
       "      <th>Other sales</th>\n",
       "      <th>Critic Score</th>\n",
       "      <th>User Score</th>\n",
       "      <th>Rating</th>\n",
       "    </tr>\n",
       "  </thead>\n",
       "  <tbody>\n",
       "    <tr>\n",
       "      <th>0</th>\n",
       "      <td>Wii Sports</td>\n",
       "      <td>Wii</td>\n",
       "      <td>2006.0</td>\n",
       "      <td>Sports</td>\n",
       "      <td>41.36</td>\n",
       "      <td>28.96</td>\n",
       "      <td>3.77</td>\n",
       "      <td>8.45</td>\n",
       "      <td>76.0</td>\n",
       "      <td>8</td>\n",
       "      <td>E</td>\n",
       "    </tr>\n",
       "    <tr>\n",
       "      <th>1</th>\n",
       "      <td>Super Mario Bros.</td>\n",
       "      <td>NES</td>\n",
       "      <td>1985.0</td>\n",
       "      <td>Platform</td>\n",
       "      <td>29.08</td>\n",
       "      <td>3.58</td>\n",
       "      <td>6.81</td>\n",
       "      <td>0.77</td>\n",
       "      <td>NaN</td>\n",
       "      <td>NaN</td>\n",
       "      <td>NaN</td>\n",
       "    </tr>\n",
       "    <tr>\n",
       "      <th>2</th>\n",
       "      <td>Mario Kart Wii</td>\n",
       "      <td>Wii</td>\n",
       "      <td>2008.0</td>\n",
       "      <td>Racing</td>\n",
       "      <td>15.68</td>\n",
       "      <td>12.76</td>\n",
       "      <td>3.79</td>\n",
       "      <td>3.29</td>\n",
       "      <td>82.0</td>\n",
       "      <td>8.3</td>\n",
       "      <td>E</td>\n",
       "    </tr>\n",
       "    <tr>\n",
       "      <th>3</th>\n",
       "      <td>Wii Sports Resort</td>\n",
       "      <td>Wii</td>\n",
       "      <td>2009.0</td>\n",
       "      <td>Sports</td>\n",
       "      <td>15.61</td>\n",
       "      <td>10.93</td>\n",
       "      <td>3.28</td>\n",
       "      <td>2.95</td>\n",
       "      <td>80.0</td>\n",
       "      <td>8</td>\n",
       "      <td>E</td>\n",
       "    </tr>\n",
       "    <tr>\n",
       "      <th>4</th>\n",
       "      <td>Pokemon Red/Pokemon Blue</td>\n",
       "      <td>GB</td>\n",
       "      <td>1996.0</td>\n",
       "      <td>Role-Playing</td>\n",
       "      <td>11.27</td>\n",
       "      <td>8.89</td>\n",
       "      <td>10.22</td>\n",
       "      <td>1.00</td>\n",
       "      <td>NaN</td>\n",
       "      <td>NaN</td>\n",
       "      <td>NaN</td>\n",
       "    </tr>\n",
       "  </tbody>\n",
       "</table>\n",
       "</div>"
      ],
      "text/plain": [
       "                       Name Platform  Year of Release         Genre  NA sales  \\\n",
       "0                Wii Sports      Wii           2006.0        Sports     41.36   \n",
       "1         Super Mario Bros.      NES           1985.0      Platform     29.08   \n",
       "2            Mario Kart Wii      Wii           2008.0        Racing     15.68   \n",
       "3         Wii Sports Resort      Wii           2009.0        Sports     15.61   \n",
       "4  Pokemon Red/Pokemon Blue       GB           1996.0  Role-Playing     11.27   \n",
       "\n",
       "  EU sales JP sales  Other sales  Critic Score User Score Rating  \n",
       "0    28.96     3.77         8.45          76.0          8      E  \n",
       "1     3.58     6.81         0.77           NaN        NaN    NaN  \n",
       "2    12.76     3.79         3.29          82.0        8.3      E  \n",
       "3    10.93     3.28         2.95          80.0          8      E  \n",
       "4     8.89    10.22         1.00           NaN        NaN    NaN  "
      ]
     },
     "execution_count": 3,
     "metadata": {},
     "output_type": "execute_result"
    }
   ],
   "source": [
    "# Выводим первые строки датафрейма\n",
    "df.head()"
   ]
  },
  {
   "cell_type": "code",
   "execution_count": 4,
   "id": "3937acf7",
   "metadata": {
    "id": "3937acf7"
   },
   "outputs": [
    {
     "name": "stdout",
     "output_type": "stream",
     "text": [
      "<class 'pandas.core.frame.DataFrame'>\n",
      "RangeIndex: 16956 entries, 0 to 16955\n",
      "Data columns (total 11 columns):\n",
      " #   Column           Non-Null Count  Dtype  \n",
      "---  ------           --------------  -----  \n",
      " 0   Name             16954 non-null  object \n",
      " 1   Platform         16956 non-null  object \n",
      " 2   Year of Release  16681 non-null  float64\n",
      " 3   Genre            16954 non-null  object \n",
      " 4   NA sales         16956 non-null  float64\n",
      " 5   EU sales         16956 non-null  object \n",
      " 6   JP sales         16956 non-null  object \n",
      " 7   Other sales      16956 non-null  float64\n",
      " 8   Critic Score     8242 non-null   float64\n",
      " 9   User Score       10152 non-null  object \n",
      " 10  Rating           10085 non-null  object \n",
      "dtypes: float64(4), object(7)\n",
      "memory usage: 1.4+ MB\n"
     ]
    }
   ],
   "source": [
    "# Выводим информацию о датафрейме\n",
    "df.info()"
   ]
  },
  {
   "cell_type": "code",
   "execution_count": 5,
   "id": "d7c8eb4b",
   "metadata": {
    "id": "d7c8eb4b"
   },
   "outputs": [
    {
     "data": {
      "text/plain": [
       "(16956, 11)"
      ]
     },
     "execution_count": 5,
     "metadata": {},
     "output_type": "execute_result"
    }
   ],
   "source": [
    "# Размерность датафрейма\n",
    "df.shape"
   ]
  },
  {
   "cell_type": "code",
   "execution_count": 6,
   "id": "23016cae-5ebb-4813-9771-d5e8804423cc",
   "metadata": {},
   "outputs": [],
   "source": [
    "# Кол-во строк до обработки сохраняем в переменную\n",
    "count_rows = df.shape[0]"
   ]
  },
  {
   "cell_type": "markdown",
   "id": "b638b35b-1afe-439b-8220-83a4bc442917",
   "metadata": {
    "id": "191981db"
   },
   "source": [
    "Датасет `new_games.csv` содержит 11 столбцов и 16956 строк с информацией о продажах видеоигр, платформах, жанрах, а также пользовательских и экспертных оценках.\n",
    "\n",
    "**Изучим типы данных и их корректность**:\n",
    "- **Числовые значения с плавающей запятой (float64)**:\n",
    "    - Три столбца (`NA sales`, `Other sales`, `Critic Score`) содержат данные о продажах игр в различных регионах и оценку критиков. Выбранный тип данных корректен, так как значения могут быть дробными.\n",
    "    - Столбец `Year of Release` содержит год выпуска игры, следовательно стоит преобразовать тип данного столбца в `int64`.\n",
    "- **Строковые данные (object)**:\n",
    "    - Четыре столбца (`Name`, `Platform`, `Genre`, `Rating`) содержат текстовую информацию и логично представлены типом `object`.\n",
    "    - Столбцы `EU sales` и `JP sales` содержат данные о продажах игр в различных регионах. Для таких данных рекомендуется использовать тип `float64`, чтобы облегчить вычисления с данными столбцами.\n",
    "    - Столбец `User score` предоставляет информацию об оценках пользователей и содержит дробные значения. Следует поменять тип данных на `float64`.\n",
    " \n",
    "**Пропуски данных**:\n",
    "    Присутствуют пропущенные значения в столбцах `Name`, `Genre`, `Year of Release`, `Critic Score`, `User Score`, и `Rating`. Это потребует либо заполнения, либо удаления строк в зависимости от дальнейшего анализа.\n",
    "\n",
    " Названия столбцов следует привести к стилю snake case для удобства дальнейшего анализа."
   ]
  },
  {
   "cell_type": "markdown",
   "id": "774bf76e",
   "metadata": {
    "id": "774bf76e"
   },
   "source": [
    "---\n",
    "\n",
    "## 2.  Проверка ошибок в данных и их предобработка\n",
    "\n",
    "\n",
    "### 2.1. Названия, или метки, столбцов датафрейма\n"
   ]
  },
  {
   "cell_type": "code",
   "execution_count": 7,
   "id": "b9276a2b",
   "metadata": {
    "id": "b9276a2b"
   },
   "outputs": [
    {
     "data": {
      "text/plain": [
       "Index(['Name', 'Platform', 'Year of Release', 'Genre', 'NA sales', 'EU sales',\n",
       "       'JP sales', 'Other sales', 'Critic Score', 'User Score', 'Rating'],\n",
       "      dtype='object')"
      ]
     },
     "execution_count": 7,
     "metadata": {},
     "output_type": "execute_result"
    }
   ],
   "source": [
    "# Выводим названия столбцов\n",
    "df.columns"
   ]
  },
  {
   "cell_type": "code",
   "execution_count": 8,
   "id": "d554563c",
   "metadata": {
    "id": "d554563c"
   },
   "outputs": [
    {
     "data": {
      "text/plain": [
       "Index(['name', 'platform', 'year_of_release', 'genre', 'na_sales', 'eu_sales',\n",
       "       'jp_sales', 'other_sales', 'critic_score', 'user_score', 'rating'],\n",
       "      dtype='object')"
      ]
     },
     "execution_count": 8,
     "metadata": {},
     "output_type": "execute_result"
    }
   ],
   "source": [
    "# Переименовываем столбцы\n",
    "column_new_name = df.columns.str.replace(' ', '_')\n",
    "df.columns = column_new_name.str.lower()\n",
    "df.columns"
   ]
  },
  {
   "cell_type": "markdown",
   "id": "41bc6bf8",
   "metadata": {
    "id": "41bc6bf8"
   },
   "source": [
    "### 2.2. Типы данных\n"
   ]
  },
  {
   "cell_type": "markdown",
   "id": "97241027-f099-4d0a-809f-022ceacb9897",
   "metadata": {
    "id": "8adaac81"
   },
   "source": [
    "Тип данных `float64` в столбце `year_of_release` обусловен тем, что в столбце присутствуют пропуски.  Для того, чтобы привести столбец к типу `int64`, нужно сначала заменить пропущенные значения."
   ]
  },
  {
   "cell_type": "code",
   "execution_count": 9,
   "id": "e26c7d5c-d7e2-48a2-a611-c7546ecccd8f",
   "metadata": {},
   "outputs": [
    {
     "data": {
      "text/plain": [
       "275"
      ]
     },
     "execution_count": 9,
     "metadata": {},
     "output_type": "execute_result"
    }
   ],
   "source": [
    "# Считаем кол-во пропусков в столбце 'year of release'\n",
    "df['year_of_release'].isna().sum()"
   ]
  },
  {
   "cell_type": "code",
   "execution_count": 10,
   "id": "e8412c01",
   "metadata": {
    "id": "e8412c01"
   },
   "outputs": [],
   "source": [
    "# Заменяем пропуски в столбце year_of_release на 0\n",
    "df['year_of_release'] = df['year_of_release'].fillna(0)"
   ]
  },
  {
   "cell_type": "code",
   "execution_count": 11,
   "id": "9e53cff4",
   "metadata": {
    "id": "9e53cff4"
   },
   "outputs": [],
   "source": [
    "# Меняем тип данных в столбце year_of_release на int64\n",
    "df['year_of_release'] = df['year_of_release'].astype('int64')"
   ]
  },
  {
   "cell_type": "code",
   "execution_count": 12,
   "id": "5033ee32",
   "metadata": {
    "id": "5033ee32"
   },
   "outputs": [
    {
     "data": {
      "text/plain": [
       "array(['28.96', '3.58', '12.76', '10.93', '8.89', '2.26', '9.14', '9.18',\n",
       "       '6.94', '0.63', '10.95', '7.47', '6.18', '8.03', '4.89', '8.49',\n",
       "       '9.09', '0.4', '3.75', '9.2', '4.46', '2.71', '3.44', '5.14',\n",
       "       '5.49', '3.9', '5.35', '3.17', '5.09', '4.24', '5.04', '5.86',\n",
       "       '3.68', '4.19', '5.73', '3.59', '4.51', '2.55', '4.02', '4.37',\n",
       "       '6.31', '3.45', '2.81', '2.85', '3.49', '0.01', '3.35', '2.04',\n",
       "       '3.07', '3.87', '3.0', '4.82', '3.64', '2.15', '3.69', '2.65',\n",
       "       '2.56', '3.11', '3.14', '1.94', '1.95', '2.47', '2.28', '3.42',\n",
       "       '3.63', '2.36', '1.71', '1.85', '2.79', '1.24', '6.12', '1.53',\n",
       "       '3.47', '2.24', '5.01', '2.01', '1.72', '2.07', '6.42', '3.86',\n",
       "       '0.45', '3.48', '1.89', '5.75', '2.17', '1.37', '2.35', '1.18',\n",
       "       '2.11', '1.88', '2.83', '2.99', '2.89', '3.27', '2.22', '2.14',\n",
       "       '1.45', '1.75', '1.04', '1.77', '3.02', '2.75', '2.16', '1.9',\n",
       "       '2.59', '2.2', '4.3', '0.93', '2.53', '2.52', '1.79', '1.3', '2.6',\n",
       "       '1.58', '1.2', '1.56', '1.34', '1.26', '0.83', '6.21', '2.8',\n",
       "       '1.59', '1.73', '4.33', '1.83', '0.0', '2.18', '1.98', '1.47',\n",
       "       '0.67', '1.55', '1.91', '0.69', '0.6', '1.93', '1.64', '0.55',\n",
       "       '2.19', '1.11', '2.29', '2.5', '0.96', '1.21', '1.12', '0.77',\n",
       "       '1.69', '1.08', '0.79', '2.37', '2.46', '0.26', '0.75', '1.25',\n",
       "       '2.43', '0.98', '0.74', '2.23', '0.61', '2.45', '1.41', '1.8',\n",
       "       '3.28', '1.16', '1.99', '1.38', '1.36', '1.17', '1.19', '0.99',\n",
       "       '1.68', '2.0', '1.33', '1.57', '1.48', '2.1', '1.27', '1.97',\n",
       "       '0.91', '1.39', '1.96', '0.24', '1.51', '0.14', '1.29', '2.39',\n",
       "       '1.03', '0.5', '0.58', '1.31', '2.02', '1.32', '1.01', '2.27',\n",
       "       '2.3', '1.82', '2.78', '0.44', '0.48', '0.27', '0.21', '2.48',\n",
       "       '0.51', '1.52', '0.04', '0.28', '1.35', '0.87', '2.13', '1.13',\n",
       "       '1.76', '0.76', '2.12', '0.66', '1.6', '1.44', '1.43', '1.7',\n",
       "       '0.47', '1.87', '0.86', '0.73', '1.28', '0.81', '1.09', '0.68',\n",
       "       '1.22', '1.4', '1.02', '1.49', '1.14', '0.49', '0.9', '0.38',\n",
       "       '1.42', '0.95', '1.62', '0.71', '1.05', '0.92', '0.33', '0.3',\n",
       "       '1.67', '1.0', '0.89', '0.1', '0.72', '0.59', '0.56', '0.16',\n",
       "       '0.97', '0.62', 'unknown', '0.85', '0.94', '0.88', '0.84', '1.06',\n",
       "       '0.2', '1.15', '0.8', '1.1', '0.7', '1.92', '0.32', '0.15', '0.53',\n",
       "       '0.09', '1.46', '0.29', '0.22', '1.23', '0.07', '0.17', '0.54',\n",
       "       '0.36', '0.31', '1.84', '0.52', '0.11', '0.64', '0.12', '2.05',\n",
       "       '1.63', '0.82', '0.08', '0.57', '1.65', '0.19', '0.02', '0.43',\n",
       "       '0.25', '1.5', '0.18', '0.39', '0.13', '1.07', '0.46', '0.41',\n",
       "       '0.06', '0.03', '0.37', '0.05', '0.23', '0.65', '0.42', '0.34',\n",
       "       '0.35', '0.78'], dtype=object)"
      ]
     },
     "execution_count": 12,
     "metadata": {},
     "output_type": "execute_result"
    }
   ],
   "source": [
    "# Проверяем какие значения содержит столбец eu_sales\n",
    "df['eu_sales'].unique()"
   ]
  },
  {
   "cell_type": "code",
   "execution_count": 13,
   "id": "3a26fb26",
   "metadata": {
    "id": "3a26fb26"
   },
   "outputs": [
    {
     "data": {
      "text/plain": [
       "array(['3.77', '6.81', '3.79', '3.28', '10.22', '4.22', '6.5', '2.93',\n",
       "       '4.7', '0.28', '1.93', '4.13', '7.2', '3.6', '0.24', '2.53',\n",
       "       '0.98', '0.41', '3.54', '4.16', '6.04', '4.18', '3.84', '0.06',\n",
       "       '0.47', '5.38', '5.32', '5.65', '1.87', '0.13', '3.12', '0.36',\n",
       "       '0.11', '4.35', '0.65', '0.07', '0.08', '0.49', '0.3', '2.66',\n",
       "       '2.69', '0.48', '0.38', '5.33', '1.91', '3.96', '3.1', '1.1',\n",
       "       '1.2', '0.14', '2.54', '2.14', '0.81', '2.12', '0.44', '3.15',\n",
       "       '1.25', '0.04', '0.0', '2.47', '2.23', '1.69', '0.01', '3.0',\n",
       "       '0.02', '4.39', '1.98', '0.1', '3.81', '0.05', '2.49', '1.58',\n",
       "       '3.14', '2.73', '0.66', '0.22', '3.63', '1.45', '1.31', '2.43',\n",
       "       '0.7', '0.35', '1.4', '0.6', '2.26', '1.42', '1.28', '1.39',\n",
       "       '0.87', '0.17', '0.94', '0.19', '0.21', '1.6', '0.16', '1.03',\n",
       "       '0.25', '2.06', '1.49', '1.29', '0.09', '2.87', '0.03', '0.78',\n",
       "       '0.83', '2.33', '2.02', '1.36', '1.81', '1.97', '0.91', '0.99',\n",
       "       '0.95', '2.0', '1.01', '2.78', '2.11', '1.09', '0.2', '1.9',\n",
       "       '1.27', '3.61', '1.57', '2.2', '1.7', '1.08', '0.15', '1.11',\n",
       "       '0.29', '1.54', '0.12', '0.89', '4.87', '1.52', '1.32', '1.15',\n",
       "       '4.1', '1.46', '0.46', '1.05', '1.61', '0.26', '1.38', '0.62',\n",
       "       '0.73', '0.57', '0.31', '0.58', '1.76', '2.1', '0.9', '0.51',\n",
       "       '0.64', '2.46', '0.23', '0.37', '0.92', '1.07', '2.62', '1.12',\n",
       "       '0.54', '0.27', '0.59', '3.67', '0.55', '1.75', '3.44', '0.33',\n",
       "       '2.55', '2.32', '2.79', '0.74', '3.18', '0.82', '0.77', '0.4',\n",
       "       '2.35', '3.19', '0.8', '0.76', '3.03', '0.88', 'unknown', '0.45',\n",
       "       '1.16', '0.34', '1.19', '1.13', '2.13', '1.96', '0.71', '1.04',\n",
       "       '2.68', '0.68', '2.65', '0.96', '2.41', '0.52', '0.18', '1.34',\n",
       "       '1.48', '2.34', '1.06', '1.21', '2.29', '1.63', '2.05', '2.17',\n",
       "       '1.56', '1.35', '1.33', '0.63', '0.79', '0.75', '0.53', '1.53',\n",
       "       '1.3', '0.39', '0.69', '0.42', '0.93', '0.56', '0.84', '0.72',\n",
       "       '0.32', '1.71', '1.65', '0.61', '1.51', '1.5', '1.44', '1.24',\n",
       "       '1.18', '1.37', '1.0', '1.26', '0.85', '0.43', '0.67', '1.14',\n",
       "       '0.86', '1.17', '0.5', '1.02', '0.97'], dtype=object)"
      ]
     },
     "execution_count": 13,
     "metadata": {},
     "output_type": "execute_result"
    }
   ],
   "source": [
    "# Проверяем какие значения содержит столбец jp_sales\n",
    "df['jp_sales'].unique()"
   ]
  },
  {
   "cell_type": "markdown",
   "id": "74464fd8-9511-42ce-af64-a8816c94e526",
   "metadata": {},
   "source": [
    "* Так как в столбцах есть строковые значения, то заменяем их на пропуски и приводим к числовому типу данных."
   ]
  },
  {
   "cell_type": "code",
   "execution_count": 14,
   "id": "11003d69",
   "metadata": {
    "id": "11003d69"
   },
   "outputs": [],
   "source": [
    "# Преобразовываем столбцы 'eu_sales' 'jp_sales' к числовому типу, заменяя строковые значение на NaN\n",
    "df['eu_sales'] = pd.to_numeric(df['eu_sales'], errors = 'coerce')\n",
    "df['jp_sales'] = pd.to_numeric(df['jp_sales'], errors = 'coerce')\n",
    "df['user_score'] = pd.to_numeric(df['user_score'], errors = 'coerce')"
   ]
  },
  {
   "cell_type": "code",
   "execution_count": 15,
   "id": "b616d419-f94c-47c9-a60b-444e1cd0f716",
   "metadata": {},
   "outputs": [
    {
     "name": "stdout",
     "output_type": "stream",
     "text": [
      "<class 'pandas.core.frame.DataFrame'>\n",
      "RangeIndex: 16956 entries, 0 to 16955\n",
      "Data columns (total 11 columns):\n",
      " #   Column           Non-Null Count  Dtype  \n",
      "---  ------           --------------  -----  \n",
      " 0   name             16954 non-null  object \n",
      " 1   platform         16956 non-null  object \n",
      " 2   year_of_release  16956 non-null  int64  \n",
      " 3   genre            16954 non-null  object \n",
      " 4   na_sales         16956 non-null  float64\n",
      " 5   eu_sales         16950 non-null  float64\n",
      " 6   jp_sales         16952 non-null  float64\n",
      " 7   other_sales      16956 non-null  float64\n",
      " 8   critic_score     8242 non-null   float64\n",
      " 9   user_score       7688 non-null   float64\n",
      " 10  rating           10085 non-null  object \n",
      "dtypes: float64(6), int64(1), object(4)\n",
      "memory usage: 1.4+ MB\n"
     ]
    }
   ],
   "source": [
    "df.info()"
   ]
  },
  {
   "cell_type": "code",
   "execution_count": 16,
   "id": "47924fe4-090a-444a-8564-5a25976ca409",
   "metadata": {},
   "outputs": [
    {
     "data": {
      "text/html": [
       "<div>\n",
       "<style scoped>\n",
       "    .dataframe tbody tr th:only-of-type {\n",
       "        vertical-align: middle;\n",
       "    }\n",
       "\n",
       "    .dataframe tbody tr th {\n",
       "        vertical-align: top;\n",
       "    }\n",
       "\n",
       "    .dataframe thead th {\n",
       "        text-align: right;\n",
       "    }\n",
       "</style>\n",
       "<table border=\"1\" class=\"dataframe\">\n",
       "  <thead>\n",
       "    <tr style=\"text-align: right;\">\n",
       "      <th></th>\n",
       "      <th>name</th>\n",
       "      <th>platform</th>\n",
       "      <th>year_of_release</th>\n",
       "      <th>genre</th>\n",
       "      <th>na_sales</th>\n",
       "      <th>eu_sales</th>\n",
       "      <th>jp_sales</th>\n",
       "      <th>other_sales</th>\n",
       "      <th>critic_score</th>\n",
       "      <th>user_score</th>\n",
       "      <th>rating</th>\n",
       "    </tr>\n",
       "  </thead>\n",
       "  <tbody>\n",
       "    <tr>\n",
       "      <th>0</th>\n",
       "      <td>Wii Sports</td>\n",
       "      <td>Wii</td>\n",
       "      <td>2006</td>\n",
       "      <td>Sports</td>\n",
       "      <td>41.36</td>\n",
       "      <td>28.96</td>\n",
       "      <td>3.77</td>\n",
       "      <td>8.45</td>\n",
       "      <td>76.0</td>\n",
       "      <td>8.0</td>\n",
       "      <td>E</td>\n",
       "    </tr>\n",
       "    <tr>\n",
       "      <th>1</th>\n",
       "      <td>Super Mario Bros.</td>\n",
       "      <td>NES</td>\n",
       "      <td>1985</td>\n",
       "      <td>Platform</td>\n",
       "      <td>29.08</td>\n",
       "      <td>3.58</td>\n",
       "      <td>6.81</td>\n",
       "      <td>0.77</td>\n",
       "      <td>NaN</td>\n",
       "      <td>NaN</td>\n",
       "      <td>NaN</td>\n",
       "    </tr>\n",
       "    <tr>\n",
       "      <th>2</th>\n",
       "      <td>Mario Kart Wii</td>\n",
       "      <td>Wii</td>\n",
       "      <td>2008</td>\n",
       "      <td>Racing</td>\n",
       "      <td>15.68</td>\n",
       "      <td>12.76</td>\n",
       "      <td>3.79</td>\n",
       "      <td>3.29</td>\n",
       "      <td>82.0</td>\n",
       "      <td>8.3</td>\n",
       "      <td>E</td>\n",
       "    </tr>\n",
       "    <tr>\n",
       "      <th>3</th>\n",
       "      <td>Wii Sports Resort</td>\n",
       "      <td>Wii</td>\n",
       "      <td>2009</td>\n",
       "      <td>Sports</td>\n",
       "      <td>15.61</td>\n",
       "      <td>10.93</td>\n",
       "      <td>3.28</td>\n",
       "      <td>2.95</td>\n",
       "      <td>80.0</td>\n",
       "      <td>8.0</td>\n",
       "      <td>E</td>\n",
       "    </tr>\n",
       "    <tr>\n",
       "      <th>4</th>\n",
       "      <td>Pokemon Red/Pokemon Blue</td>\n",
       "      <td>GB</td>\n",
       "      <td>1996</td>\n",
       "      <td>Role-Playing</td>\n",
       "      <td>11.27</td>\n",
       "      <td>8.89</td>\n",
       "      <td>10.22</td>\n",
       "      <td>1.00</td>\n",
       "      <td>NaN</td>\n",
       "      <td>NaN</td>\n",
       "      <td>NaN</td>\n",
       "    </tr>\n",
       "  </tbody>\n",
       "</table>\n",
       "</div>"
      ],
      "text/plain": [
       "                       name platform  year_of_release         genre  na_sales  \\\n",
       "0                Wii Sports      Wii             2006        Sports     41.36   \n",
       "1         Super Mario Bros.      NES             1985      Platform     29.08   \n",
       "2            Mario Kart Wii      Wii             2008        Racing     15.68   \n",
       "3         Wii Sports Resort      Wii             2009        Sports     15.61   \n",
       "4  Pokemon Red/Pokemon Blue       GB             1996  Role-Playing     11.27   \n",
       "\n",
       "   eu_sales  jp_sales  other_sales  critic_score  user_score rating  \n",
       "0     28.96      3.77         8.45          76.0         8.0      E  \n",
       "1      3.58      6.81         0.77           NaN         NaN    NaN  \n",
       "2     12.76      3.79         3.29          82.0         8.3      E  \n",
       "3     10.93      3.28         2.95          80.0         8.0      E  \n",
       "4      8.89     10.22         1.00           NaN         NaN    NaN  "
      ]
     },
     "execution_count": 16,
     "metadata": {},
     "output_type": "execute_result"
    }
   ],
   "source": [
    "df.head()"
   ]
  },
  {
   "cell_type": "markdown",
   "id": "b39893cb",
   "metadata": {
    "id": "b39893cb"
   },
   "source": [
    "### 2.3. Наличие пропусков в данных\n"
   ]
  },
  {
   "cell_type": "code",
   "execution_count": 17,
   "id": "0f1c91a8",
   "metadata": {
    "id": "0f1c91a8"
   },
   "outputs": [
    {
     "data": {
      "text/plain": [
       "name                  2\n",
       "platform              0\n",
       "year_of_release       0\n",
       "genre                 2\n",
       "na_sales              0\n",
       "eu_sales              6\n",
       "jp_sales              4\n",
       "other_sales           0\n",
       "critic_score       8714\n",
       "user_score         9268\n",
       "rating             6871\n",
       "dtype: int64"
      ]
     },
     "execution_count": 17,
     "metadata": {},
     "output_type": "execute_result"
    }
   ],
   "source": [
    "# Считаем пропуски в данных\n",
    "df.isna().sum()"
   ]
  },
  {
   "cell_type": "code",
   "execution_count": 18,
   "id": "86cd1cc1",
   "metadata": {
    "id": "86cd1cc1"
   },
   "outputs": [
    {
     "data": {
      "text/plain": [
       "name                0.011795\n",
       "platform            0.000000\n",
       "year_of_release     0.000000\n",
       "genre               0.011795\n",
       "na_sales            0.000000\n",
       "eu_sales            0.035386\n",
       "jp_sales            0.023590\n",
       "other_sales         0.000000\n",
       "critic_score       51.391838\n",
       "user_score         54.659118\n",
       "rating             40.522529\n",
       "dtype: float64"
      ]
     },
     "execution_count": 18,
     "metadata": {},
     "output_type": "execute_result"
    }
   ],
   "source": [
    "# Считаем процент пропущенных строк в каждом столбце\n",
    "df.isna().sum() / len(df) * 100"
   ]
  },
  {
   "cell_type": "markdown",
   "id": "bd0670f4-3533-42c3-9c27-09969b470886",
   "metadata": {
    "id": "247a6cf7"
   },
   "source": [
    "В данных наблюдаются пропущенные значения в след. столбцах:\n",
    "\n",
    "- `name`: отсутствуют данные в 2 строках (0.01% данных). Так как пропуски составляют менее 1%, их можно удалить.\n",
    "- `year_of_release`: пропуски были заменены в пункте 2.2., перед изменением типа данных столбца.\n",
    "- `genre`: пропуски обнаружены в 2 строках (0.01% данных). Пропуски составляют менее 1% - можно удалить.\n",
    "- `ea_sales`: отсутствуют данные в 6 строках (0.035% данных). Пропуски заменим на среднее значение в зависимости от названия платформы и года выхода игры.\n",
    "- `jp_sales`: отсутствуют данные в 4 строках (0.023% данных). Пропуски заменим на среднее значение в зависимости от названия платформы и года выхода игры.\n",
    "- `critic_score`: пропущены данные в 8714 строках (51.39% данных). Пропуски затрудняют анализ влияния оценок критиков на продажи и популярность игр. Так как пропуски составляют значительную долю, заменим их на значение -1.\n",
    "- `user_score`: отсутствуют данные в 9268 строках (54.65% данных). Это ограничивает возможности оценки пользовательского восприятия игр. Так как пропуски составляют значительную долю, заменим их на значение -1.\n",
    "- `rating`: пропущены данные в 6871 строке (40.52% данных). Это затрудняет исследование возрастных ограничений и предпочтений игроков. Заменим пропуски на значение 'unknown'."
   ]
  },
  {
   "cell_type": "code",
   "execution_count": 19,
   "id": "154be65d",
   "metadata": {
    "id": "154be65d"
   },
   "outputs": [
    {
     "data": {
      "text/plain": [
       "(16954, 11)"
      ]
     },
     "execution_count": 19,
     "metadata": {},
     "output_type": "execute_result"
    }
   ],
   "source": [
    "# Удаляем строки с пропущенными значениями в столбцах name и genre\n",
    "df = df.dropna(subset = ['name', 'genre'])\n",
    "df.shape"
   ]
  },
  {
   "cell_type": "code",
   "execution_count": 20,
   "id": "3f42817b",
   "metadata": {
    "id": "3f42817b"
   },
   "outputs": [],
   "source": [
    "# Заполняем пропуски в столбцах eu_sales медианой в зависимости от названия платформы и года выхода игры\n",
    "def eu_sales_by_platform_and_year(row):\n",
    "    if pd.isna(row['eu_sales']):\n",
    "        group = df[(df['platform'] == row['platform']) & (df['year_of_release'] == row['year_of_release'])]\n",
    "        return group['eu_sales'].mean()\n",
    "    else:\n",
    "        return row['eu_sales']\n",
    "\n",
    "df['eu_sales'] = df.apply(eu_sales_by_platform_and_year, axis = 1)"
   ]
  },
  {
   "cell_type": "code",
   "execution_count": 21,
   "id": "2784c760",
   "metadata": {
    "id": "2784c760"
   },
   "outputs": [],
   "source": [
    "# Заполняем пропуски в столбцах jp_sales медианой в зависимости от названия платформы и года выхода игры\n",
    "def jp_sales_by_platform_and_year(row):\n",
    "    if pd.isna(row['jp_sales']):\n",
    "        group = df[(df['platform'] == row['platform']) & (df['year_of_release'] == row['year_of_release'])]\n",
    "        return group['jp_sales'].mean()\n",
    "    else:\n",
    "        return row['jp_sales']\n",
    "\n",
    "df['jp_sales'] = df.apply(eu_sales_by_platform_and_year, axis = 1)"
   ]
  },
  {
   "cell_type": "code",
   "execution_count": 22,
   "id": "d216f916",
   "metadata": {},
   "outputs": [],
   "source": [
    "# Код ревьюера\n",
    "\n",
    "df['jp_sales'] = df['jp_sales']\\\n",
    "    .fillna(df.groupby(['platform', 'year_of_release'])['jp_sales'].transform('mean'))"
   ]
  },
  {
   "cell_type": "code",
   "execution_count": 23,
   "id": "af498182-23df-45ef-9d39-a002d85404fc",
   "metadata": {},
   "outputs": [],
   "source": [
    "# Заменяем значения в столбцах critic_score, user_score на значение -1\n",
    "df[['critic_score', 'user_score']] = df[['critic_score', 'user_score']].fillna(-1)"
   ]
  },
  {
   "cell_type": "code",
   "execution_count": 24,
   "id": "5968d482-1195-4b9d-bf7f-dcad6eceb2fc",
   "metadata": {},
   "outputs": [],
   "source": [
    "# Заменяем значения в столбце rating на значение 'unknown'\n",
    "df['rating'] = df['rating'].fillna('unknown')"
   ]
  },
  {
   "cell_type": "code",
   "execution_count": 25,
   "id": "794fb8be-76b1-4230-b21e-8748632cdb3b",
   "metadata": {},
   "outputs": [
    {
     "name": "stdout",
     "output_type": "stream",
     "text": [
      "<class 'pandas.core.frame.DataFrame'>\n",
      "Int64Index: 16954 entries, 0 to 16955\n",
      "Data columns (total 11 columns):\n",
      " #   Column           Non-Null Count  Dtype  \n",
      "---  ------           --------------  -----  \n",
      " 0   name             16954 non-null  object \n",
      " 1   platform         16954 non-null  object \n",
      " 2   year_of_release  16954 non-null  int64  \n",
      " 3   genre            16954 non-null  object \n",
      " 4   na_sales         16954 non-null  float64\n",
      " 5   eu_sales         16954 non-null  float64\n",
      " 6   jp_sales         16954 non-null  float64\n",
      " 7   other_sales      16954 non-null  float64\n",
      " 8   critic_score     16954 non-null  float64\n",
      " 9   user_score       16954 non-null  float64\n",
      " 10  rating           16954 non-null  object \n",
      "dtypes: float64(6), int64(1), object(4)\n",
      "memory usage: 1.6+ MB\n"
     ]
    }
   ],
   "source": [
    "df.info()"
   ]
  },
  {
   "cell_type": "code",
   "execution_count": 26,
   "id": "5cb457ac-dbfa-4090-8b32-18d48ddd00d6",
   "metadata": {},
   "outputs": [
    {
     "data": {
      "text/html": [
       "<div>\n",
       "<style scoped>\n",
       "    .dataframe tbody tr th:only-of-type {\n",
       "        vertical-align: middle;\n",
       "    }\n",
       "\n",
       "    .dataframe tbody tr th {\n",
       "        vertical-align: top;\n",
       "    }\n",
       "\n",
       "    .dataframe thead th {\n",
       "        text-align: right;\n",
       "    }\n",
       "</style>\n",
       "<table border=\"1\" class=\"dataframe\">\n",
       "  <thead>\n",
       "    <tr style=\"text-align: right;\">\n",
       "      <th></th>\n",
       "      <th>name</th>\n",
       "      <th>platform</th>\n",
       "      <th>year_of_release</th>\n",
       "      <th>genre</th>\n",
       "      <th>na_sales</th>\n",
       "      <th>eu_sales</th>\n",
       "      <th>jp_sales</th>\n",
       "      <th>other_sales</th>\n",
       "      <th>critic_score</th>\n",
       "      <th>user_score</th>\n",
       "      <th>rating</th>\n",
       "    </tr>\n",
       "  </thead>\n",
       "  <tbody>\n",
       "    <tr>\n",
       "      <th>0</th>\n",
       "      <td>Wii Sports</td>\n",
       "      <td>Wii</td>\n",
       "      <td>2006</td>\n",
       "      <td>Sports</td>\n",
       "      <td>41.36</td>\n",
       "      <td>28.96</td>\n",
       "      <td>28.96</td>\n",
       "      <td>8.45</td>\n",
       "      <td>76.0</td>\n",
       "      <td>8.0</td>\n",
       "      <td>E</td>\n",
       "    </tr>\n",
       "    <tr>\n",
       "      <th>1</th>\n",
       "      <td>Super Mario Bros.</td>\n",
       "      <td>NES</td>\n",
       "      <td>1985</td>\n",
       "      <td>Platform</td>\n",
       "      <td>29.08</td>\n",
       "      <td>3.58</td>\n",
       "      <td>3.58</td>\n",
       "      <td>0.77</td>\n",
       "      <td>-1.0</td>\n",
       "      <td>-1.0</td>\n",
       "      <td>unknown</td>\n",
       "    </tr>\n",
       "    <tr>\n",
       "      <th>2</th>\n",
       "      <td>Mario Kart Wii</td>\n",
       "      <td>Wii</td>\n",
       "      <td>2008</td>\n",
       "      <td>Racing</td>\n",
       "      <td>15.68</td>\n",
       "      <td>12.76</td>\n",
       "      <td>12.76</td>\n",
       "      <td>3.29</td>\n",
       "      <td>82.0</td>\n",
       "      <td>8.3</td>\n",
       "      <td>E</td>\n",
       "    </tr>\n",
       "    <tr>\n",
       "      <th>3</th>\n",
       "      <td>Wii Sports Resort</td>\n",
       "      <td>Wii</td>\n",
       "      <td>2009</td>\n",
       "      <td>Sports</td>\n",
       "      <td>15.61</td>\n",
       "      <td>10.93</td>\n",
       "      <td>10.93</td>\n",
       "      <td>2.95</td>\n",
       "      <td>80.0</td>\n",
       "      <td>8.0</td>\n",
       "      <td>E</td>\n",
       "    </tr>\n",
       "    <tr>\n",
       "      <th>4</th>\n",
       "      <td>Pokemon Red/Pokemon Blue</td>\n",
       "      <td>GB</td>\n",
       "      <td>1996</td>\n",
       "      <td>Role-Playing</td>\n",
       "      <td>11.27</td>\n",
       "      <td>8.89</td>\n",
       "      <td>8.89</td>\n",
       "      <td>1.00</td>\n",
       "      <td>-1.0</td>\n",
       "      <td>-1.0</td>\n",
       "      <td>unknown</td>\n",
       "    </tr>\n",
       "  </tbody>\n",
       "</table>\n",
       "</div>"
      ],
      "text/plain": [
       "                       name platform  year_of_release         genre  na_sales  \\\n",
       "0                Wii Sports      Wii             2006        Sports     41.36   \n",
       "1         Super Mario Bros.      NES             1985      Platform     29.08   \n",
       "2            Mario Kart Wii      Wii             2008        Racing     15.68   \n",
       "3         Wii Sports Resort      Wii             2009        Sports     15.61   \n",
       "4  Pokemon Red/Pokemon Blue       GB             1996  Role-Playing     11.27   \n",
       "\n",
       "   eu_sales  jp_sales  other_sales  critic_score  user_score   rating  \n",
       "0     28.96     28.96         8.45          76.0         8.0        E  \n",
       "1      3.58      3.58         0.77          -1.0        -1.0  unknown  \n",
       "2     12.76     12.76         3.29          82.0         8.3        E  \n",
       "3     10.93     10.93         2.95          80.0         8.0        E  \n",
       "4      8.89      8.89         1.00          -1.0        -1.0  unknown  "
      ]
     },
     "execution_count": 26,
     "metadata": {},
     "output_type": "execute_result"
    }
   ],
   "source": [
    "df.head()"
   ]
  },
  {
   "cell_type": "markdown",
   "id": "a63363fd",
   "metadata": {
    "id": "a63363fd"
   },
   "source": [
    "### 2.4. Явные и неявные дубликаты в данных"
   ]
  },
  {
   "cell_type": "code",
   "execution_count": 27,
   "id": "31cbb1fe-392c-4c63-ab6f-c2b72553b1e6",
   "metadata": {},
   "outputs": [
    {
     "data": {
      "text/plain": [
       "array(['Wii', 'NES', 'GB', 'DS', 'X360', 'PS3', 'PS2', 'SNES', 'GBA',\n",
       "       'PS4', '3DS', 'N64', 'PS', 'XB', 'PC', '2600', 'PSP', 'XOne',\n",
       "       'WiiU', 'GC', 'GEN', 'DC', 'PSV', 'SAT', 'SCD', 'WS', 'NG', 'TG16',\n",
       "       '3DO', 'GG', 'PCFX'], dtype=object)"
      ]
     },
     "execution_count": 27,
     "metadata": {},
     "output_type": "execute_result"
    }
   ],
   "source": [
    "# Выводим уникальные значения столбца platform\n",
    "df['platform'].unique()"
   ]
  },
  {
   "cell_type": "code",
   "execution_count": 28,
   "id": "7eafbec4-d655-4217-b146-db86814651fb",
   "metadata": {},
   "outputs": [
    {
     "data": {
      "text/plain": [
       "array(['E', 'unknown', 'M', 'T', 'E10+', 'K-A', 'AO', 'EC', 'RP'],\n",
       "      dtype=object)"
      ]
     },
     "execution_count": 28,
     "metadata": {},
     "output_type": "execute_result"
    }
   ],
   "source": [
    "# Выводим уникальные значения столбца rating\n",
    "df['rating'].unique()"
   ]
  },
  {
   "cell_type": "code",
   "execution_count": 29,
   "id": "8ff1808c-f87f-4b2a-9103-7a63afb4fe12",
   "metadata": {},
   "outputs": [
    {
     "data": {
      "text/plain": [
       "[' Beyblade Burst',\n",
       " ' Fire Emblem Fates',\n",
       " \" Frozen: Olaf's Quest\",\n",
       " ' Haikyu!! Cross Team Match!',\n",
       " ' Tales of Xillia 2',\n",
       " \"'98 Koshien\",\n",
       " '.hack//G.U. Vol.1//Rebirth',\n",
       " '.hack//G.U. Vol.2//Reminisce',\n",
       " '.hack//G.U. Vol.2//Reminisce (jp sales)',\n",
       " '.hack//G.U. Vol.3//Redemption',\n",
       " '.hack//Infection Part 1',\n",
       " '.hack//Link',\n",
       " '.hack//Mutation Part 2',\n",
       " '.hack//Outbreak Part 3',\n",
       " '.hack//Quarantine Part 4: The Final Chapter',\n",
       " '.hack: Sekai no Mukou ni + Versus',\n",
       " '007 Racing',\n",
       " '007: Quantum of Solace',\n",
       " '007: The World is not Enough',\n",
       " '007: Tomorrow Never Dies']"
      ]
     },
     "execution_count": 29,
     "metadata": {},
     "output_type": "execute_result"
    }
   ],
   "source": [
    "# Выводим уникальные значения столбца name\n",
    "names = df['name'].sort_values().unique()\n",
    "names = list(names)\n",
    "names[:20]"
   ]
  },
  {
   "cell_type": "code",
   "execution_count": 30,
   "id": "491c9c39",
   "metadata": {
    "id": "491c9c39"
   },
   "outputs": [
    {
     "data": {
      "text/plain": [
       "array(['Sports', 'Platform', 'Racing', 'Role-Playing', 'Puzzle', 'Misc',\n",
       "       'Shooter', 'Simulation', 'Action', 'Fighting', 'Adventure',\n",
       "       'Strategy', 'MISC', 'ROLE-PLAYING', 'RACING', 'ACTION', 'SHOOTER',\n",
       "       'FIGHTING', 'SPORTS', 'PLATFORM', 'ADVENTURE', 'SIMULATION',\n",
       "       'PUZZLE', 'STRATEGY'], dtype=object)"
      ]
     },
     "execution_count": 30,
     "metadata": {},
     "output_type": "execute_result"
    }
   ],
   "source": [
    "# Выводим уникальные значения столбца genre\n",
    "df['genre'].unique()"
   ]
  },
  {
   "cell_type": "code",
   "execution_count": 31,
   "id": "18ff0085-d28a-4ede-98e5-a0b1b599eaac",
   "metadata": {},
   "outputs": [],
   "source": [
    "# Приводим значения в столбце 'genre' к нижнему регистру\n",
    "df['genre'] = df['genre'].str.lower()"
   ]
  },
  {
   "cell_type": "code",
   "execution_count": 32,
   "id": "4f13ed22-e606-442d-9a01-ab6a3158c765",
   "metadata": {},
   "outputs": [
    {
     "data": {
      "text/plain": [
       "241"
      ]
     },
     "execution_count": 32,
     "metadata": {},
     "output_type": "execute_result"
    }
   ],
   "source": [
    "# Считаем количество дубликатов в датафрейме\n",
    "df.duplicated().sum()"
   ]
  },
  {
   "cell_type": "code",
   "execution_count": 33,
   "id": "0446f457-3c58-42f0-a64d-db7f81934a4e",
   "metadata": {},
   "outputs": [
    {
     "data": {
      "text/plain": [
       "16713"
      ]
     },
     "execution_count": 33,
     "metadata": {},
     "output_type": "execute_result"
    }
   ],
   "source": [
    "# Удаляем дубликаты\n",
    "df = df.drop_duplicates()\n",
    "df.shape[0]"
   ]
  },
  {
   "cell_type": "markdown",
   "id": "6795ae4c-a799-47e9-b096-baae937589de",
   "metadata": {
    "id": "8548f894"
   },
   "source": [
    "* В столбцах 'platform', 'rating', 'name' неявных дубликатов не обнаружено.\n",
    "В столбце 'genre' неявные дубликаты есть. Для их устранения все значения в столбце 'genre' были приведены к нижнему регистру.\n",
    "Всего был обнаружен 241 дубликат, с помощью метода drop_duplicates() дубликаты были удалены."
   ]
  },
  {
   "cell_type": "code",
   "execution_count": 34,
   "id": "f9d8ee19",
   "metadata": {
    "id": "f9d8ee19"
   },
   "outputs": [
    {
     "name": "stdout",
     "output_type": "stream",
     "text": [
      "Количество строк до предобработки данных: 16956\n",
      "Количество удаленных строк: 243\n",
      "Количество удаленных строк в относительном значении: 0.014331210191082803\n",
      "Количество строк после предобработки данных: 16713\n"
     ]
    }
   ],
   "source": [
    "print(f'Количество строк до предобработки данных: {count_rows}')\n",
    "deleted_rows = count_rows - df.shape[0]\n",
    "print(f'Количество удаленных строк: {deleted_rows}')\n",
    "deleted_rows_share = deleted_rows / count_rows\n",
    "print(f'Количество удаленных строк в относительном значении: {deleted_rows_share}')\n",
    "print(f'Количество строк после предобработки данных: {df.shape[0]}')"
   ]
  },
  {
   "cell_type": "markdown",
   "id": "22af8518-1979-4ef9-9188-762a08ab0fea",
   "metadata": {
    "id": "5166fdf8"
   },
   "source": [
    "В ходе предобработки данных:\n",
    "1. названия столбцов приведены к стилю snake case\n",
    "2. преобразованы некорректные типы данных столбцов `year_of_release`, `eu_sales`, `'jp_sale`, `user_score`\n",
    "3. обработаны пропуски в столбцах `name`, `genre`, `year_of_release`, `eu_sales`, `jp_sales`, `critic_score`, `user_score`, и `rating`\n",
    "4. удалены неявные и явные дубликаты'"
   ]
  },
  {
   "cell_type": "markdown",
   "id": "613f0eb0",
   "metadata": {
    "id": "613f0eb0"
   },
   "source": [
    "---\n",
    "\n",
    "## 3. Фильтрация данных\n",
    "\n",
    "Отбираем данные по периоду с 2000 по 2013 год включительно."
   ]
  },
  {
   "cell_type": "code",
   "execution_count": 35,
   "id": "2344916d",
   "metadata": {
    "id": "2344916d"
   },
   "outputs": [
    {
     "data": {
      "text/html": [
       "<div>\n",
       "<style scoped>\n",
       "    .dataframe tbody tr th:only-of-type {\n",
       "        vertical-align: middle;\n",
       "    }\n",
       "\n",
       "    .dataframe tbody tr th {\n",
       "        vertical-align: top;\n",
       "    }\n",
       "\n",
       "    .dataframe thead th {\n",
       "        text-align: right;\n",
       "    }\n",
       "</style>\n",
       "<table border=\"1\" class=\"dataframe\">\n",
       "  <thead>\n",
       "    <tr style=\"text-align: right;\">\n",
       "      <th></th>\n",
       "      <th>name</th>\n",
       "      <th>platform</th>\n",
       "      <th>year_of_release</th>\n",
       "      <th>genre</th>\n",
       "      <th>na_sales</th>\n",
       "      <th>eu_sales</th>\n",
       "      <th>jp_sales</th>\n",
       "      <th>other_sales</th>\n",
       "      <th>critic_score</th>\n",
       "      <th>user_score</th>\n",
       "      <th>rating</th>\n",
       "    </tr>\n",
       "  </thead>\n",
       "  <tbody>\n",
       "    <tr>\n",
       "      <th>0</th>\n",
       "      <td>Wii Sports</td>\n",
       "      <td>Wii</td>\n",
       "      <td>2006</td>\n",
       "      <td>sports</td>\n",
       "      <td>41.36</td>\n",
       "      <td>28.96</td>\n",
       "      <td>28.96</td>\n",
       "      <td>8.45</td>\n",
       "      <td>76.0</td>\n",
       "      <td>8.0</td>\n",
       "      <td>E</td>\n",
       "    </tr>\n",
       "    <tr>\n",
       "      <th>2</th>\n",
       "      <td>Mario Kart Wii</td>\n",
       "      <td>Wii</td>\n",
       "      <td>2008</td>\n",
       "      <td>racing</td>\n",
       "      <td>15.68</td>\n",
       "      <td>12.76</td>\n",
       "      <td>12.76</td>\n",
       "      <td>3.29</td>\n",
       "      <td>82.0</td>\n",
       "      <td>8.3</td>\n",
       "      <td>E</td>\n",
       "    </tr>\n",
       "    <tr>\n",
       "      <th>3</th>\n",
       "      <td>Wii Sports Resort</td>\n",
       "      <td>Wii</td>\n",
       "      <td>2009</td>\n",
       "      <td>sports</td>\n",
       "      <td>15.61</td>\n",
       "      <td>10.93</td>\n",
       "      <td>10.93</td>\n",
       "      <td>2.95</td>\n",
       "      <td>80.0</td>\n",
       "      <td>8.0</td>\n",
       "      <td>E</td>\n",
       "    </tr>\n",
       "    <tr>\n",
       "      <th>6</th>\n",
       "      <td>New Super Mario Bros.</td>\n",
       "      <td>DS</td>\n",
       "      <td>2006</td>\n",
       "      <td>platform</td>\n",
       "      <td>11.28</td>\n",
       "      <td>9.14</td>\n",
       "      <td>9.14</td>\n",
       "      <td>2.88</td>\n",
       "      <td>89.0</td>\n",
       "      <td>8.5</td>\n",
       "      <td>E</td>\n",
       "    </tr>\n",
       "    <tr>\n",
       "      <th>7</th>\n",
       "      <td>Wii Play</td>\n",
       "      <td>Wii</td>\n",
       "      <td>2006</td>\n",
       "      <td>misc</td>\n",
       "      <td>13.96</td>\n",
       "      <td>9.18</td>\n",
       "      <td>9.18</td>\n",
       "      <td>2.84</td>\n",
       "      <td>58.0</td>\n",
       "      <td>6.6</td>\n",
       "      <td>E</td>\n",
       "    </tr>\n",
       "  </tbody>\n",
       "</table>\n",
       "</div>"
      ],
      "text/plain": [
       "                    name platform  year_of_release     genre  na_sales  \\\n",
       "0             Wii Sports      Wii             2006    sports     41.36   \n",
       "2         Mario Kart Wii      Wii             2008    racing     15.68   \n",
       "3      Wii Sports Resort      Wii             2009    sports     15.61   \n",
       "6  New Super Mario Bros.       DS             2006  platform     11.28   \n",
       "7               Wii Play      Wii             2006      misc     13.96   \n",
       "\n",
       "   eu_sales  jp_sales  other_sales  critic_score  user_score rating  \n",
       "0     28.96     28.96         8.45          76.0         8.0      E  \n",
       "2     12.76     12.76         3.29          82.0         8.3      E  \n",
       "3     10.93     10.93         2.95          80.0         8.0      E  \n",
       "6      9.14      9.14         2.88          89.0         8.5      E  \n",
       "7      9.18      9.18         2.84          58.0         6.6      E  "
      ]
     },
     "execution_count": 35,
     "metadata": {},
     "output_type": "execute_result"
    }
   ],
   "source": [
    "df_actual = df[(df['year_of_release'] >= 2000) & (df['year_of_release']<=2013)]\n",
    "df_actual.head()"
   ]
  },
  {
   "cell_type": "code",
   "execution_count": 36,
   "id": "44d7529f",
   "metadata": {
    "id": "44d7529f"
   },
   "outputs": [
    {
     "data": {
      "text/plain": [
       "12781"
      ]
     },
     "execution_count": 36,
     "metadata": {},
     "output_type": "execute_result"
    }
   ],
   "source": [
    "# Считаем кол-во строк в срезе\n",
    "df_actual.shape[0]"
   ]
  },
  {
   "cell_type": "markdown",
   "id": "a6f10b01",
   "metadata": {
    "id": "a6f10b01"
   },
   "source": [
    "---\n",
    "\n",
    "## 4. Категоризация данных\n",
    "\n",
    "\n",
    "- Разделим все игры по оценкам пользователей и выделим такие категории: высокая оценка (от 8 до 10 включительно), средняя оценка (от 3 до 8, не включая правую границу интервала) и низкая оценка (от 0 до 3, не включая правую границу интервала)."
   ]
  },
  {
   "cell_type": "code",
   "execution_count": 37,
   "id": "3db87229",
   "metadata": {
    "id": "3db87229"
   },
   "outputs": [],
   "source": [
    "# Проводим категоризацию данных по столбцу user_score\n",
    "df['user_score_ctgr'] = pd.cut(df['user_score'], bins = [-1, 0, 3, 8, 10], labels = ['Нет данных', 'Низкая оценка', 'Средняя оценка', 'Высокая оценка'], right=False)"
   ]
  },
  {
   "cell_type": "markdown",
   "id": "f8f34b40",
   "metadata": {
    "id": "f8f34b40"
   },
   "source": [
    "- Разделим все игры по оценкам критиков и выделим такие категории: высокая оценка (от 80 до 100 включительно), средняя оценка (от 30 до 80, не включая правую границу интервала) и низкая оценка (от 0 до 30, не включая правую границу интервала)."
   ]
  },
  {
   "cell_type": "code",
   "execution_count": 38,
   "id": "19d5d685-1f5c-48ef-a940-370f96abb9d3",
   "metadata": {},
   "outputs": [],
   "source": [
    "# Проводим категоризацию данных по столбцу сritic_score\n",
    "def category_score(row):\n",
    "    if row['critic_score']>=0 and row['critic_score']<30:\n",
    "        return 'Низкая оценка'\n",
    "    elif row['critic_score']>=30 and row['critic_score']<80:\n",
    "        return 'Средняя оценка'\n",
    "    elif row['critic_score']>=80 and row['critic_score']<=100:\n",
    "        return 'Высокая оценка'\n",
    "    else:\n",
    "        return 'Нет данных'\n",
    "df['critic_score_ctgr'] = df.apply(category_score, axis = 1)"
   ]
  },
  {
   "cell_type": "code",
   "execution_count": 39,
   "id": "U6kiXU3JUMCc",
   "metadata": {
    "id": "U6kiXU3JUMCc"
   },
   "outputs": [
    {
     "data": {
      "text/html": [
       "<div>\n",
       "<style scoped>\n",
       "    .dataframe tbody tr th:only-of-type {\n",
       "        vertical-align: middle;\n",
       "    }\n",
       "\n",
       "    .dataframe tbody tr th {\n",
       "        vertical-align: top;\n",
       "    }\n",
       "\n",
       "    .dataframe thead th {\n",
       "        text-align: right;\n",
       "    }\n",
       "</style>\n",
       "<table border=\"1\" class=\"dataframe\">\n",
       "  <thead>\n",
       "    <tr style=\"text-align: right;\">\n",
       "      <th></th>\n",
       "      <th>name</th>\n",
       "      <th>platform</th>\n",
       "      <th>year_of_release</th>\n",
       "      <th>genre</th>\n",
       "      <th>na_sales</th>\n",
       "      <th>eu_sales</th>\n",
       "      <th>jp_sales</th>\n",
       "      <th>other_sales</th>\n",
       "      <th>critic_score</th>\n",
       "      <th>user_score</th>\n",
       "      <th>rating</th>\n",
       "      <th>user_score_ctgr</th>\n",
       "      <th>critic_score_ctgr</th>\n",
       "    </tr>\n",
       "  </thead>\n",
       "  <tbody>\n",
       "    <tr>\n",
       "      <th>0</th>\n",
       "      <td>Wii Sports</td>\n",
       "      <td>Wii</td>\n",
       "      <td>2006</td>\n",
       "      <td>sports</td>\n",
       "      <td>41.36</td>\n",
       "      <td>28.96</td>\n",
       "      <td>28.96</td>\n",
       "      <td>8.45</td>\n",
       "      <td>76.0</td>\n",
       "      <td>8.0</td>\n",
       "      <td>E</td>\n",
       "      <td>Высокая оценка</td>\n",
       "      <td>Средняя оценка</td>\n",
       "    </tr>\n",
       "    <tr>\n",
       "      <th>1</th>\n",
       "      <td>Super Mario Bros.</td>\n",
       "      <td>NES</td>\n",
       "      <td>1985</td>\n",
       "      <td>platform</td>\n",
       "      <td>29.08</td>\n",
       "      <td>3.58</td>\n",
       "      <td>3.58</td>\n",
       "      <td>0.77</td>\n",
       "      <td>-1.0</td>\n",
       "      <td>-1.0</td>\n",
       "      <td>unknown</td>\n",
       "      <td>Нет данных</td>\n",
       "      <td>Нет данных</td>\n",
       "    </tr>\n",
       "    <tr>\n",
       "      <th>2</th>\n",
       "      <td>Mario Kart Wii</td>\n",
       "      <td>Wii</td>\n",
       "      <td>2008</td>\n",
       "      <td>racing</td>\n",
       "      <td>15.68</td>\n",
       "      <td>12.76</td>\n",
       "      <td>12.76</td>\n",
       "      <td>3.29</td>\n",
       "      <td>82.0</td>\n",
       "      <td>8.3</td>\n",
       "      <td>E</td>\n",
       "      <td>Высокая оценка</td>\n",
       "      <td>Высокая оценка</td>\n",
       "    </tr>\n",
       "    <tr>\n",
       "      <th>3</th>\n",
       "      <td>Wii Sports Resort</td>\n",
       "      <td>Wii</td>\n",
       "      <td>2009</td>\n",
       "      <td>sports</td>\n",
       "      <td>15.61</td>\n",
       "      <td>10.93</td>\n",
       "      <td>10.93</td>\n",
       "      <td>2.95</td>\n",
       "      <td>80.0</td>\n",
       "      <td>8.0</td>\n",
       "      <td>E</td>\n",
       "      <td>Высокая оценка</td>\n",
       "      <td>Высокая оценка</td>\n",
       "    </tr>\n",
       "    <tr>\n",
       "      <th>4</th>\n",
       "      <td>Pokemon Red/Pokemon Blue</td>\n",
       "      <td>GB</td>\n",
       "      <td>1996</td>\n",
       "      <td>role-playing</td>\n",
       "      <td>11.27</td>\n",
       "      <td>8.89</td>\n",
       "      <td>8.89</td>\n",
       "      <td>1.00</td>\n",
       "      <td>-1.0</td>\n",
       "      <td>-1.0</td>\n",
       "      <td>unknown</td>\n",
       "      <td>Нет данных</td>\n",
       "      <td>Нет данных</td>\n",
       "    </tr>\n",
       "  </tbody>\n",
       "</table>\n",
       "</div>"
      ],
      "text/plain": [
       "                       name platform  year_of_release         genre  na_sales  \\\n",
       "0                Wii Sports      Wii             2006        sports     41.36   \n",
       "1         Super Mario Bros.      NES             1985      platform     29.08   \n",
       "2            Mario Kart Wii      Wii             2008        racing     15.68   \n",
       "3         Wii Sports Resort      Wii             2009        sports     15.61   \n",
       "4  Pokemon Red/Pokemon Blue       GB             1996  role-playing     11.27   \n",
       "\n",
       "   eu_sales  jp_sales  other_sales  critic_score  user_score   rating  \\\n",
       "0     28.96     28.96         8.45          76.0         8.0        E   \n",
       "1      3.58      3.58         0.77          -1.0        -1.0  unknown   \n",
       "2     12.76     12.76         3.29          82.0         8.3        E   \n",
       "3     10.93     10.93         2.95          80.0         8.0        E   \n",
       "4      8.89      8.89         1.00          -1.0        -1.0  unknown   \n",
       "\n",
       "  user_score_ctgr critic_score_ctgr  \n",
       "0  Высокая оценка    Средняя оценка  \n",
       "1      Нет данных        Нет данных  \n",
       "2  Высокая оценка    Высокая оценка  \n",
       "3  Высокая оценка    Высокая оценка  \n",
       "4      Нет данных        Нет данных  "
      ]
     },
     "execution_count": 39,
     "metadata": {},
     "output_type": "execute_result"
    }
   ],
   "source": [
    "\n",
    "df.head()"
   ]
  },
  {
   "cell_type": "markdown",
   "id": "olkTlTlAUDR9",
   "metadata": {
    "id": "olkTlTlAUDR9"
   },
   "source": [
    "После категоризации данных сгруппируем данные по выделенным категориям и посчитаем количество игр в каждой категории."
   ]
  },
  {
   "cell_type": "code",
   "execution_count": 40,
   "id": "HW0Nsp-4UMSL",
   "metadata": {
    "id": "HW0Nsp-4UMSL"
   },
   "outputs": [
    {
     "data": {
      "text/plain": [
       "critic_score_ctgr\n",
       "Нет данных        8576\n",
       "Средняя оценка    6063\n",
       "Высокая оценка    2012\n",
       "Низкая оценка       62\n",
       "Name: name, dtype: int64"
      ]
     },
     "execution_count": 40,
     "metadata": {},
     "output_type": "execute_result"
    }
   ],
   "source": [
    "# Группируем данные по столбцу critic_score_ctgr\n",
    "df.groupby( 'critic_score_ctgr', observed=True)['name'].count().sort_values(ascending = False)"
   ]
  },
  {
   "cell_type": "code",
   "execution_count": 41,
   "id": "x2ne0HIpUMMD",
   "metadata": {
    "id": "x2ne0HIpUMMD"
   },
   "outputs": [
    {
     "data": {
      "text/plain": [
       "user_score_ctgr\n",
       "Нет данных        9123\n",
       "Средняя оценка    4857\n",
       "Высокая оценка    2588\n",
       "Низкая оценка      145\n",
       "Name: name, dtype: int64"
      ]
     },
     "execution_count": 41,
     "metadata": {},
     "output_type": "execute_result"
    }
   ],
   "source": [
    "# Группируем данные по столбцу user_score_ctgr\n",
    "df.groupby('user_score_ctgr', observed=True)['name'].count().sort_values(ascending = False)"
   ]
  },
  {
   "cell_type": "markdown",
   "id": "6a98444c",
   "metadata": {
    "id": "6a98444c"
   },
   "source": [
    "Выделим топ-7 платформ по количеству игр, выпущенных за весь актуальный период."
   ]
  },
  {
   "cell_type": "code",
   "execution_count": 42,
   "id": "e8d8a1d0",
   "metadata": {
    "id": "e8d8a1d0"
   },
   "outputs": [
    {
     "data": {
      "text/plain": [
       "PS2     2161\n",
       "DS      2151\n",
       "PS3     1331\n",
       "Wii     1320\n",
       "X360    1262\n",
       "PSP     1209\n",
       "PS      1197\n",
       "Name: platform, dtype: int64"
      ]
     },
     "execution_count": 42,
     "metadata": {},
     "output_type": "execute_result"
    }
   ],
   "source": [
    "df_platform2 = df['platform'].value_counts()\n",
    "df_platform2.head(7)"
   ]
  },
  {
   "cell_type": "markdown",
   "id": "afdee1f8-60fa-4352-a766-71b34b6aaacf",
   "metadata": {
    "id": "20175f5b"
   },
   "source": [
    "# Итоговый вывод\n",
    "В результате работы была проведена предобработка данных о продажах видеоигр, пользовательских и экспертных оценках, а также жанрах и платформах и  получен чистый и структурированный срез информации. \n",
    "Было сделано:\n",
    "1. Корректировка названий столбцов датафрейма\n",
    "2. Корректировка типа данных\n",
    "3. Поиск и работа с пропусками\n",
    "4. Удаление дубликатов\n",
    "5. Фильтрация данных (отобраны данные за период с 2000 по 2013 год включительно)\n",
    "6. Категоризация данных (в датафрейм были добавлены новые столбцы `critic_score_ctgr` и `user_score_ctgr`, которые разделили все игры по оценкам пользователей и критиков на такие категории: высокая оценка, средняя оценка и низкая оценка.\n",
    "7. Посчитаны количество игр в каждой категории по столбцам `critic_score_ctgr` и `user_score_ctgr`\n",
    "8. Выделены топ-7 платформ по количеству игр, выпущенных за весь актуальный период."
   ]
  }
 ],
 "metadata": {
  "ExecuteTimeLog": [
   {
    "duration": 423,
    "start_time": "2025-02-02T17:08:30.408Z"
   },
   {
    "duration": 90,
    "start_time": "2025-02-02T17:08:30.833Z"
   },
   {
    "duration": 21,
    "start_time": "2025-02-02T17:08:30.925Z"
   },
   {
    "duration": 18,
    "start_time": "2025-02-02T17:08:30.948Z"
   },
   {
    "duration": 4,
    "start_time": "2025-02-02T17:08:30.968Z"
   },
   {
    "duration": 30,
    "start_time": "2025-02-02T17:08:30.973Z"
   },
   {
    "duration": 27,
    "start_time": "2025-02-02T17:08:31.005Z"
   },
   {
    "duration": 7,
    "start_time": "2025-02-02T17:08:31.034Z"
   },
   {
    "duration": 6,
    "start_time": "2025-02-02T17:08:31.042Z"
   },
   {
    "duration": 7,
    "start_time": "2025-02-02T17:08:31.049Z"
   },
   {
    "duration": 6,
    "start_time": "2025-02-02T17:08:31.058Z"
   },
   {
    "duration": 21,
    "start_time": "2025-02-02T17:08:31.066Z"
   },
   {
    "duration": 13,
    "start_time": "2025-02-02T17:08:31.088Z"
   },
   {
    "duration": 19,
    "start_time": "2025-02-02T17:08:31.106Z"
   },
   {
    "duration": 15,
    "start_time": "2025-02-02T17:08:31.126Z"
   },
   {
    "duration": 14,
    "start_time": "2025-02-02T17:08:31.142Z"
   },
   {
    "duration": 11,
    "start_time": "2025-02-02T17:08:31.157Z"
   },
   {
    "duration": 39,
    "start_time": "2025-02-02T17:08:31.170Z"
   },
   {
    "duration": 11,
    "start_time": "2025-02-02T17:08:31.211Z"
   },
   {
    "duration": 191,
    "start_time": "2025-02-02T17:08:31.223Z"
   },
   {
    "duration": 174,
    "start_time": "2025-02-02T17:08:31.415Z"
   },
   {
    "duration": 11,
    "start_time": "2025-02-02T17:08:31.591Z"
   },
   {
    "duration": 54,
    "start_time": "2025-02-02T17:08:31.603Z"
   },
   {
    "duration": 25,
    "start_time": "2025-02-02T17:08:31.659Z"
   },
   {
    "duration": 32,
    "start_time": "2025-02-02T17:08:31.686Z"
   },
   {
    "duration": 28,
    "start_time": "2025-02-02T17:08:31.719Z"
   },
   {
    "duration": 10,
    "start_time": "2025-02-02T17:08:31.749Z"
   },
   {
    "duration": 5,
    "start_time": "2025-02-02T17:08:31.761Z"
   },
   {
    "duration": 49,
    "start_time": "2025-02-02T17:08:31.768Z"
   },
   {
    "duration": 19,
    "start_time": "2025-02-02T17:08:31.818Z"
   },
   {
    "duration": 16,
    "start_time": "2025-02-02T17:08:31.839Z"
   },
   {
    "duration": 14,
    "start_time": "2025-02-02T17:08:31.857Z"
   },
   {
    "duration": 15,
    "start_time": "2025-02-02T17:08:31.873Z"
   },
   {
    "duration": 99,
    "start_time": "2025-02-02T17:08:31.890Z"
   },
   {
    "duration": 27,
    "start_time": "2025-02-02T17:08:31.992Z"
   },
   {
    "duration": 5,
    "start_time": "2025-02-02T17:08:32.022Z"
   },
   {
    "duration": 15,
    "start_time": "2025-02-02T17:08:32.030Z"
   },
   {
    "duration": 260,
    "start_time": "2025-02-02T17:08:32.048Z"
   },
   {
    "duration": 15,
    "start_time": "2025-02-02T17:08:32.310Z"
   },
   {
    "duration": 19,
    "start_time": "2025-02-02T17:08:32.327Z"
   },
   {
    "duration": 8,
    "start_time": "2025-02-02T17:08:32.349Z"
   },
   {
    "duration": 35,
    "start_time": "2025-02-02T17:08:32.359Z"
   }
  ],
  "colab": {
   "provenance": []
  },
  "kernelspec": {
   "display_name": "Python 3 (ipykernel)",
   "language": "python",
   "name": "python3"
  },
  "language_info": {
   "codemirror_mode": {
    "name": "ipython",
    "version": 3
   },
   "file_extension": ".py",
   "mimetype": "text/x-python",
   "name": "python",
   "nbconvert_exporter": "python",
   "pygments_lexer": "ipython3",
   "version": "3.11.7"
  },
  "toc": {
   "base_numbering": 1,
   "nav_menu": {},
   "number_sections": true,
   "sideBar": true,
   "skip_h1_title": true,
   "title_cell": "Table of Contents",
   "title_sidebar": "Contents",
   "toc_cell": false,
   "toc_position": {},
   "toc_section_display": true,
   "toc_window_display": true
  }
 },
 "nbformat": 4,
 "nbformat_minor": 5
}
